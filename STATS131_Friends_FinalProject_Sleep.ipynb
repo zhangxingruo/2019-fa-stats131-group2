{
 "cells": [
  {
   "cell_type": "markdown",
   "metadata": {},
   "source": [
    "# 1. Background Information"
   ]
  },
  {
   "cell_type": "markdown",
   "metadata": {},
   "source": [
    "## 1.1 Data source\n",
    "- National Sleep Foundation www.sleepfoundation.org\n",
    "- 2015 Sleep in America Poll"
   ]
  },
  {
   "cell_type": "markdown",
   "metadata": {},
   "source": [
    "## 1.2 Data Collection & General Information\n",
    "The National Sleep Foundation counducted an online survey study on sleep of Americans in December 2014 and obtained answers from 1,029 non-institutionalized adults aged 18 years or older who reside in the United States. The survey asked participants about their sleep quality, attitude toward sleep, time spent in bed, estimate of actual sleep obtained, how much do they think certain factors affect their sleep quality, etc.\n",
    "Participants were selected via representative random sampling on GfK's KnowledgePanel. The KnowledgePanel initially used the Delivery Sequence File (DSF) of the United States Postal Service as the sampling frame to recruit panalists. The DSF covers almost 100% of the U.S. population. \n",
    "The study also asked participants about their perception of various types of pain. To narrow our area of interest for this project, we only used questions asking directly about sleep.   \n",
    "Because this dataset is survey data, by using it, we assume that participants' answer reflect their true situations. "
   ]
  },
  {
   "cell_type": "markdown",
   "metadata": {},
   "source": [
    "## 1.3 Objective\n",
    "College students, including our team members, experience unsatisfactory sleep quality. Especially during exam periods, our peers often express similar concerns as ourselves, that is, we do not have 'good' sleep. Accordingly, we feel tired and hard to concentrate, or maybe even experience decreasing life quality. \n",
    "One thing that we have noticed is that with the increasing usage of mobile phones, we spent quite a considerable amount of time messing with our phone in bed before actually falling asleep and after waking up. Such behavior decreased our sleep effciency, that is, the proportion of time in bed actually spent on sleeping.  \n",
    "Thus, we wonder whether sleeping efficiency has a relationship with sleep quality, as well as what are other factors that affect sleep quality. "
   ]
  },
  {
   "cell_type": "markdown",
   "metadata": {},
   "source": [
    "## 1.4 Relevant Studies & Theoretical Background\n",
    "1. Webb, W. B., Friel, J. Sleep Stage and Personality Characteristics of \"Natural\" Long and Short Sleepers. (1971). *Science, 71(3971)*, 587-588. doi: 10.1126/science.171.3971.587.\n",
    " - Defines people who sleep 5.5 hours or less per night as \"short sleepers\", and people who sleep 9.5 hours or more as \"long sleepers\"  \n",
    "  \n",
    "  \n",
    "2. Shrivastava, D., Jung, S., Saadat, M., Sirohi, R., Crewson, K. How to interpret the results of a sleep study. (2014). *J Community Hosp Intern Med Perspect, 4(5)*. doi: 10.3402/jchimp.v4.24983.\n",
    " - Defines sleep efficiency as \"percentage of total time in bed actually spent in sleep\"  \n",
    " \n",
    " \n",
    "3. Asarnow, L. D., McGlinchey, E., Harvey, A. G. The Effects of Bedtime and Sleep Duration on Academic and Emotional Outcomes in a Nationally Representative Sample of Adolescents. (2014). *J Adolesc Health, 54(3)*. 350–356. doi:  10.1016/j.jadohealth.2013.09.004. \n",
    "   \n",
    "   \n",
    "3. Scutti, S.7 Health Consequences Of Going To Bed Past Midnight.(2013). *Medical Daily*. https://www.medicaldaily.com/7-health-consequences-going-bed-past-midnight-247247."
   ]
  },
  {
   "cell_type": "markdown",
   "metadata": {},
   "source": [
    "## 1.5 Variable Description\n",
    "\n",
    "- All the values are self-reported"
   ]
  },
  {
   "cell_type": "markdown",
   "metadata": {},
   "source": [
    "1. Q10_a: sleep quality, 5-point Likert Scale (1: very poor, 2: poor, 3: fair, 4: good, 5: very good)\n",
    "2. DOV_WEEKTIME: average minutes spent in bed per day on weekdays\n",
    "3. DOV_WEEKEND: average minutes spent in bed per day on weekends\n",
    "4. DOV_TOTALWEEK: estimate of actual sleep obtained per day on weekdays (in minutes)\n",
    "5. DOV_TOTALWEEK: estimate of actual sleep obtained per day on weekendss (in minutes)\n",
    "6. Q2_ampmA: whether time went to bed on weekdays is a.m. or p.m.\n",
    "7. Q3_ampmA: whether time went to bed on weekends is a.m. or p.m.\n",
    "8. Q14a: how often do health problems make it difficult to get a good night’s sleep, 5-point Likert Scale (1: never, 2: rarely, 3: sometimes, 4: often, 5: always)\n",
    "9. Q15_a: how often does outside noise (ex: street noise, sirens) make it more difficult to get a good night's sleep, 5-point Likert Scale (1: never, 2: rarely, 3: sometimes, 4: often, 5: always)\n",
    "10. Q15_b: how often does inside noise (ex: television, other people, snoring) make it more difficult to get a good night's sleep, 5-point Likert Scale (1: never, 2: rarely, 3: sometimes, 4: often, 5: always)\n",
    "11. Q15_c: how often does light (from either inside or outside) make it more difficult to get a good night's sleep, 5-point Likert Scale (1: never, 2: rarely, 3: sometimes, 4: often, 5: always)\n",
    "12. Q15_d: how often does temperature (too hot or too cold) make it more difficult to get a good night's sleep, 5-point Likert Scale (1: never, 2: rarely, 3: sometimes, 4: often, 5: always)\n",
    "13. Q15_e: how often does temperature (uncomfortable mattress) make it more difficult to get a good night's sleep, 5-point Likert Scale (1: never, 2: rarely, 3: sometimes, 4: often, 5: always)\n",
    "14. Q16: how motivated to make sure have enough time to sleep, 5-point Likert Scale (1: extremely motivated, 2: very motivated, 3: somewhat motivated, 4: not that motivated, 5: not motivated at all)\n",
    "15. Q17: how important a part of routine is going to bed at a suitable time, 5-point Likert Scale (1: extremely , 2: very important, 3: somewhat important, 4: not that important, 5: not important at all)\n",
    "16. Q22: whether have been diagnosed sleep disorder (Yes/No)\n",
    "17. Q23: answered only if answer for Q22 is 'Yes', what type of sleep disorder (3 choices: sleep apnea, insomnia, other sleep disorder)"
   ]
  },
  {
   "cell_type": "markdown",
   "metadata": {},
   "source": [
    "Due to the different directions of the rating scale for different questions, we reverse coded some of the variables  in order to make 5 mean 'the most' and 1 mean 'the least' for all the variables. \n",
    "Also, we constructed a few new varibles to quantify features related to sleep and sleep quality. \n",
    "The procedures will be carefully discussed in the *Exploratory Data Analysis* section.  "
   ]
  },
  {
   "cell_type": "markdown",
   "metadata": {},
   "source": [
    "# 2. Exploratory Data Analysis"
   ]
  },
  {
   "cell_type": "code",
   "execution_count": null,
   "metadata": {},
   "outputs": [],
   "source": [
    "# Import packages\n",
    "import numpy as np\n",
    "import pandas as pd\n",
    "import os\n",
    "import statsmodels.formula.api as smf\n",
    "import matplotlib.pyplot as plt\n",
    "import seaborn as sns\n",
    "import dexplot as dxp\n",
    "from IPython.core.interactiveshell import InteractiveShell\n",
    "from patsy import dmatrices\n",
    "import statsmodels.api as sm\n",
    "from statsmodels.stats.outliers_influence import variance_inflation_factor\n",
    "from tqdm import tnrange, tqdm_notebook\n",
    "import itertools\n",
    "import time\n",
    "import numpy as np\n",
    "import pandas as pd\n",
    "import seaborn as sns\n",
    "import statsmodels.api as sm\n",
    "import matplotlib.pyplot as plt\n",
    "from sklearn import linear_model\n",
    "from sklearn.metrics import mean_squared_error\n",
    "from sklearn.tree import DecisionTreeRegressor\n",
    "from sklearn import metrics\n",
    "from sklearn.model_selection import train_test_split \n",
    "from sklearn.tree import DecisionTreeClassifier\n",
    "from sklearn.externals.six import StringIO  \n",
    "from IPython.display import Image  \n",
    "from sklearn.tree import export_graphviz\n",
    "import pydotplus\n",
    "from sklearn import tree\n",
    "from sklearn.tree import export_graphviz\n",
    "from sklearn.externals.six import StringIO  \n",
    "from IPython.display import Image  \n",
    "import pydotplus\n",
    "from IPython.core.interactiveshell import InteractiveShell\n",
    "InteractiveShell.ast_node_interactivity = \"all\"\n",
    "from sklearn.metrics import roc_auc_score, accuracy_score, precision_score, recall_score, f1_score\n",
    "from sklearn.linear_model import LogisticRegression\n",
    "from sklearn.tree import DecisionTreeClassifier\n",
    "from sklearn.svm import SVC\n",
    "from sklearn.ensemble import RandomForestClassifier\n",
    "from sklearn.discriminant_analysis import LinearDiscriminantAnalysis, QuadraticDiscriminantAnalysis\n",
    "from sklearn.cluster import KMeans\n",
    "from sklearn.neighbors import KNeighborsClassifier\n",
    "from sklearn.naive_bayes import GaussianNB\n",
    "from sklearn.metrics import precision_recall_fscore_support\n",
    "from sklearn.metrics import mean_squared_error as mse\n",
    "from sklearn.preprocessing import StandardScaler\n",
    "from sklearn.model_selection import cross_validate\n",
    "from sklearn.model_selection import train_test_split\n",
    "from sklearn.ensemble import ExtraTreesClassifier\n",
    "from sklearn.feature_selection import SelectFromModel\n",
    "from sklearn.svm import LinearSVC\n",
    "from sklearn.ensemble import VotingClassifier\n",
    "from sklearn.feature_selection import RFECV\n",
    "from sklearn.preprocessing import label_binarize\n",
    "import warnings\n",
    "warnings.filterwarnings('ignore')"
   ]
  },
  {
   "cell_type": "code",
   "execution_count": null,
   "metadata": {},
   "outputs": [],
   "source": [
    "# Load data\n",
    "sleep = pd.read_excel(\"2015SleepinAmericaPollSleepandPainRawDataExcel.xlsx\")"
   ]
  },
  {
   "cell_type": "markdown",
   "metadata": {},
   "source": [
    "## 2.1 Data Cleaning & Variable Construction"
   ]
  },
  {
   "cell_type": "markdown",
   "metadata": {},
   "source": [
    "In the original data, 'refuse to answer' was encoded as -1. In the meantime, except for the conditional questions, few missing values were present. Our first data cleaning procedure was filtering out observations have values missing for our major variables of interests: time in bed and actual sleep data."
   ]
  },
  {
   "cell_type": "code",
   "execution_count": null,
   "metadata": {},
   "outputs": [],
   "source": [
    "# Filter out observations without data for key variables of interets: time in bed and actual sleep data\n",
    "sleep = sleep.loc[~(sleep.DOV_WEEKTIME.isna() | sleep.DOV_WEEKEND.isna() | sleep.DOV_TOTALWEEK.isna() | sleep.DOV_TOTALWEEKEND.isna())]"
   ]
  },
  {
   "cell_type": "markdown",
   "metadata": {},
   "source": [
    "In order to facilitate our study on sleep, we constrcuted some new variables by combining and mutating the raw variables. Since data on 'time in bed' and 'actual sleep' were collected seperately for weekdays and weekends in the original dataset, we calculated the average of time in bed and actual sleep throughout the week to obtain a more general picture of participants' sleep.  \n",
    "\n",
    "After that, we created a new variable called 'sleep efficiency' by dividing average actual sleep per day by average in bed hours per day. The definition of sleep efficiency is given in the *Backgroud Information* section.  \n",
    "\n",
    "We found that 86 participants have sleep efficiency > 1. Because the time spent on actual sleep was given as an estimate, we believe it is safe to assume that this discrepancy comes from estimation, and these participants have decent sleep efficiency. Therefore, for sleep efficiency larger than 1, we recoded it to 1."
   ]
  },
  {
   "cell_type": "code",
   "execution_count": null,
   "metadata": {},
   "outputs": [],
   "source": [
    "# average hours in bed per day\n",
    "sleep['avg_bed'] = (sleep.DOV_WEEKTIME/ 60 * 5 + sleep.DOV_WEEKEND / 60 * 2)/ 7\n",
    "# average actual sleep in hours per day\n",
    "sleep['avg_actual_sleep'] = (sleep.DOV_TOTALWEEK/ 60 * 5 + sleep.DOV_TOTALWEEKEND / 60 * 2)/ 7\n",
    " \n",
    "# Define sleep efficiency as average actual sleep per day/average sleep hours per day\n",
    "sleep['sleep_efficiency'] = sleep.avg_actual_sleep/sleep.avg_bed\n",
    "sleep.loc[sleep.sleep_efficiency > 1].shape[0]\n",
    "sleep.loc[sleep.sleep_efficiency > 1, 'sleep_efficiency'] = 1"
   ]
  },
  {
   "cell_type": "markdown",
   "metadata": {},
   "source": [
    "We divided people who go to bed before and after 12 am into two categories, encoded as \"Before Mid-night\" and \"After Mid-night' (respectively for weekdays and weekends)."
   ]
  },
  {
   "cell_type": "code",
   "execution_count": null,
   "metadata": {},
   "outputs": [],
   "source": [
    "# Whether the person go to bed before or after mid-night on weekdays\n",
    "sleep['before_mnt_week'] = 'Before Mid-night'\n",
    "sleep.before_mnt_week.loc[sleep.Q2_ampmA == 1] = 'After Mid-night'\n",
    "# Whether the person go to bed before or after mid-night on weekends\n",
    "sleep['before_mnt_weekend'] = 'Before Mid-night'\n",
    "sleep.before_mnt_weekend.loc[sleep.Q3_ampmA == 1] = 'After Mid-night'"
   ]
  },
  {
   "cell_type": "markdown",
   "metadata": {},
   "source": [
    "Furthermore, we created a dummy variable that divides people with regards to whether they are 'sensitive' to environmental factors. The idea comes from our latter analysis that indicates participants' rating of effect of the five environmental factors are positively correlated. From there, we made this decision to combine this 5 variable and get a sense of which people are generally sensitive to environmental factors. People who have an average rating >= 4 for the effects of the 5 environmental factors are considered sensitive, and the newly constructed variable is called 'sensitive'.\n",
    "\n",
    "*We include this variable construction procedure here instead of later to optimize the consistency of our work.We will have a more thorough discussion about this new variable later* "
   ]
  },
  {
   "cell_type": "code",
   "execution_count": null,
   "metadata": {},
   "outputs": [],
   "source": [
    "# Sensitive to Environmental Factors\n",
    "sleep['environ_sensitive'] = sleep.loc[:,['Q15_a', 'Q15_b','Q15_c', 'Q15_d', 'Q15_e']].mean(axis = 1)\n",
    "sleep['sensitive'] = 0\n",
    "sleep.sensitive.loc[sleep.environ_sensitive >= 4] = 1"
   ]
  },
  {
   "cell_type": "markdown",
   "metadata": {},
   "source": [
    "As mentioned in the last section, we reverse coded some variables to make 5 always mean 'the most' and 1 always mean 'the least'. The two variables reverse coded are \"Motivation to make sure you have enough time to sleep (Q16)\" and \"Importance of going to bed at a suitable time (Q17)\". Once the reverse coding was done, '_rev' was added to the variable name. We noted that after the reverse coding, '-1' that represented 'refused to answer' was transformed into '7'. "
   ]
  },
  {
   "cell_type": "code",
   "execution_count": null,
   "metadata": {},
   "outputs": [],
   "source": [
    "# Reverse Coding\n",
    "def reverse_code(col):\n",
    "    return col.max() - col + 1\n",
    "# Motivation to make sure you have enough time to sleep\n",
    "sleep['Q16_rev'] = reverse_code(sleep.Q16)\n",
    "\n",
    "# Importance of going to bed at a suitable time\n",
    "sleep['Q17_rev'] = reverse_code(sleep.Q17)"
   ]
  },
  {
   "cell_type": "markdown",
   "metadata": {},
   "source": [
    "In the original data set, for Q22 that asked whether the participants have been diagnosed sleep disorder, Yes was encoded as 1, and No was encoded as 2. To make the data more intuitive, we recoded 2 to 0. "
   ]
  },
  {
   "cell_type": "code",
   "execution_count": null,
   "metadata": {},
   "outputs": [],
   "source": [
    "# Sleep Disorders\n",
    "sleep['Q22_rev'] = sleep.Q22\n",
    "sleep.loc[sleep.Q22 == 2, 'Q22_rev'] = 0"
   ]
  },
  {
   "cell_type": "markdown",
   "metadata": {},
   "source": [
    "## 2.2 Individual Variables "
   ]
  },
  {
   "cell_type": "markdown",
   "metadata": {},
   "source": [
    "### 2.2.1 Sleep Quality"
   ]
  },
  {
   "cell_type": "markdown",
   "metadata": {},
   "source": [
    "We started to look into the key variable: sleep quality (range from 1-5 as 5 being highest quality) by using the summary statistics and a count plot, and found out most people fall into the 3-4 region. "
   ]
  },
  {
   "cell_type": "code",
   "execution_count": null,
   "metadata": {},
   "outputs": [],
   "source": [
    "# Summary Statistics of Sleep Quality\n",
    "sleep.Q10_a.describe()"
   ]
  },
  {
   "cell_type": "code",
   "execution_count": null,
   "metadata": {},
   "outputs": [],
   "source": [
    "fig = plt.figure(figsize = [8,6])\n",
    "sns.countplot(x=\"Q10_a\", data=sleep)\n",
    "plt.xlabel('Sleep Quality');"
   ]
  },
  {
   "cell_type": "markdown",
   "metadata": {},
   "source": [
    "### 2.2.2 Average Hours in Bed Per Day"
   ]
  },
  {
   "cell_type": "markdown",
   "metadata": {},
   "source": [
    "For average hours in bed per day, we plotted a histogram with the kde distribution overlayed on it to take a look of the variable's distribution. We found out that the distribution is relatively normal, and the mean average hours in bed is 8.14 per day for the particiapnts."
   ]
  },
  {
   "cell_type": "code",
   "execution_count": null,
   "metadata": {},
   "outputs": [],
   "source": [
    "# Summary Statistics of Average Hours in Bed Per Day\n",
    "sleep.avg_bed.describe()"
   ]
  },
  {
   "cell_type": "code",
   "execution_count": null,
   "metadata": {},
   "outputs": [],
   "source": [
    "fig = plt.figure(figsize = [8,6])\n",
    "sns.distplot(sleep.avg_bed, \n",
    "             hist = True, kde = True,\n",
    "             hist_kws={'edgecolor':'black'},\n",
    "             kde_kws={'linewidth': 3})\n",
    "\n",
    "plt.xlabel('Average Hours in Bed Per Day');"
   ]
  },
  {
   "cell_type": "markdown",
   "metadata": {},
   "source": [
    "**Outliers**  \n",
    "We extract outliers with very high hours in bed and very low hours in bed by applying statistical definition of outlier. We took a closer look at those outliers using summary statistics and count plots of their sleep quality. We found that for people with very low hours in bed, more people had lower quality. At the same time, for people with high hours in bed, their ratings of their sleep quality is not very different from those of the general population.\n",
    "The findings are consistent with common belief about sleep. "
   ]
  },
  {
   "cell_type": "code",
   "execution_count": null,
   "metadata": {},
   "outputs": [],
   "source": [
    "plt.figure(figsize = [12,6])\n",
    "\n",
    "# Extract lower outliers for hours in bed\n",
    "bed_Q1 = sleep['avg_bed'].quantile(0.25)\n",
    "bed_Q3 = sleep['avg_bed'].quantile(0.75)\n",
    "IQR = bed_Q3 - bed_Q1\n",
    "bed_outlier_lower = sleep[(sleep.avg_bed <= bed_Q1 - 1.5 * IQR)]\n",
    "print('Number of People with Very Low Hours in Bed: ' + str(bed_outlier_lower.shape[0]))\n",
    "print('Sleep Quality of People with Very Low Hours in Bed')\n",
    "print(bed_outlier_lower.Q10_a.describe())\n",
    "bed_outlier_upper = sleep[(sleep.avg_bed >= bed_Q1 + 1.5 * IQR)]\n",
    "print('Number of People with Very High Hours in Bed: ' + str(bed_outlier_upper.shape[0]))\n",
    "print('Sleep Quality of People with Very High Hours in Bed')\n",
    "print(bed_outlier_upper.Q10_a.describe())\n",
    "\n",
    "# Sleep quality of people with very low hours in bed\n",
    "plt.subplot(1,2,1)\n",
    "sns.countplot(x=\"Q10_a\", data=bed_outlier_lower)\n",
    "plt.xlabel('Sleep Quality', fontsize = 20)\n",
    "plt.ylabel('Count', fontsize = 20)\n",
    "plt.title('Sleep Quality of People with Very Low Hours in Bed', fontsize = 14)\n",
    "\n",
    "# Sleep quality of people with very low hours in bed\n",
    "plt.subplot(1,2,2)\n",
    "sns.countplot(x=\"Q10_a\", data=bed_outlier_upper)\n",
    "plt.xlabel('Sleep Quality', fontsize = 20)\n",
    "plt.ylabel('Count', fontsize = 20)\n",
    "plt.title('Sleep Quality of People with Very High Hours in Bed', fontsize = 14);"
   ]
  },
  {
   "cell_type": "markdown",
   "metadata": {},
   "source": [
    "### 2.2.3 Average Actual Sleep Per Day"
   ]
  },
  {
   "cell_type": "markdown",
   "metadata": {},
   "source": [
    "We again used histogram and summary statistics to look at participants' average actual sleep per day. On average, participant indicated that they got around 7.03 hours of actual sleep per day, which is about 1.1 hours less that their hours in bed. "
   ]
  },
  {
   "cell_type": "code",
   "execution_count": null,
   "metadata": {},
   "outputs": [],
   "source": [
    "# Summary Statistics of Average Actual Sleep Per Day\n",
    "sleep.avg_actual_sleep.describe()"
   ]
  },
  {
   "cell_type": "code",
   "execution_count": null,
   "metadata": {
    "scrolled": true
   },
   "outputs": [],
   "source": [
    "fig = plt.figure(figsize = [8,6])\n",
    "sns.distplot(sleep.avg_actual_sleep, \n",
    "             hist = True, kde = True,\n",
    "             hist_kws={'edgecolor':'black'},\n",
    "             kde_kws={'linewidth': 3})\n",
    "\n",
    "plt.xlabel('Average Actual Sleep Per Day');"
   ]
  },
  {
   "cell_type": "markdown",
   "metadata": {},
   "source": [
    "**Outliers**  \n",
    "We extracted and explored outliers with very high hours of actual sleep and very low hours of actual sleep using the same prodedure as above. We found that for people with very low hours of actual sleep, more people had lower sleep quality. At the same time, for people with high hours of actual sleep, their ratings of their sleep quality concentrate on 4. The findings are consistent with common belief about sleep."
   ]
  },
  {
   "cell_type": "code",
   "execution_count": null,
   "metadata": {},
   "outputs": [],
   "source": [
    "plt.figure(figsize = [12,6])\n",
    "\n",
    "# Extract lower outliers for hours in bed\n",
    "actual_sleep_Q1 = sleep['avg_actual_sleep'].quantile(0.25)\n",
    "actual_sleep_Q3 = sleep['avg_actual_sleep'].quantile(0.75)\n",
    "IQR = actual_sleep_Q3 - actual_sleep_Q1\n",
    "actual_sleep_outlier_lower = sleep[(sleep.avg_actual_sleep <= bed_Q1 - 1.5 * IQR)]\n",
    "print('Number of People with Very Little Actual Sleep: ' + str(actual_sleep_outlier_lower.shape[0]))\n",
    "print('Sleep Quality of People with Very Little Actual Sleep')\n",
    "print(actual_sleep_outlier_lower.Q10_a.describe())\n",
    "actual_sleep_outlier_upper = sleep[(sleep.avg_actual_sleep >= bed_Q1 + 1.5 * IQR)]\n",
    "print('Number of People with Very Much Actual Sleep: ' + str(actual_sleep_outlier_upper.shape[0]))\n",
    "print('Sleep Quality of People with Very Much Actual Sleep')\n",
    "print(actual_sleep_outlier_upper.Q10_a.describe())\n",
    "\n",
    "# Sleep quality of people with very little actual sleep\n",
    "plt.subplot(1,2,1)\n",
    "sns.countplot(x=\"Q10_a\", data = actual_sleep_outlier_lower)\n",
    "plt.xlabel('Sleep Quality', fontsize = 20)\n",
    "plt.ylabel('Count', fontsize = 20)\n",
    "plt.title('Sleep Quality of People with Very Little Actual Sleep', fontsize = 14)\n",
    "\n",
    "# Sleep quality of people with very much actual sleep\n",
    "plt.subplot(1,2,2)\n",
    "sns.countplot(x=\"Q10_a\", data=actual_sleep_outlier_upper)\n",
    "plt.xlabel('Sleep Quality', fontsize = 20)\n",
    "plt.ylabel('Count', fontsize = 20)\n",
    "plt.title('Sleep Quality of People with Very Much Actual Sleep', fontsize = 14);"
   ]
  },
  {
   "cell_type": "markdown",
   "metadata": {},
   "source": [
    "### 2.2.4 Sleep Efficiency"
   ]
  },
  {
   "cell_type": "markdown",
   "metadata": {},
   "source": [
    "The distribution of sleep efficiency is very left skewed with a mean of 86.8%, and most people fall in the 80% - 100% range. "
   ]
  },
  {
   "cell_type": "code",
   "execution_count": null,
   "metadata": {},
   "outputs": [],
   "source": [
    "# Summary Statistics of Sleep Efficiency\n",
    "sleep.sleep_efficiency.describe()"
   ]
  },
  {
   "cell_type": "code",
   "execution_count": null,
   "metadata": {},
   "outputs": [],
   "source": [
    "fig = plt.figure(figsize = [8,6])\n",
    "sns.distplot(sleep.sleep_efficiency, \n",
    "             hist = True, kde = True,\n",
    "             hist_kws={'edgecolor':'black'},\n",
    "             kde_kws={'linewidth': 3})\n",
    "\n",
    "plt.xlabel('Sleep Efficiency');"
   ]
  },
  {
   "cell_type": "markdown",
   "metadata": {},
   "source": [
    "**Outliers**  \n",
    "Because the distribution of sleep efficiency is left skewed with many 100% present, we only zoomed into people with very low sleep efficiency. From the count plot and the summary statistics, we saw that their ratings of their sleep quality is not extreme, just a little bit lower than the general population. "
   ]
  },
  {
   "cell_type": "code",
   "execution_count": null,
   "metadata": {},
   "outputs": [],
   "source": [
    "plt.figure(figsize = [8,6])\n",
    "\n",
    "# Extract lower outliers for sleep efficiency \n",
    "eff_Q1 = sleep['sleep_efficiency'].quantile(0.25)\n",
    "eff_Q3 = sleep['sleep_efficiency'].quantile(0.75)\n",
    "IQR = eff_Q3 - eff_Q1\n",
    "eff_outlier_lower = sleep[(sleep.sleep_efficiency <= eff_Q1 - 1.5 * IQR)]\n",
    "print('Number of People with Very Little Actual Sleep: ' + str(eff_outlier_lower.shape[0]))\n",
    "print(eff_outlier_lower.Q10_a.describe())\n",
    "\n",
    "# Sleep quality of people with very low sleep efficiency\n",
    "sns.countplot(x=\"Q10_a\", data=eff_outlier_lower)\n",
    "plt.xlabel('Sleep Quality', fontsize = 20)\n",
    "plt.ylabel('Count', fontsize = 20)\n",
    "plt.title('Sleep Quality of People with Very Low Sleep Efficiency', fontsize = 20);"
   ]
  },
  {
   "cell_type": "markdown",
   "metadata": {},
   "source": [
    "**Overall Discussion on Outliers:**  \n",
    "We kept all the outliers in our exploration since none of them show significantly abnormal or counter-intuitive features that we need to caution against. We believe that they identify special groups within the participants, and incorporating them enables us to capture variation within the participants. "
   ]
  },
  {
   "cell_type": "markdown",
   "metadata": {},
   "source": [
    "## 2.3 Relationship between Variables"
   ]
  },
  {
   "cell_type": "markdown",
   "metadata": {},
   "source": [
    "### 2.3.1 Sleep Efficiency & Sleep Quality"
   ]
  },
  {
   "cell_type": "markdown",
   "metadata": {},
   "source": [
    "We group participants by their sleep quality and created a kde plot of each group's sleep efficiency. From the plot, we found a trend that as the sleep quality increases, the center of sleep efficiency is higher, in other words, people with higher sleep quality tend to have higher sleep efficiency."
   ]
  },
  {
   "cell_type": "code",
   "execution_count": null,
   "metadata": {},
   "outputs": [],
   "source": [
    "fig = plt.figure(figsize = [8,6])\n",
    "\n",
    "for i in range(1,6): \n",
    "    sns.distplot(sleep.sleep_efficiency.loc[sleep.Q10_a == i], label = 'sleep quality = ' + str(i), hist = False, kde=True, \n",
    "             hist_kws={'edgecolor':'black'},\n",
    "             kde_kws={'linewidth': 3})\n",
    "plt.legend();"
   ]
  },
  {
   "cell_type": "markdown",
   "metadata": {},
   "source": [
    "### 2.3.2 Average Hours in Bed & Sleep Quality"
   ]
  },
  {
   "cell_type": "markdown",
   "metadata": {},
   "source": [
    "Below is a kernel density distribution of average bedtime for five different sleep quality. While people with sleep quality 1-4 have very similar kernel distributions, we found out that for people with very low sleep quality (sleep quality = 1), their sleep efficiency is more spread out."
   ]
  },
  {
   "cell_type": "code",
   "execution_count": null,
   "metadata": {},
   "outputs": [],
   "source": [
    "fig = plt.figure(figsize = [8,6])\n",
    "\n",
    "for i in range(1,6): \n",
    "    sns.distplot(sleep.avg_bed.loc[sleep.Q10_a == i], label = 'sleep quality = ' + str(i), hist = False, kde=True, \n",
    "             hist_kws={'edgecolor':'black'},\n",
    "             kde_kws={'linewidth': 3})\n",
    "plt.legend();"
   ]
  },
  {
   "cell_type": "markdown",
   "metadata": {},
   "source": [
    "### 2.3.3 Average Acutal Sleep & Sleep Quality"
   ]
  },
  {
   "cell_type": "markdown",
   "metadata": {},
   "source": [
    "Now, we want to study the relationship between sleep quality and average actual sleep hours. Below we divided people into three categories: short sleepers (less than 5.5 hours), normal sleepers (5.5 - 9.5 hours), long sleepers (above 9.5 hours). The thresholds are defined in a paper mentioned in the *backgroud information* section and used bar plots to investivage their sleep quality. \n",
    "We found that the distributions of sleep quality for long sleepers and 'moderate' sleepers are very similar, but the sleep quality of short sleepers concentrates on relatively lower ratings. "
   ]
  },
  {
   "cell_type": "code",
   "execution_count": null,
   "metadata": {},
   "outputs": [],
   "source": [
    "sleep['avg_bed_cat']=sleep['avg_bed']\n",
    "sleep['avg_bed_cat'].loc[sleep.avg_bed <= 5.5] = \"(1) <= 5.5 hours\"\n",
    "sleep['avg_bed_cat'].loc[(sleep.avg_bed > 5.5) & (sleep.avg_bed < 9.5)]= \"(2) 5.5 - 9.5 hours\"\n",
    "sleep['avg_bed_cat'].loc[sleep.avg_bed >= 9.5] = \"(3) >= 10 hours\"\n",
    "\n",
    "bar_data_avg_bed = sleep.groupby('avg_bed_cat', ).Q10_a.value_counts(normalize=True).unstack()\n",
    "bar_data_avg_bed.plot(rot=0, kind = 'bar',title = 'Sleep Quality v.s. Average Actual Sleep', figsize=(12,6))\n",
    "plt.legend(loc = 'upper left', title = 'Sleep Quality')\n",
    "plt.xlabel('Average Actual Sleep');"
   ]
  },
  {
   "cell_type": "markdown",
   "metadata": {},
   "source": [
    "### 2.3.4 Time Go to Bed & Sleep Efficiency"
   ]
  },
  {
   "cell_type": "markdown",
   "metadata": {},
   "source": [
    "As discussed in the *Background Information* section, since many studies show that time go to bed is important for sleep quality. To group people who go to time at different times, we separated people into two categories: Before Midnight (go to sleep before 12 am) and After Midnight (go to sleep after 12 am). We acknowledged that people might go to bed on different times on weekdays and on weekends, so we explored the two time frames separately. From the density plots, we found out that people who go to bed after midnight tend to have a higher sleep efficiency than people who go to bed before midnight, both on weekdays and on weekends. \n",
    "It is somehow surprising to find that going to bed late might actually have some positive association with sleep quality. "
   ]
  },
  {
   "cell_type": "code",
   "execution_count": null,
   "metadata": {
    "scrolled": true
   },
   "outputs": [],
   "source": [
    "fig = plt.figure(figsize = [12,6])\n",
    "\n",
    "# Weekdays\n",
    "ax = fig.add_subplot(121)\n",
    "sns.distplot(sleep.sleep_efficiency.loc[sleep.before_mnt_week == 'Before Mid-night'], label = 'Before Mid-night', hist = False, kde=True, \n",
    "             hist_kws={'edgecolor':'black'},\n",
    "             kde_kws={'linewidth': 3, \"shade\": True},\n",
    "            ax = ax)\n",
    "\n",
    "sns.distplot(sleep.sleep_efficiency.loc[sleep.before_mnt_week == 'After Mid-night'], label = 'After Mid-night', hist = False, kde=True, \n",
    "             hist_kws={'edgecolor':'black'},\n",
    "             kde_kws={'linewidth': 3, \"shade\": True},\n",
    "            ax = ax)\n",
    "\n",
    "plt.title('Sleep Efficiency on Weekdays')\n",
    "plt.legend(loc = 'upper left', title = 'Time Go To Bed')\n",
    "plt.xlabel('Sleep Efficiency')\n",
    "\n",
    "# Weekends\n",
    "ax = fig.add_subplot(122)\n",
    "sns.distplot(sleep.sleep_efficiency.loc[sleep.before_mnt_weekend == 'Before Mid-night'], label = 'Before Mid-night', hist = False, kde=True, \n",
    "             hist_kws={'edgecolor':'black'},\n",
    "             kde_kws={'linewidth': 3, \"shade\": True},\n",
    "            ax = ax)\n",
    "\n",
    "sns.distplot(sleep.sleep_efficiency.loc[sleep.before_mnt_weekend == 'After Mid-night'], label = 'After Mid-night', hist = False, kde=True, \n",
    "             hist_kws={'edgecolor':'black'},\n",
    "             kde_kws={'linewidth': 3, \"shade\": True},\n",
    "            ax = ax)\n",
    "plt.title('Sleep Efficiency on Weekends')\n",
    "plt.legend(loc = 'upper left',title = 'Time Go To Bed')\n",
    "plt.xlabel('Sleep Efficiency');"
   ]
  },
  {
   "cell_type": "markdown",
   "metadata": {},
   "source": [
    "### 2.3.5 Time Go to Bed & Sleep Quality"
   ]
  },
  {
   "cell_type": "markdown",
   "metadata": {},
   "source": [
    "Since we have found that sleep efficiency has a positive relationship with sleep quality, and going to bed after midnight has a positive relationship with sleep efficiency, we wondered whether that going to bed after midnight has a positive relationship with sleep quality due to the increasing sleep efficiency. \n",
    "However, we see that people who went to bed after midnight tend to have lower sleep quality than people who went to bed before midnight. Seemingly, the positive influence of going to bed late on sleep efficiency could not compensate for its detrimental effect on sleep quality. "
   ]
  },
  {
   "cell_type": "code",
   "execution_count": null,
   "metadata": {},
   "outputs": [],
   "source": [
    "fig = plt.figure(figsize = [12,12])\n",
    "\n",
    "# Weekdays\n",
    "ax = fig.add_subplot(221)\n",
    "bar_data_week = sleep.groupby('Q10_a').before_mnt_week.value_counts(normalize=True).unstack()\n",
    "bar_data_week.plot(rot=0, kind = 'bar',title = 'Sleep Quality on Weekdays', stacked = True, ax = ax)\n",
    "plt.legend(title = 'Time Go To Bed')\n",
    "plt.xlabel('Sleep Quality')\n",
    "plt.ylabel('Percentage')\n",
    "\n",
    "# Weekends\n",
    "ax = fig.add_subplot(223)\n",
    "bar_data_weekend = sleep.groupby('Q10_a').before_mnt_weekend.value_counts(normalize=True).unstack()\n",
    "bar_data_weekend.plot(rot=0, kind = 'bar',title = 'Sleep Quality on Weekends', stacked = True, ax = ax)\n",
    "plt.legend(title = 'Time Go To Bed')\n",
    "plt.xlabel('Sleep Quality')\n",
    "plt.ylabel('Percentage')\n",
    "\n",
    "# Weekdays\n",
    "ax = fig.add_subplot(222)\n",
    "bar_data_week2 = sleep.groupby('before_mnt_week').Q10_a.value_counts(normalize=True).unstack()\n",
    "bar_data_week2.plot(rot=0, kind = 'bar', title = 'Sleep Quality on Weekdays', stacked = True, ax = ax)\n",
    "plt.legend(title = 'Sleep Quality')\n",
    "plt.xlabel('Time Go to Bed')\n",
    "plt.ylabel('Percentage')\n",
    "\n",
    "\n",
    "# Weekends\n",
    "ax = fig.add_subplot(224)\n",
    "bar_data_weekend2 = sleep.groupby('before_mnt_weekend').Q10_a.value_counts(normalize=True).unstack()\n",
    "\n",
    "bar_data_weekend2.plot(rot=0, kind = 'bar',title = 'Sleep Quality on Weekends', stacked = True, ax = ax)\n",
    "plt.legend(title = 'Sleep Quality')\n",
    "plt.xlabel('Time Go to Bed')\n",
    "plt.ylabel('Percentage')\n",
    "\n",
    "plt.show();"
   ]
  },
  {
   "cell_type": "markdown",
   "metadata": {},
   "source": [
    "### 2.3.6 Sleep Disorders & Sleep Quality"
   ]
  },
  {
   "cell_type": "markdown",
   "metadata": {},
   "source": [
    "We are interested in sleep disorders that participants possess. The survey asked participants whether they have been diagnosed sleep disorders or not and then specify the type of discorder they have if the anwer is yes.  \n",
    "From the first pie chart below, we can see that 10.8% of the participants who finished the survey have been diagnosed with sleep disorders. And the second pie chart shows among those people who have a sleep disorder, the mojotiry, 73.7%, have Apnea. "
   ]
  },
  {
   "cell_type": "code",
   "execution_count": null,
   "metadata": {},
   "outputs": [],
   "source": [
    "fig = plt.figure(figsize = [12,6])\n",
    "plt.subplot(1,2,1)\n",
    "\n",
    "labels = 'Have Disorder','No disorder'\n",
    "sizes = [sleep.Q22_rev.value_counts()[0], sleep.Q22_rev.value_counts()[1]]\n",
    "plt.axis('equal')\n",
    "plt.pie(sizes, labels=labels,radius=1.5,autopct='%0.1f%%',shadow=True,explode=[0.1,0],textprops={'fontsize': 14})\n",
    "plt.title('Participants with Sleep Disorders', y = 0.9, size = 16)\n",
    "\n",
    "labels = 'Apenea', 'Insomnia', 'Other'\n",
    "sizes = [sleep['Q23_a'].value_counts()[1], sleep['Q23_b'].value_counts()[1],sleep['Q23_c'].value_counts()[1]]\n",
    "plt.subplot(1,2,2)\n",
    "plt.axis('equal')\n",
    "plt.pie(sizes, labels=labels, radius=1.5,autopct='%0.1f%%',shadow=True,explode=[0.1,0,0], textprops = {'fontsize': 14})\n",
    "plt.title('Proportion of Each Disorder', y = 0.9, size = 16)\n",
    "plt.tight_layout(w_pad = 4);"
   ]
  },
  {
   "cell_type": "markdown",
   "metadata": {},
   "source": [
    "When we focus on people who have been diagnosed sleep disorder, their sleep quality is relatively lower than people without disorder if we look at the distribution. "
   ]
  },
  {
   "cell_type": "code",
   "execution_count": null,
   "metadata": {},
   "outputs": [],
   "source": [
    "bar_data_disorder = sleep.loc[sleep.Q22_rev != -1].groupby('Q22_rev').Q10_a.value_counts(normalize=True).unstack()\n",
    "bar_data_disorder.plot(rot=0, kind = 'bar',title = 'Sleep Quality v.s. Sleep Disorders', figsize=(8,6))\n",
    "plt.legend(loc = 'upper left', title = 'Sleep Quality')\n",
    "plt.xticks([0,1], ['No Disorder', 'Have Discorder'])\n",
    "plt.xlabel('Sleep Disorder');"
   ]
  },
  {
   "cell_type": "markdown",
   "metadata": {},
   "source": [
    "### 2.3.7 Other Factors Correlated with Sleep Quality"
   ]
  },
  {
   "cell_type": "markdown",
   "metadata": {},
   "source": [
    "Scrutinizing our original dataset, we also want to explore other factors that could possibly affect sleep quality. We extracted variables that asked participants to rate how often \"Health Problems\", \"Outside Noise\", \"Inside Noise\", \"Light\",\"Temperature\", \"Uncomfortable Mattress\", \"Motivation to Sleep\", \"Importance of Sleep\" affected their sleep. We also used \"Q16: how motivated to make sure have enough time to sleep\", and \"Q17: how important a part of routine is going to bed at a suitable time\". \n",
    "\n",
    "Below is the correlation plot among those variables and sleep quality . We found out that \"Motivation to Sleep\" and \"Importance of Sleep\" have positive relationship with sleep quality, and other variables all have negative relationships with sleep quality. "
   ]
  },
  {
   "cell_type": "code",
   "execution_count": null,
   "metadata": {},
   "outputs": [],
   "source": [
    "corr_data = sleep.loc[:, ['Q10_a','Q14a','Q15_a', 'Q15_b', 'Q15_c', 'Q15_d', 'Q15_e','Q16_rev', 'Q17_rev']]\n",
    "corr_data.columns = [ 'Sleep Quality', 'Health Problems', 'Outside Noise', 'Inside Noise', 'Light','Temperature', 'Uncomfortable Mattress', 'Motivation to Sleep', 'Importance of Sleep']\n",
    "\n",
    "# Filter out all the refused to respond\n",
    "corr_data=corr_data.loc[corr_data['Light']!=-1,]\n",
    "corr_data=corr_data.loc[corr_data['Motivation to Sleep']!=-1,]\n",
    "corr_data=corr_data.loc[corr_data['Importance of Sleep']!=-1,]\n",
    "corr_data=corr_data.loc[corr_data['Inside Noise']!=-1,]\n",
    "corr_data=corr_data.loc[corr_data['Uncomfortable Mattress']!=-1,]\n",
    "corr_data=corr_data.loc[corr_data['Health Problems']!=-1,]\n",
    "corr_data=corr_data.loc[corr_data['Motivation to Sleep']!=7,]\n",
    "corr_data=corr_data.loc[corr_data['Importance of Sleep']!=7,]\n",
    "\n",
    "fig = plt.figure(figsize = [12,12])\n",
    "corr = corr_data.corr()\n",
    "mask = np.zeros_like(corr, dtype=np.bool)\n",
    "mask[np.triu_indices_from(mask)] = True\n",
    "figure, ax = plt.subplots(figsize=(8, 8))\n",
    "cmap = sns.diverging_palette(600, 10, as_cmap = True)\n",
    "sns.heatmap(corr, mask = mask,cmap = cmap, center=0,\n",
    "            square = True, linewidths = .5, annot = True, cbar_kws={\"shrink\": .5})\n",
    "plt.title('Correlation Between Variables', size = 16);"
   ]
  },
  {
   "cell_type": "markdown",
   "metadata": {},
   "source": [
    "**Very Sensitive Participants**  \n",
    "We can see that participants' rating of how often do the five environmental factors affect their sleep are positively correlated. Therefore, as what we briefly mentioned in the variable construction section, we created a dummy variable that divides people with regards to whether they are 'sensitive' to environmental factors. People who have an average rating >= 4 for the effects of the 5 environmental factors are considered as sensitive.  \n",
    "When we look at the group who are considered as sensitive to environmental factors, their sleep quality is relatively lower, which is consistent with the common belief. "
   ]
  },
  {
   "cell_type": "code",
   "execution_count": null,
   "metadata": {},
   "outputs": [],
   "source": [
    "bar_data_sensitive = sleep.groupby('sensitive').Q10_a.value_counts(normalize=True).unstack()\n",
    "\n",
    "bar_data_sensitive.plot(rot=0,kind = 'bar', figsize=(8,6))\n",
    "plt.title('Sleep Quality v.s. Sleep Disorders')\n",
    "plt.legend(title = 'Sleep Quality')\n",
    "plt.xticks([0,1], ['Not Sensitive', 'Sensitive'])\n",
    "plt.xlabel('Sensitive to Environmental Factors');"
   ]
  },
  {
   "cell_type": "markdown",
   "metadata": {},
   "source": [
    "# 3. Modeling"
   ]
  },
  {
   "cell_type": "markdown",
   "metadata": {},
   "source": [
    "After exploring each variable's relationship with sleep quality in the *Exploratory Analysis* setion, we now start to use models to combine those variable together and investigate their relationship with sleep quality while controlled for the others. Namely, we use sleep quality as our response variable, and other variables that we explored in the last section are predictors. "
   ]
  },
  {
   "cell_type": "markdown",
   "metadata": {},
   "source": [
    "## 3.1 Linear Regression"
   ]
  },
  {
   "cell_type": "markdown",
   "metadata": {},
   "source": [
    "We understand that our response variable sleep quality is ordinal, and by fitting a linear regression model, we would be assuming that the response variable is continuous, which means,the numerical distance between each set of subsequent categories is equal. Such assumption would make the resulting coefficients hard to interpret and obscure the meaning of the predicted values.\n",
    "\n",
    "However, we believe the linear regression is a nice initial start to look at the mutual relationship of all the variables with sleep quality. We first extracted and cleaned the data frame used for the linear regression. "
   ]
  },
  {
   "cell_type": "code",
   "execution_count": null,
   "metadata": {},
   "outputs": [],
   "source": [
    "# Data for Regression\n",
    "sleep_regression = sleep[['sleep_efficiency','avg_bed','avg_actual_sleep','Q10_a','before_mnt_week','before_mnt_weekend','Q22_rev','Q16_rev','Q17_rev','Q15_a','Q15_b','Q15_c','Q15_d','Q15_e','Q14a','Q10_a_3']]\n",
    "\n",
    "sleep_regression.columns=['sleep_efficiency','avg_hrs_in_bed','avg_actual_sleep','sleep_quality','weekday_midnight','weekend_midnight',\"disorder\",\"motivation_to_sleep\",\"importance_of_sleep\",\"outside_noise\",\"inside_noise\",\"light\",\"temperature\",\"uncomfortable_mattress\",\"health_problems\", \"sm_quality\"]\n",
    "\n",
    "# Filter out all the refused to respond\n",
    "df=sleep_regression\n",
    "df=df.loc[df.disorder!=-1,]\n",
    "df=df.loc[df.light!=-1,]\n",
    "df=df.loc[df.motivation_to_sleep!=7,]\n",
    "df=df.loc[df.importance_of_sleep!=7,]\n",
    "df=df.loc[df.inside_noise!=-1,]\n",
    "df=df.loc[df.uncomfortable_mattress!=-1,]\n",
    "df=df.loc[df.health_problems!=-1,]\n",
    "\n",
    "# Recode 'weekday_midnight' & 'weekend_midnight' into 0/1 variables\n",
    "df.weekday_midnight=df['weekday_midnight'].replace(['Before Mid-night'],0)\n",
    "df.weekday_midnight=df['weekday_midnight'].replace(['After Mid-night'],1)\n",
    "df.weekend_midnight=df['weekend_midnight'].replace(['Before Mid-night'],0)\n",
    "df.weekend_midnight=df['weekend_midnight'].replace(['After Mid-night'],1)"
   ]
  },
  {
   "cell_type": "markdown",
   "metadata": {},
   "source": [
    "We used a correlation plot to have a initial investigation on the correlation between variables in our dataset for regression. The plot confirmed our findings in the *exploratory analysis* section. Also, it cautioned us against potential collinearity issues, which would be adjusted for. "
   ]
  },
  {
   "cell_type": "code",
   "execution_count": null,
   "metadata": {},
   "outputs": [],
   "source": [
    "# Pearson Correlation among Predictors\n",
    "plt.figure(figsize=(8,8))\n",
    "cor = df.corr()\n",
    "mask = np.zeros_like(cor)\n",
    "mask[np.triu_indices_from(mask)] = True\n",
    "sns.heatmap(cor, annot=True,linewidths=2,mask=mask,center=0,cmap=plt.cm.Reds)\n",
    "plt.xticks(rotation=45)\n",
    "plt.show();"
   ]
  },
  {
   "cell_type": "markdown",
   "metadata": {},
   "source": [
    "Hence, we investigated the collinearity issue using **Variable Inflation Factor (VIF)**, and we found that sleep efficiency, average hours in bed, and average acutal sleep are highly collinear with VIF > 10. "
   ]
  },
  {
   "cell_type": "code",
   "execution_count": null,
   "metadata": {},
   "outputs": [],
   "source": [
    "features = \"+\".join(df.columns.drop([\"sleep_quality\",\"sm_quality\"]))\n",
    "Y, X = dmatrices('sleep_quality ~' + features, df, return_type='dataframe')\n",
    "vif = pd.DataFrame()\n",
    "vif[\"VIF Factor\"] = [variance_inflation_factor(X.values, i) for i in range(X.shape[1])]\n",
    "vif[\"features\"] = X.columns\n",
    "vif[1:].round(1)"
   ]
  },
  {
   "cell_type": "markdown",
   "metadata": {},
   "source": [
    "As sleep efficiency is the predictor that we are most interested in, we kept it in the model and dropped average actual sleep, which had a VIF as high as sleep efficiency. When checking the VIFs again, we found this attempt easily resolved the collinearity problem. "
   ]
  },
  {
   "cell_type": "code",
   "execution_count": null,
   "metadata": {},
   "outputs": [],
   "source": [
    "# According to the VIF, we drop the average actual sleep time\n",
    "features = \"+\".join(df.columns.drop([\"sleep_quality\",\"sm_quality\",\"avg_actual_sleep\"]))\n",
    "Y, X = dmatrices('sleep_quality ~' + features, df, return_type='dataframe')\n",
    "vif = pd.DataFrame()\n",
    "vif[\"VIF Factor\"] = [variance_inflation_factor(X.values, i) for i in range(X.shape[1])]\n",
    "vif[\"features\"] = X.columns\n",
    "vif[1:].round(1)"
   ]
  },
  {
   "cell_type": "markdown",
   "metadata": {},
   "source": [
    "### The Full Linear Regression Model"
   ]
  },
  {
   "cell_type": "code",
   "execution_count": null,
   "metadata": {},
   "outputs": [],
   "source": [
    "X=df.drop(['sleep_quality','sm_quality'],axis=1)\n",
    "Y=df[['sleep_quality']]\n",
    "model4 = sm.OLS(Y, X).fit()\n",
    "predictions4 = model4.predict(X)\n",
    "print(model4.summary())"
   ]
  },
  {
   "cell_type": "markdown",
   "metadata": {},
   "source": [
    "From the summary of the full linear regression model, we found that coefficients of 7 variables, sleep_efficiency, avg_hrs_in_bed, disorder, motivation_to_sleep, light, uncomfortable_mattrees, and  health_problems, are statistically significant using a significance level = 0.05.  \n",
    "\n",
    "Among these variable, keeping everything else the same, we would expect that the higher the sleep efficiency and the average hours in bed, and the more motivated to make sure have enough time to sleep, the better the sleep quality. On the contrary, the more often that the person think that light, uncomfortable mattress, and health problems affected their sleep, or if the person has sleep disorder, the lower the sleep quality.   "
   ]
  },
  {
   "cell_type": "code",
   "execution_count": null,
   "metadata": {},
   "outputs": [],
   "source": [
    "# Define a function that fit the linear regression and returns the RSS and R_squared\n",
    "%matplotlib inline\n",
    "plt.style.use('ggplot')\n",
    "def fit_linear_reg(X,Y):\n",
    "    #Fit linear regression model and return RSS and R squared values\n",
    "    model_k = linear_model.LinearRegression(fit_intercept = True)\n",
    "    model_k.fit(X,Y)\n",
    "    RSS = mean_squared_error(Y,model_k.predict(X)) * len(Y)\n",
    "    R_squared = model_k.score(X,Y)\n",
    "    return RSS, R_squared"
   ]
  },
  {
   "cell_type": "markdown",
   "metadata": {},
   "source": [
    "Since we also saw a lot of variables with not significant coefficients in the full model, we wondered for each number of predictors, what is the best subset of variables that produce the lowest RSS or the highest R-square and whether we can limit our model to one with better performance. "
   ]
  },
  {
   "cell_type": "code",
   "execution_count": null,
   "metadata": {},
   "outputs": [],
   "source": [
    "k = 13\n",
    "RSS_list, R_squared_list, feature_list = [],[],[]\n",
    "numb_features = []\n",
    "\n",
    "#Looping over k = 1 to k = 11 features in X\n",
    "for k in tnrange(1,len(X.columns) + 1, desc = 'Loop...'):\n",
    "\n",
    "    #Looping over all possible combinations: from 11 choose k\n",
    "    for combo in itertools.combinations(X.columns,k):\n",
    "        tmp_result = fit_linear_reg(X[list(combo)],Y)   #Store temp result \n",
    "        RSS_list.append(tmp_result[0])                  #Append lists\n",
    "        R_squared_list.append(tmp_result[1])\n",
    "        feature_list.append(combo)\n",
    "        numb_features.append(len(combo))   \n",
    "\n",
    "#Store in DataFrame\n",
    "dff = pd.DataFrame({'numb_features': numb_features,'RSS': RSS_list, 'R_squared':R_squared_list,'features':feature_list})"
   ]
  },
  {
   "cell_type": "code",
   "execution_count": null,
   "metadata": {},
   "outputs": [],
   "source": [
    "# Subsets with the lowest RSS at each size\n",
    "df_min = dff[dff.groupby('numb_features')['RSS'].transform(min) == dff['RSS']]\n",
    "#df_max = dff[dff.groupby('numb_features')['R_squared'].transform(max) == dff['R_squared']]\n",
    "display(df_min)"
   ]
  },
  {
   "cell_type": "code",
   "execution_count": null,
   "metadata": {},
   "outputs": [],
   "source": [
    "fig = plt.figure(figsize = (16,6))\n",
    "ax = fig.add_subplot(1, 2, 1)\n",
    "\n",
    "ax.scatter(df_min.numb_features,df_min.RSS, alpha = .2, color = 'darkblue' )\n",
    "ax.set_xlabel('# Features')\n",
    "ax.set_ylabel('RSS')\n",
    "ax.set_title('RSS - Best subset selection')\n",
    "ax.plot(df_min.numb_features,df_min.RSS,color = 'r', label = 'Best subset')\n",
    "ax.legend()\n",
    "\n",
    "ax = fig.add_subplot(1, 2, 2)\n",
    "ax.scatter(df_min.numb_features,df_min.R_squared, alpha = .2, color = 'darkblue' )\n",
    "ax.plot(df_min.numb_features,df_min.R_squared,color = 'r', label = 'Best subset')\n",
    "ax.set_xlabel('# Features')\n",
    "ax.set_ylabel('R squared')\n",
    "ax.set_title('R_squared - Best subset selection')\n",
    "ax.legend()\n",
    "\n",
    "plt.show();"
   ]
  },
  {
   "cell_type": "markdown",
   "metadata": {},
   "source": [
    "According to the statistics from the best subset selection, we went one step further to fit a model with only 10 variables.  \n",
    "We found that the 7 variables that had statistically significant coefficients in the full model are all kept in the model with fewer variables and are still the only variables that had statistically significant coefficients. Also, the directions of their associations with sleep quality are the same.  "
   ]
  },
  {
   "cell_type": "code",
   "execution_count": null,
   "metadata": {},
   "outputs": [],
   "source": [
    "X=df.drop(['sleep_quality','avg_actual_sleep','importance_of_sleep','light','outside_noise','sm_quality'],axis=1)\n",
    "Y=df[['sleep_quality']]\n",
    "model4 = sm.OLS(Y, X).fit()\n",
    "predictions4 = model4.predict(X)\n",
    "print(model4.summary())"
   ]
  },
  {
   "cell_type": "markdown",
   "metadata": {},
   "source": [
    "## 3.2 Decision Tree"
   ]
  },
  {
   "cell_type": "markdown",
   "metadata": {},
   "source": [
    "As mentioned above, our response variable sleep quality is ordinal. Taken that into consideration, we aimed to fit a classification model for prediction. For simplicity and performance, we used sleep quality rating recoded as 3 categories (1-2 as 1, 3 as 2, 4-5 as 3, which is the common partition method for a 5-point Likert scale and what suggested by the study) as the response variables in classification models. \n",
    "\n",
    "We chose decision tree because it is easy to follow. We aim at enabling people, especially our peers, to have a detailed understanding of their sleep quality, and people can read a decision tree even without knowledge in statistics. Also, a lot of our predictors are also ordinal, which is suitable for a decision tree. "
   ]
  },
  {
   "cell_type": "code",
   "execution_count": null,
   "metadata": {},
   "outputs": [],
   "source": [
    "X = df.drop(columns = ['sleep_quality','sm_quality'])\n",
    "Y = df['sm_quality']\n",
    "X_train, X_test, y_train, y_test = train_test_split(X,Y,test_size=0.34)"
   ]
  },
  {
   "cell_type": "markdown",
   "metadata": {},
   "source": [
    "We split data into a training sample (70% of the data) and a test sample (30% of the data). The prediction accuracy of our decision tree is 0.662 for the training data and 0.576 for the test data, which are not very different and indicate that our model is not exposed to very serious overfitting. "
   ]
  },
  {
   "cell_type": "code",
   "execution_count": null,
   "metadata": {},
   "outputs": [],
   "source": [
    "clf = DecisionTreeClassifier(max_leaf_nodes = 10)\n",
    "# Train Decision Tree Classifer\n",
    "clf = clf.fit(X_train,y_train)"
   ]
  },
  {
   "cell_type": "code",
   "execution_count": null,
   "metadata": {},
   "outputs": [],
   "source": [
    "# Predict the response for training dataset\n",
    "y_pred = clf.predict(X_train)\n",
    "# Train Accuracy\n",
    "print(\"Accuracy:\",metrics.accuracy_score(y_train, y_pred))"
   ]
  },
  {
   "cell_type": "code",
   "execution_count": null,
   "metadata": {},
   "outputs": [],
   "source": [
    "#Predict the response for test dataset\n",
    "y_pred = clf.predict(X_test)\n",
    "# Test Accuracy\n",
    "print(\"Accuracy:\",metrics.accuracy_score(y_test, y_pred))"
   ]
  },
  {
   "cell_type": "markdown",
   "metadata": {},
   "source": [
    "From 10-fold cross-validation, the average accuracy is 0.612, which is also not much smaller than our training accuracy. This performance statistic again supports the statement that our model does not experience high over-fitting. "
   ]
  },
  {
   "cell_type": "code",
   "execution_count": null,
   "metadata": {},
   "outputs": [],
   "source": [
    "decision_tree = DecisionTreeClassifier(max_leaf_nodes = 10)\n",
    "scores = cross_validate(decision_tree, X, Y, scoring='accuracy', cv=10)\n",
    "scores['test_score'].mean()"
   ]
  },
  {
   "cell_type": "code",
   "execution_count": null,
   "metadata": {},
   "outputs": [],
   "source": [
    "clf = clf.fit(X,Y)\n",
    "\n",
    "dot_data = StringIO()\n",
    "export_graphviz(clf, out_file=dot_data,  \n",
    "                filled=True, rounded=True, \n",
    "                special_characters=True,feature_names = ['sleep_efficiency','avg_hrs_in_bed','avg_actual_sleep','weekday_midnight','weekend_midnight',\"disorder\",\"motivation_to_sleep\",\"importance_of_sleep\",\"outside_noise\",\"inside_noise\",\"light\",\"temperature\",\"uncomfortable_mattress\",\"health_problems\"],class_names=['1','2', '3'])\n",
    "graph = pydotplus.graph_from_dot_data(dot_data.getvalue())  \n",
    "graph.write_png('diabetes.png')\n",
    "Image(graph.create_png())"
   ]
  },
  {
   "cell_type": "markdown",
   "metadata": {},
   "source": [
    "# 4. Conclusion"
   ]
  },
  {
   "cell_type": "markdown",
   "metadata": {},
   "source": [
    "Our data exploratory process confirmed that sleep quality is associated with sleep efficiency, average hours in bed, average actual sleep,time go to bed, sleep disorder, how motivated to make sure have enough time to sleep, and  how important a part of routine is going to bed at a suitable time, environmental factors, and health problems. \n",
    "\n",
    "From our multiple linear regression model, we found that among all these variables, sleep efficiency, average hours in bed, sleep disorder, how motivated to make sure have enough time to sleep, light, uncomfortable mattrees, and  health problems, are especially significantly associated with sleep quality. \n",
    "\n",
    "We also built a decision tree with cross-validation accuracy of 61.23%. "
   ]
  },
  {
   "cell_type": "markdown",
   "metadata": {},
   "source": [
    "# 5. Limitations"
   ]
  },
  {
   "cell_type": "markdown",
   "metadata": {},
   "source": [
    "1. Since we don’t have the demographic data for this dataset for confidentiality reason, we are unable to take participants' demographic characteristics into consideration. If participants can be divided into different groups with respect to their demographics, we might be able to incorporate the influence of those variables as well as obtain more in-depth insights into sleep quality within each group. \n",
    "\n",
    "2. Our response variable, sleep quality is measured from a Likert scale. Thus, it is not a very precise measure and exposed to subjectivity. If possible, using clinical measurements, such as electro-oculography (EOG), could be more precise and objective. "
   ]
  }
 ],
 "metadata": {
  "kernelspec": {
   "display_name": "Python 3",
   "language": "python",
   "name": "python3"
  },
  "language_info": {
   "codemirror_mode": {
    "name": "ipython",
    "version": 3
   },
   "file_extension": ".py",
   "mimetype": "text/x-python",
   "name": "python",
   "nbconvert_exporter": "python",
   "pygments_lexer": "ipython3",
   "version": "3.7.3"
  }
 },
 "nbformat": 4,
 "nbformat_minor": 4
}
