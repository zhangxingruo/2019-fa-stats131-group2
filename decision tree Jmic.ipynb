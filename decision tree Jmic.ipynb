{
 "cells": [
  {
   "cell_type": "code",
   "execution_count": 1,
   "metadata": {},
   "outputs": [],
   "source": [
    "# Import packages\n",
    "import numpy as np\n",
    "import pandas as pd\n"
   ]
  },
  {
   "cell_type": "code",
   "execution_count": 52,
   "metadata": {},
   "outputs": [],
   "source": [
    "import os\n",
    "import statsmodels .formula.api as smf\n",
    "import matplotlib.pyplot as plt\n",
    "import seaborn as sns\n",
    "import dexplot as dxp\n",
    "\n",
    "from sklearn.metrics import roc_auc_score, accuracy_score, precision_score, recall_score, f1_score\n",
    "from sklearn.linear_model import LogisticRegression\n",
    "from sklearn.tree import DecisionTreeClassifier\n",
    "from sklearn.svm import SVC\n",
    "from sklearn.ensemble import RandomForestClassifier\n",
    "from sklearn.discriminant_analysis import LinearDiscriminantAnalysis, QuadraticDiscriminantAnalysis\n",
    "from sklearn.cluster import KMeans\n",
    "from sklearn.neighbors import KNeighborsClassifier\n",
    "from sklearn.naive_bayes import GaussianNB\n",
    "from sklearn.metrics import precision_recall_fscore_support\n",
    "from sklearn.metrics import mean_squared_error as mse\n",
    "from sklearn.preprocessing import StandardScaler\n",
    "from sklearn.model_selection import cross_validate\n",
    "from sklearn.model_selection import train_test_split\n",
    "from sklearn.ensemble import ExtraTreesClassifier\n",
    "from sklearn.feature_selection import SelectFromModel\n",
    "from sklearn.svm import LinearSVC\n",
    "from sklearn.ensemble import VotingClassifier\n",
    "from sklearn.feature_selection import RFECV\n",
    "from sklearn.preprocessing import label_binarize\n",
    "import warnings\n",
    "warnings.filterwarnings('ignore')\n",
    "np.random.seed(123)"
   ]
  },
  {
   "cell_type": "code",
   "execution_count": 3,
   "metadata": {},
   "outputs": [],
   "source": [
    "from IPython.core.interactiveshell import InteractiveShell\n",
    "InteractiveShell.ast_node_interactivity = \"all\""
   ]
  },
  {
   "cell_type": "code",
   "execution_count": 4,
   "metadata": {},
   "outputs": [],
   "source": [
    "df=pd.read_csv('new_sleep.csv')\n",
    "df=df.drop(columns = ['quality'],axis=1)"
   ]
  },
  {
   "cell_type": "code",
   "execution_count": 9,
   "metadata": {},
   "outputs": [],
   "source": [
    "\n",
    "X = df.drop(columns = ['sm_quality'])\n",
    "Y = df['sm_quality']\n",
    "X_train, X_test, y_train, y_test = train_test_split(X,Y,test_size=0.34)"
   ]
  },
  {
   "cell_type": "code",
   "execution_count": null,
   "metadata": {},
   "outputs": [],
   "source": []
  },
  {
   "cell_type": "code",
   "execution_count": 10,
   "metadata": {},
   "outputs": [
    {
     "data": {
      "text/plain": [
       "['fit_time',\n",
       " 'score_time',\n",
       " 'test_accuracy',\n",
       " 'test_f1_weighted',\n",
       " 'test_precision_macro',\n",
       " 'test_recall_macro']"
      ]
     },
     "execution_count": 10,
     "metadata": {},
     "output_type": "execute_result"
    }
   ],
   "source": [
    "LR = LogisticRegression()\n",
    "\n",
    "scoring = ['accuracy', 'precision_macro', 'recall_macro' , 'f1_weighted']\n",
    "scores = cross_validate(LR, X_train, y_train, scoring=scoring, cv=20)\n",
    "\n",
    "sorted(scores.keys())\n",
    "LR_fit_time = scores['fit_time'].mean()\n",
    "LR_score_time = scores['score_time'].mean()\n",
    "LR_accuracy = scores['test_accuracy'].mean()\n",
    "LR_precision = scores['test_precision_macro'].mean()\n",
    "LR_recall = scores['test_recall_macro'].mean()\n",
    "LR_f1 = scores['test_f1_weighted'].mean()"
   ]
  },
  {
   "cell_type": "code",
   "execution_count": 11,
   "metadata": {},
   "outputs": [
    {
     "data": {
      "text/plain": [
       "['fit_time',\n",
       " 'score_time',\n",
       " 'test_accuracy',\n",
       " 'test_f1_weighted',\n",
       " 'test_precision_macro',\n",
       " 'test_recall_macro']"
      ]
     },
     "execution_count": 11,
     "metadata": {},
     "output_type": "execute_result"
    }
   ],
   "source": [
    "decision_tree = DecisionTreeClassifier()\n",
    "\n",
    "scoring = ['accuracy', 'precision_macro', 'recall_macro' , 'f1_weighted']\n",
    "scores = cross_validate(decision_tree, X_train, y_train, scoring=scoring, cv=20)\n",
    "\n",
    "sorted(scores.keys())\n",
    "dtree_fit_time = scores['fit_time'].mean()\n",
    "dtree_score_time = scores['score_time'].mean()\n",
    "dtree_accuracy = scores['test_accuracy'].mean()\n",
    "dtree_precision = scores['test_precision_macro'].mean()\n",
    "dtree_recall = scores['test_recall_macro'].mean()\n",
    "dtree_f1 = scores['test_f1_weighted'].mean()\n"
   ]
  },
  {
   "cell_type": "code",
   "execution_count": 58,
   "metadata": {},
   "outputs": [
    {
     "data": {
      "text/plain": [
       "['fit_time',\n",
       " 'score_time',\n",
       " 'test_accuracy',\n",
       " 'test_f1_weighted',\n",
       " 'test_precision_macro',\n",
       " 'test_recall_macro']"
      ]
     },
     "execution_count": 58,
     "metadata": {},
     "output_type": "execute_result"
    }
   ],
   "source": [
    "SVM = SVC(probability = True)\n",
    "\n",
    "scoring = ['accuracy','precision_macro', 'recall_macro' , 'f1_weighted']\n",
    "scores = cross_validate(SVM, X_train, y_train, scoring=scoring, cv=20)\n",
    "\n",
    "sorted(scores.keys())\n",
    "SVM_fit_time = scores['fit_time'].mean()\n",
    "SVM_score_time = scores['score_time'].mean()\n",
    "SVM_accuracy = scores['test_accuracy'].mean()\n",
    "SVM_precision = scores['test_precision_macro'].mean()\n",
    "SVM_recall = scores['test_recall_macro'].mean()\n",
    "SVM_f1 = scores['test_f1_weighted'].mean()\n"
   ]
  },
  {
   "cell_type": "code",
   "execution_count": 61,
   "metadata": {},
   "outputs": [
    {
     "data": {
      "text/plain": [
       "SVC(C=1.0, cache_size=200, class_weight=None, coef0=0.0,\n",
       "    decision_function_shape='ovr', degree=3, gamma='auto_deprecated',\n",
       "    kernel='rbf', max_iter=-1, probability=True, random_state=None,\n",
       "    shrinking=True, tol=0.001, verbose=False)"
      ]
     },
     "execution_count": 61,
     "metadata": {},
     "output_type": "execute_result"
    }
   ],
   "source": [
    "SVM.fit(X,Y)\n",
    "import numpy as np\n",
    "import pandas as pd\n",
    "from sklearn import svm\n",
    "from mlxtend.plotting import plot_decision_regions\n",
    "import matplotlib.pyplot as plt"
   ]
  },
  {
   "cell_type": "code",
   "execution_count": 68,
   "metadata": {},
   "outputs": [],
   "source": [
    "XX=np.array(X.values)\n",
    "YY=np.array(Y.values)"
   ]
  },
  {
   "cell_type": "code",
   "execution_count": 73,
   "metadata": {},
   "outputs": [
    {
     "ename": "ValueError",
     "evalue": "Filler values must be provided when X has more than 2 training features.",
     "output_type": "error",
     "traceback": [
      "\u001b[0;31m---------------------------------------------------------------------------\u001b[0m",
      "\u001b[0;31mValueError\u001b[0m                                Traceback (most recent call last)",
      "\u001b[0;32m<ipython-input-73-8e476abe1195>\u001b[0m in \u001b[0;36m<module>\u001b[0;34m\u001b[0m\n\u001b[1;32m      2\u001b[0m plot_decision_regions(X=XX, \n\u001b[1;32m      3\u001b[0m                       \u001b[0my\u001b[0m\u001b[0;34m=\u001b[0m\u001b[0mYY\u001b[0m\u001b[0;34m,\u001b[0m\u001b[0;34m\u001b[0m\u001b[0;34m\u001b[0m\u001b[0m\n\u001b[0;32m----> 4\u001b[0;31m                       clf=SVM)\n\u001b[0m\u001b[1;32m      5\u001b[0m \u001b[0;34m\u001b[0m\u001b[0m\n\u001b[1;32m      6\u001b[0m \u001b[0;31m# Update plot object with X/Y axis labels and Figure Title\u001b[0m\u001b[0;34m\u001b[0m\u001b[0;34m\u001b[0m\u001b[0;34m\u001b[0m\u001b[0m\n",
      "\u001b[0;32m~/anaconda3/lib/python3.7/site-packages/mlxtend/plotting/decision_regions.py\u001b[0m in \u001b[0;36mplot_decision_regions\u001b[0;34m(X, y, clf, feature_index, filler_feature_values, filler_feature_ranges, ax, X_highlight, res, zoom_factor, legend, hide_spines, markers, colors, scatter_kwargs, contourf_kwargs, scatter_highlight_kwargs)\u001b[0m\n\u001b[1;32m    176\u001b[0m     \u001b[0;32mif\u001b[0m \u001b[0mdim\u001b[0m \u001b[0;34m>\u001b[0m \u001b[0;36m2\u001b[0m\u001b[0;34m:\u001b[0m\u001b[0;34m\u001b[0m\u001b[0;34m\u001b[0m\u001b[0m\n\u001b[1;32m    177\u001b[0m         \u001b[0;32mif\u001b[0m \u001b[0mfiller_feature_values\u001b[0m \u001b[0;32mis\u001b[0m \u001b[0;32mNone\u001b[0m\u001b[0;34m:\u001b[0m\u001b[0;34m\u001b[0m\u001b[0;34m\u001b[0m\u001b[0m\n\u001b[0;32m--> 178\u001b[0;31m             raise ValueError('Filler values must be provided when '\n\u001b[0m\u001b[1;32m    179\u001b[0m                              'X has more than 2 training features.')\n\u001b[1;32m    180\u001b[0m \u001b[0;34m\u001b[0m\u001b[0m\n",
      "\u001b[0;31mValueError\u001b[0m: Filler values must be provided when X has more than 2 training features."
     ]
    },
    {
     "data": {
      "image/png": "[encoded data removed]",
      "text/plain": [
       "<Figure size 432x288 with 1 Axes>"
      ]
     },
     "metadata": {
      "needs_background": "light"
     },
     "output_type": "display_data"
    }
   ],
   "source": [
    "# Plot Decision Region using mlxtend's awesome plotting function\n",
    "plot_decision_regions(X=XX, \n",
    "                      y=YY,\n",
    "                      clf=SVM)\n",
    "\n",
    "# Update plot object with X/Y axis labels and Figure Title\n"
   ]
  },
  {
   "cell_type": "code",
   "execution_count": 53,
   "metadata": {},
   "outputs": [
    {
     "data": {
      "text/plain": [
       "['fit_time',\n",
       " 'score_time',\n",
       " 'test_accuracy',\n",
       " 'test_f1_weighted',\n",
       " 'test_precision_macro',\n",
       " 'test_recall_macro']"
      ]
     },
     "execution_count": 53,
     "metadata": {},
     "output_type": "execute_result"
    }
   ],
   "source": [
    "LDA = LinearDiscriminantAnalysis()\n",
    "\n",
    "scoring = ['accuracy', 'precision_macro', 'recall_macro' , 'f1_weighted']\n",
    "scores = cross_validate(LDA, X_train, y_train, scoring=scoring, cv=20)\n",
    "\n",
    "sorted(scores.keys())\n",
    "LDA_fit_time = scores['fit_time'].mean()\n",
    "LDA_score_time = scores['score_time'].mean()\n",
    "LDA_accuracy = scores['test_accuracy'].mean()\n",
    "LDA_precision = scores['test_precision_macro'].mean()\n",
    "LDA_recall = scores['test_recall_macro'].mean()\n",
    "LDA_f1 = scores['test_f1_weighted'].mean()"
   ]
  },
  {
   "cell_type": "code",
   "execution_count": 21,
   "metadata": {},
   "outputs": [],
   "source": []
  },
  {
   "cell_type": "code",
   "execution_count": 45,
   "metadata": {},
   "outputs": [
    {
     "data": {
      "text/plain": [
       "Text(0.5, 0, 'LD1')"
      ]
     },
     "execution_count": 45,
     "metadata": {},
     "output_type": "execute_result"
    },
    {
     "data": {
      "text/plain": [
       "Text(0, 0.5, 'LD2')"
      ]
     },
     "execution_count": 45,
     "metadata": {},
     "output_type": "execute_result"
    },
    {
     "data": {
      "text/plain": [
       "<matplotlib.collections.PathCollection at 0x1c234141d0>"
      ]
     },
     "execution_count": 45,
     "metadata": {},
     "output_type": "execute_result"
    },
    {
     "data": {
      "image/png": "[encoded data removed]",
      "text/plain": [
       "<Figure size 432x288 with 1 Axes>"
      ]
     },
     "metadata": {
      "needs_background": "light"
     },
     "output_type": "display_data"
    }
   ],
   "source": [
    "X_lda=LDA.fit_transform(X,Y)\n",
    "plt.xlabel('LD1')\n",
    "plt.ylabel('LD2')\n",
    "plt.scatter(\n",
    "    X_lda[:,0],\n",
    "    X_lda[:,1],\n",
    "    c=Y,\n",
    "    cmap='rainbow_r',\n",
    "    alpha=0.7,\n",
    "    edgecolors='b'\n",
    ")"
   ]
  },
  {
   "cell_type": "code",
   "execution_count": 57,
   "metadata": {},
   "outputs": [
    {
     "data": {
      "text/plain": [
       "['fit_time',\n",
       " 'score_time',\n",
       " 'test_accuracy',\n",
       " 'test_f1_weighted',\n",
       " 'test_precision_macro',\n",
       " 'test_recall_macro']"
      ]
     },
     "execution_count": 57,
     "metadata": {},
     "output_type": "execute_result"
    }
   ],
   "source": [
    "QDA = QuadraticDiscriminantAnalysis()\n",
    "\n",
    "scoring = ['accuracy', 'precision_macro', 'recall_macro' , 'f1_weighted']\n",
    "scores = cross_validate(QDA, X_train, y_train, scoring=scoring, cv=20)\n",
    "\n",
    "sorted(scores.keys())\n",
    "QDA_fit_time = scores['fit_time'].mean()\n",
    "QDA_score_time = scores['score_time'].mean()\n",
    "QDA_accuracy = scores['test_accuracy'].mean()\n",
    "QDA_precision = scores['test_precision_macro'].mean()\n",
    "QDA_recall = scores['test_recall_macro'].mean()\n",
    "QDA_f1 = scores['test_f1_weighted'].mean()\n",
    "\n"
   ]
  },
  {
   "cell_type": "code",
   "execution_count": 51,
   "metadata": {},
   "outputs": [
    {
     "name": "stdout",
     "output_type": "stream",
     "text": [
      "Collecting scikits\n",
      "\u001b[31m  ERROR: Could not find a version that satisfies the requirement scikits (from versions: none)\u001b[0m\n",
      "\u001b[31mERROR: No matching distribution found for scikits\u001b[0m\n"
     ]
    },
    {
     "ename": "ModuleNotFoundError",
     "evalue": "No module named 'scikits'",
     "output_type": "error",
     "traceback": [
      "\u001b[0;31m---------------------------------------------------------------------------\u001b[0m",
      "\u001b[0;31mModuleNotFoundError\u001b[0m                       Traceback (most recent call last)",
      "\u001b[0;32m<ipython-input-51-4c6ef7e64ffc>\u001b[0m in \u001b[0;36m<module>\u001b[0;34m\u001b[0m\n\u001b[1;32m      6\u001b[0m \u001b[0;32mimport\u001b[0m \u001b[0mmatplotlib\u001b[0m \u001b[0;32mas\u001b[0m \u001b[0mmpl\u001b[0m\u001b[0;34m\u001b[0m\u001b[0;34m\u001b[0m\u001b[0m\n\u001b[1;32m      7\u001b[0m \u001b[0mget_ipython\u001b[0m\u001b[0;34m(\u001b[0m\u001b[0;34m)\u001b[0m\u001b[0;34m.\u001b[0m\u001b[0msystem\u001b[0m\u001b[0;34m(\u001b[0m\u001b[0;34m'pip install scikits'\u001b[0m\u001b[0;34m)\u001b[0m\u001b[0;34m\u001b[0m\u001b[0;34m\u001b[0m\u001b[0m\n\u001b[0;32m----> 8\u001b[0;31m \u001b[0;32mfrom\u001b[0m \u001b[0mscikits\u001b[0m\u001b[0;34m.\u001b[0m\u001b[0mlearn\u001b[0m\u001b[0;34m.\u001b[0m\u001b[0mlda\u001b[0m \u001b[0;32mimport\u001b[0m \u001b[0mLDA\u001b[0m\u001b[0;34m\u001b[0m\u001b[0;34m\u001b[0m\u001b[0m\n\u001b[0m\u001b[1;32m      9\u001b[0m \u001b[0;32mfrom\u001b[0m \u001b[0mscikits\u001b[0m\u001b[0;34m.\u001b[0m\u001b[0mlearn\u001b[0m\u001b[0;34m.\u001b[0m\u001b[0mqda\u001b[0m \u001b[0;32mimport\u001b[0m \u001b[0mQDA\u001b[0m\u001b[0;34m\u001b[0m\u001b[0;34m\u001b[0m\u001b[0m\n",
      "\u001b[0;31mModuleNotFoundError\u001b[0m: No module named 'scikits'"
     ]
    }
   ],
   "source": []
  },
  {
   "cell_type": "code",
   "execution_count": null,
   "metadata": {},
   "outputs": [],
   "source": [
    "\n"
   ]
  },
  {
   "cell_type": "code",
   "execution_count": null,
   "metadata": {},
   "outputs": [],
   "source": []
  },
  {
   "cell_type": "code",
   "execution_count": 51,
   "metadata": {},
   "outputs": [
    {
     "data": {
      "text/plain": [
       "['fit_time',\n",
       " 'score_time',\n",
       " 'test_accuracy',\n",
       " 'test_f1_weighted',\n",
       " 'test_precision_macro',\n",
       " 'test_recall_macro']"
      ]
     },
     "execution_count": 51,
     "metadata": {},
     "output_type": "execute_result"
    }
   ],
   "source": [
    "random_forest = RandomForestClassifier()\n",
    "\n",
    "scoring = ['accuracy', 'precision_macro', 'recall_macro' , 'f1_weighted']\n",
    "scores = cross_validate(random_forest, X_train, y_train, scoring=scoring, cv=20)\n",
    "\n",
    "sorted(scores.keys())\n",
    "forest_fit_time = scores['fit_time'].mean()\n",
    "forest_score_time = scores['score_time'].mean()\n",
    "forest_accuracy = scores['test_accuracy'].mean()\n",
    "forest_precision = scores['test_precision_macro'].mean()\n",
    "forest_recall = scores['test_recall_macro'].mean()\n",
    "forest_f1 = scores['test_f1_weighted'].mean()\n"
   ]
  },
  {
   "cell_type": "code",
   "execution_count": 439,
   "metadata": {},
   "outputs": [
    {
     "data": {
      "text/plain": [
       "['fit_time',\n",
       " 'score_time',\n",
       " 'test_accuracy',\n",
       " 'test_f1_weighted',\n",
       " 'test_precision_macro',\n",
       " 'test_recall_macro']"
      ]
     },
     "execution_count": 439,
     "metadata": {},
     "output_type": "execute_result"
    }
   ],
   "source": [
    "KNN = KNeighborsClassifier()\n",
    "\n",
    "scoring = ['accuracy', 'precision_macro', 'recall_macro' , 'f1_weighted']\n",
    "scores = cross_validate(KNN, X_train, y_train, scoring=scoring, cv=20)\n",
    "\n",
    "sorted(scores.keys())\n",
    "KNN_fit_time = scores['fit_time'].mean()\n",
    "KNN_score_time = scores['score_time'].mean()\n",
    "KNN_accuracy = scores['test_accuracy'].mean()\n",
    "KNN_precision = scores['test_precision_macro'].mean()\n",
    "KNN_recall = scores['test_recall_macro'].mean()\n",
    "KNN_f1 = scores['test_f1_weighted'].mean()"
   ]
  },
  {
   "cell_type": "code",
   "execution_count": 440,
   "metadata": {},
   "outputs": [
    {
     "data": {
      "text/plain": [
       "['fit_time',\n",
       " 'score_time',\n",
       " 'test_accuracy',\n",
       " 'test_f1_weighted',\n",
       " 'test_precision_macro',\n",
       " 'test_recall_macro']"
      ]
     },
     "execution_count": 440,
     "metadata": {},
     "output_type": "execute_result"
    }
   ],
   "source": [
    "bayes = GaussianNB()\n",
    "\n",
    "scoring = ['accuracy', 'precision_macro', 'recall_macro' , 'f1_weighted']\n",
    "scores = cross_validate(bayes, X_train, y_train, scoring=scoring, cv=20)\n",
    "\n",
    "sorted(scores.keys())\n",
    "bayes_fit_time = scores['fit_time'].mean()\n",
    "bayes_score_time = scores['score_time'].mean()\n",
    "bayes_accuracy = scores['test_accuracy'].mean()\n",
    "bayes_precision = scores['test_precision_macro'].mean()\n",
    "bayes_recall = scores['test_recall_macro'].mean()\n",
    "bayes_f1 = scores['test_f1_weighted'].mean()\n"
   ]
  },
  {
   "cell_type": "code",
   "execution_count": 441,
   "metadata": {},
   "outputs": [
    {
     "data": {
      "text/html": [
       "<div>\n",
       "<style scoped>\n",
       "    .dataframe tbody tr th:only-of-type {\n",
       "        vertical-align: middle;\n",
       "    }\n",
       "\n",
       "    .dataframe tbody tr th {\n",
       "        vertical-align: top;\n",
       "    }\n",
       "\n",
       "    .dataframe thead th {\n",
       "        text-align: right;\n",
       "    }\n",
       "</style>\n",
       "<table border=\"1\" class=\"dataframe\">\n",
       "  <thead>\n",
       "    <tr style=\"text-align: right;\">\n",
       "      <th></th>\n",
       "      <th>Model</th>\n",
       "      <th>Fitting time</th>\n",
       "      <th>Scoring time</th>\n",
       "      <th>Accuracy</th>\n",
       "      <th>Precision</th>\n",
       "      <th>Recall</th>\n",
       "      <th>F1_score</th>\n",
       "    </tr>\n",
       "  </thead>\n",
       "  <tbody>\n",
       "    <tr>\n",
       "      <td>2</td>\n",
       "      <td>Support Vector Machine</td>\n",
       "      <td>0.067518</td>\n",
       "      <td>0.009005</td>\n",
       "      <td>0.643175</td>\n",
       "      <td>0.470146</td>\n",
       "      <td>0.475411</td>\n",
       "      <td>0.606208</td>\n",
       "    </tr>\n",
       "    <tr>\n",
       "      <td>3</td>\n",
       "      <td>Linear Discriminant Analysis</td>\n",
       "      <td>0.005417</td>\n",
       "      <td>0.008769</td>\n",
       "      <td>0.641763</td>\n",
       "      <td>0.571022</td>\n",
       "      <td>0.528362</td>\n",
       "      <td>0.617594</td>\n",
       "    </tr>\n",
       "    <tr>\n",
       "      <td>7</td>\n",
       "      <td>Bayes</td>\n",
       "      <td>0.003171</td>\n",
       "      <td>0.007524</td>\n",
       "      <td>0.631048</td>\n",
       "      <td>0.560506</td>\n",
       "      <td>0.538738</td>\n",
       "      <td>0.616710</td>\n",
       "    </tr>\n",
       "    <tr>\n",
       "      <td>5</td>\n",
       "      <td>Random Forest</td>\n",
       "      <td>0.019840</td>\n",
       "      <td>0.010678</td>\n",
       "      <td>0.630227</td>\n",
       "      <td>0.545282</td>\n",
       "      <td>0.501225</td>\n",
       "      <td>0.608214</td>\n",
       "    </tr>\n",
       "    <tr>\n",
       "      <td>0</td>\n",
       "      <td>Logistic Regression</td>\n",
       "      <td>0.007979</td>\n",
       "      <td>0.007433</td>\n",
       "      <td>0.627630</td>\n",
       "      <td>0.481063</td>\n",
       "      <td>0.464169</td>\n",
       "      <td>0.586101</td>\n",
       "    </tr>\n",
       "    <tr>\n",
       "      <td>4</td>\n",
       "      <td>Quadratic Discriminant Analysis</td>\n",
       "      <td>0.003245</td>\n",
       "      <td>0.007372</td>\n",
       "      <td>0.605920</td>\n",
       "      <td>0.495246</td>\n",
       "      <td>0.493457</td>\n",
       "      <td>0.588890</td>\n",
       "    </tr>\n",
       "    <tr>\n",
       "      <td>6</td>\n",
       "      <td>K-Nearest Neighbors</td>\n",
       "      <td>0.002650</td>\n",
       "      <td>0.015168</td>\n",
       "      <td>0.597165</td>\n",
       "      <td>0.477150</td>\n",
       "      <td>0.440664</td>\n",
       "      <td>0.553411</td>\n",
       "    </tr>\n",
       "    <tr>\n",
       "      <td>1</td>\n",
       "      <td>Decision Tree</td>\n",
       "      <td>0.006468</td>\n",
       "      <td>0.007726</td>\n",
       "      <td>0.526597</td>\n",
       "      <td>0.446075</td>\n",
       "      <td>0.450191</td>\n",
       "      <td>0.518192</td>\n",
       "    </tr>\n",
       "  </tbody>\n",
       "</table>\n",
       "</div>"
      ],
      "text/plain": [
       "                             Model  Fitting time  Scoring time  Accuracy  \\\n",
       "2           Support Vector Machine      0.067518      0.009005  0.643175   \n",
       "3     Linear Discriminant Analysis      0.005417      0.008769  0.641763   \n",
       "7                            Bayes      0.003171      0.007524  0.631048   \n",
       "5                    Random Forest      0.019840      0.010678  0.630227   \n",
       "0              Logistic Regression      0.007979      0.007433  0.627630   \n",
       "4  Quadratic Discriminant Analysis      0.003245      0.007372  0.605920   \n",
       "6              K-Nearest Neighbors      0.002650      0.015168  0.597165   \n",
       "1                    Decision Tree      0.006468      0.007726  0.526597   \n",
       "\n",
       "   Precision    Recall  F1_score  \n",
       "2   0.470146  0.475411  0.606208  \n",
       "3   0.571022  0.528362  0.617594  \n",
       "7   0.560506  0.538738  0.616710  \n",
       "5   0.545282  0.501225  0.608214  \n",
       "0   0.481063  0.464169  0.586101  \n",
       "4   0.495246  0.493457  0.588890  \n",
       "6   0.477150  0.440664  0.553411  \n",
       "1   0.446075  0.450191  0.518192  "
      ]
     },
     "execution_count": 441,
     "metadata": {},
     "output_type": "execute_result"
    }
   ],
   "source": [
    "models_initial = pd.DataFrame({\n",
    "    'Model'       : ['Logistic Regression', 'Decision Tree', 'Support Vector Machine', 'Linear Discriminant Analysis', 'Quadratic Discriminant Analysis', 'Random Forest', 'K-Nearest Neighbors', 'Bayes'],\n",
    "    'Fitting time': [LR_fit_time, dtree_fit_time, SVM_fit_time, LDA_fit_time, QDA_fit_time, forest_fit_time, KNN_fit_time, bayes_fit_time],\n",
    "    'Scoring time': [LR_score_time, dtree_score_time, SVM_score_time, LDA_score_time, QDA_score_time, forest_score_time, KNN_score_time, bayes_score_time],\n",
    "    'Accuracy'    : [LR_accuracy, dtree_accuracy, SVM_accuracy, LDA_accuracy, QDA_accuracy, forest_accuracy, KNN_accuracy, bayes_accuracy],\n",
    "    'Precision'   : [LR_precision, dtree_precision, SVM_precision, LDA_precision, QDA_precision, forest_precision, KNN_precision, bayes_precision],\n",
    "    'Recall'      : [LR_recall, dtree_recall, SVM_recall, LDA_recall, QDA_recall, forest_recall, KNN_recall, bayes_recall],\n",
    "    'F1_score'    : [LR_f1, dtree_f1, SVM_f1, LDA_f1, QDA_f1, forest_f1, KNN_f1, bayes_f1]\n",
    "    }, columns = ['Model', 'Fitting time', 'Scoring time', 'Accuracy', 'Precision', 'Recall', 'F1_score'])\n",
    "\n",
    "models_initial.sort_values(by='Accuracy', ascending=False)"
   ]
  },
  {
   "cell_type": "code",
   "execution_count": 417,
   "metadata": {},
   "outputs": [
    {
     "data": {
      "text/html": [
       "<div>\n",
       "<style scoped>\n",
       "    .dataframe tbody tr th:only-of-type {\n",
       "        vertical-align: middle;\n",
       "    }\n",
       "\n",
       "    .dataframe tbody tr th {\n",
       "        vertical-align: top;\n",
       "    }\n",
       "\n",
       "    .dataframe thead th {\n",
       "        text-align: right;\n",
       "    }\n",
       "</style>\n",
       "<table border=\"1\" class=\"dataframe\">\n",
       "  <thead>\n",
       "    <tr style=\"text-align: right;\">\n",
       "      <th></th>\n",
       "      <th>efficiency</th>\n",
       "      <th>avg_bedtime</th>\n",
       "      <th>avg_actual_sleeptime</th>\n",
       "      <th>weekday_midnight</th>\n",
       "      <th>weekend_midnight</th>\n",
       "      <th>disorder</th>\n",
       "      <th>motivation</th>\n",
       "      <th>ontime_bed</th>\n",
       "      <th>outside_noise</th>\n",
       "      <th>inside_noise</th>\n",
       "      <th>light</th>\n",
       "      <th>temperature</th>\n",
       "      <th>mattress</th>\n",
       "      <th>health</th>\n",
       "    </tr>\n",
       "  </thead>\n",
       "  <tbody>\n",
       "    <tr>\n",
       "      <td>0</td>\n",
       "      <td>0.605970</td>\n",
       "      <td>11.964286</td>\n",
       "      <td>7.250000</td>\n",
       "      <td>1</td>\n",
       "      <td>1</td>\n",
       "      <td>0</td>\n",
       "      <td>3</td>\n",
       "      <td>4</td>\n",
       "      <td>2</td>\n",
       "      <td>1</td>\n",
       "      <td>1</td>\n",
       "      <td>3</td>\n",
       "      <td>1</td>\n",
       "      <td>3</td>\n",
       "    </tr>\n",
       "    <tr>\n",
       "      <td>1</td>\n",
       "      <td>0.888889</td>\n",
       "      <td>9.000000</td>\n",
       "      <td>8.000000</td>\n",
       "      <td>1</td>\n",
       "      <td>1</td>\n",
       "      <td>0</td>\n",
       "      <td>4</td>\n",
       "      <td>3</td>\n",
       "      <td>3</td>\n",
       "      <td>2</td>\n",
       "      <td>2</td>\n",
       "      <td>3</td>\n",
       "      <td>2</td>\n",
       "      <td>2</td>\n",
       "    </tr>\n",
       "    <tr>\n",
       "      <td>2</td>\n",
       "      <td>0.957265</td>\n",
       "      <td>8.357143</td>\n",
       "      <td>8.000000</td>\n",
       "      <td>1</td>\n",
       "      <td>1</td>\n",
       "      <td>0</td>\n",
       "      <td>5</td>\n",
       "      <td>5</td>\n",
       "      <td>1</td>\n",
       "      <td>1</td>\n",
       "      <td>1</td>\n",
       "      <td>2</td>\n",
       "      <td>1</td>\n",
       "      <td>2</td>\n",
       "    </tr>\n",
       "    <tr>\n",
       "      <td>3</td>\n",
       "      <td>0.892857</td>\n",
       "      <td>8.000000</td>\n",
       "      <td>7.142857</td>\n",
       "      <td>1</td>\n",
       "      <td>0</td>\n",
       "      <td>0</td>\n",
       "      <td>4</td>\n",
       "      <td>3</td>\n",
       "      <td>1</td>\n",
       "      <td>1</td>\n",
       "      <td>2</td>\n",
       "      <td>2</td>\n",
       "      <td>1</td>\n",
       "      <td>2</td>\n",
       "    </tr>\n",
       "    <tr>\n",
       "      <td>4</td>\n",
       "      <td>1.000000</td>\n",
       "      <td>7.500000</td>\n",
       "      <td>7.500000</td>\n",
       "      <td>1</td>\n",
       "      <td>1</td>\n",
       "      <td>0</td>\n",
       "      <td>3</td>\n",
       "      <td>3</td>\n",
       "      <td>1</td>\n",
       "      <td>1</td>\n",
       "      <td>1</td>\n",
       "      <td>1</td>\n",
       "      <td>1</td>\n",
       "      <td>1</td>\n",
       "    </tr>\n",
       "    <tr>\n",
       "      <td>...</td>\n",
       "      <td>...</td>\n",
       "      <td>...</td>\n",
       "      <td>...</td>\n",
       "      <td>...</td>\n",
       "      <td>...</td>\n",
       "      <td>...</td>\n",
       "      <td>...</td>\n",
       "      <td>...</td>\n",
       "      <td>...</td>\n",
       "      <td>...</td>\n",
       "      <td>...</td>\n",
       "      <td>...</td>\n",
       "      <td>...</td>\n",
       "      <td>...</td>\n",
       "    </tr>\n",
       "    <tr>\n",
       "      <td>988</td>\n",
       "      <td>0.783784</td>\n",
       "      <td>10.571429</td>\n",
       "      <td>8.285714</td>\n",
       "      <td>1</td>\n",
       "      <td>1</td>\n",
       "      <td>0</td>\n",
       "      <td>4</td>\n",
       "      <td>4</td>\n",
       "      <td>3</td>\n",
       "      <td>3</td>\n",
       "      <td>2</td>\n",
       "      <td>2</td>\n",
       "      <td>3</td>\n",
       "      <td>1</td>\n",
       "    </tr>\n",
       "    <tr>\n",
       "      <td>989</td>\n",
       "      <td>1.000000</td>\n",
       "      <td>8.357143</td>\n",
       "      <td>9.000000</td>\n",
       "      <td>0</td>\n",
       "      <td>0</td>\n",
       "      <td>0</td>\n",
       "      <td>2</td>\n",
       "      <td>2</td>\n",
       "      <td>2</td>\n",
       "      <td>1</td>\n",
       "      <td>1</td>\n",
       "      <td>2</td>\n",
       "      <td>2</td>\n",
       "      <td>1</td>\n",
       "    </tr>\n",
       "    <tr>\n",
       "      <td>990</td>\n",
       "      <td>0.848606</td>\n",
       "      <td>8.964286</td>\n",
       "      <td>7.607143</td>\n",
       "      <td>0</td>\n",
       "      <td>0</td>\n",
       "      <td>0</td>\n",
       "      <td>5</td>\n",
       "      <td>4</td>\n",
       "      <td>1</td>\n",
       "      <td>1</td>\n",
       "      <td>1</td>\n",
       "      <td>2</td>\n",
       "      <td>1</td>\n",
       "      <td>2</td>\n",
       "    </tr>\n",
       "    <tr>\n",
       "      <td>991</td>\n",
       "      <td>1.000000</td>\n",
       "      <td>6.892857</td>\n",
       "      <td>8.571429</td>\n",
       "      <td>1</td>\n",
       "      <td>1</td>\n",
       "      <td>0</td>\n",
       "      <td>4</td>\n",
       "      <td>4</td>\n",
       "      <td>2</td>\n",
       "      <td>3</td>\n",
       "      <td>3</td>\n",
       "      <td>3</td>\n",
       "      <td>5</td>\n",
       "      <td>1</td>\n",
       "    </tr>\n",
       "    <tr>\n",
       "      <td>992</td>\n",
       "      <td>0.823077</td>\n",
       "      <td>9.285714</td>\n",
       "      <td>7.642857</td>\n",
       "      <td>0</td>\n",
       "      <td>0</td>\n",
       "      <td>0</td>\n",
       "      <td>5</td>\n",
       "      <td>4</td>\n",
       "      <td>3</td>\n",
       "      <td>4</td>\n",
       "      <td>1</td>\n",
       "      <td>2</td>\n",
       "      <td>2</td>\n",
       "      <td>1</td>\n",
       "    </tr>\n",
       "  </tbody>\n",
       "</table>\n",
       "<p>993 rows × 14 columns</p>\n",
       "</div>"
      ],
      "text/plain": [
       "     efficiency  avg_bedtime  avg_actual_sleeptime  weekday_midnight  \\\n",
       "0      0.605970    11.964286              7.250000                 1   \n",
       "1      0.888889     9.000000              8.000000                 1   \n",
       "2      0.957265     8.357143              8.000000                 1   \n",
       "3      0.892857     8.000000              7.142857                 1   \n",
       "4      1.000000     7.500000              7.500000                 1   \n",
       "..          ...          ...                   ...               ...   \n",
       "988    0.783784    10.571429              8.285714                 1   \n",
       "989    1.000000     8.357143              9.000000                 0   \n",
       "990    0.848606     8.964286              7.607143                 0   \n",
       "991    1.000000     6.892857              8.571429                 1   \n",
       "992    0.823077     9.285714              7.642857                 0   \n",
       "\n",
       "     weekend_midnight  disorder  motivation  ontime_bed  outside_noise  \\\n",
       "0                   1         0           3           4              2   \n",
       "1                   1         0           4           3              3   \n",
       "2                   1         0           5           5              1   \n",
       "3                   0         0           4           3              1   \n",
       "4                   1         0           3           3              1   \n",
       "..                ...       ...         ...         ...            ...   \n",
       "988                 1         0           4           4              3   \n",
       "989                 0         0           2           2              2   \n",
       "990                 0         0           5           4              1   \n",
       "991                 1         0           4           4              2   \n",
       "992                 0         0           5           4              3   \n",
       "\n",
       "     inside_noise  light  temperature  mattress  health  \n",
       "0               1      1            3         1       3  \n",
       "1               2      2            3         2       2  \n",
       "2               1      1            2         1       2  \n",
       "3               1      2            2         1       2  \n",
       "4               1      1            1         1       1  \n",
       "..            ...    ...          ...       ...     ...  \n",
       "988             3      2            2         3       1  \n",
       "989             1      1            2         2       1  \n",
       "990             1      1            2         1       2  \n",
       "991             3      3            3         5       1  \n",
       "992             4      1            2         2       1  \n",
       "\n",
       "[993 rows x 14 columns]"
      ]
     },
     "execution_count": 417,
     "metadata": {},
     "output_type": "execute_result"
    }
   ],
   "source": [
    "X"
   ]
  },
  {
   "cell_type": "code",
   "execution_count": 281,
   "metadata": {},
   "outputs": [
    {
     "data": {
      "text/plain": [
       "<matplotlib.axes._subplots.AxesSubplot at 0x1c284386a0>"
      ]
     },
     "execution_count": 281,
     "metadata": {},
     "output_type": "execute_result"
    },
    {
     "data": {
      "image/png": "[encoded data removed]",
      "text/plain": [
       "<Figure size 1440x1440 with 2 Axes>"
      ]
     },
     "metadata": {},
     "output_type": "display_data"
    }
   ],
   "source": [
    "\n",
    "correlation = df.corr()\n",
    "\n",
    "mask = np.zeros_like(correlation, dtype=np.bool)\n",
    "mask[np.triu_indices_from(mask)] = True\n",
    "\n",
    "f, ax = plt.subplots(figsize=(20, 20))\n",
    "\n",
    "cmap = sns.diverging_palette(180, 20, as_cmap=True)\n",
    "sns.heatmap(correlation, mask=mask, cmap=cmap, vmax=1, vmin =-1, center=0,\n",
    "            square=True, linewidths=.5, cbar_kws={\"shrink\": .5}, annot=True)\n",
    "\n",
    "plt.show()"
   ]
  },
  {
   "cell_type": "code",
   "execution_count": 418,
   "metadata": {},
   "outputs": [],
   "source": [
    "X_corr=df[['weekday_midnight','weekend_midnight','disorder',\"avg_bedtime\",'motivation',\"outside_noise\",'light','temperature']]"
   ]
  },
  {
   "cell_type": "code",
   "execution_count": 419,
   "metadata": {},
   "outputs": [],
   "source": [
    "y_corr=df['sm_quality']"
   ]
  },
  {
   "cell_type": "code",
   "execution_count": 420,
   "metadata": {},
   "outputs": [
    {
     "data": {
      "text/plain": [
       "<matplotlib.axes._subplots.AxesSubplot at 0x1c2be8c080>"
      ]
     },
     "execution_count": 420,
     "metadata": {},
     "output_type": "execute_result"
    },
    {
     "data": {
      "image/png": "[encoded data removed]",
      "text/plain": [
       "<Figure size 360x360 with 2 Axes>"
      ]
     },
     "metadata": {},
     "output_type": "display_data"
    }
   ],
   "source": [
    "correlation = X_corr.corr()\n",
    "\n",
    "mask = np.zeros_like(correlation, dtype=np.bool)\n",
    "mask[np.triu_indices_from(mask)] = True\n",
    "\n",
    "f, ax = plt.subplots(figsize=(5, 5))\n",
    "\n",
    "cmap = sns.diverging_palette(180, 20, as_cmap=True)\n",
    "sns.heatmap(correlation, mask=mask, cmap=cmap, vmax=1, vmin =-1, center=0,\n",
    "            square=True, linewidths=.5, cbar_kws={\"shrink\": .5}, annot=True)\n",
    "\n",
    "plt.show()"
   ]
  },
  {
   "cell_type": "code",
   "execution_count": 421,
   "metadata": {},
   "outputs": [],
   "source": [
    "X_train, X_test, y_train, y_test = train_test_split(X_corr,y_corr,test_size=0.34)"
   ]
  },
  {
   "cell_type": "code",
   "execution_count": 422,
   "metadata": {},
   "outputs": [
    {
     "data": {
      "text/plain": [
       "['fit_time',\n",
       " 'score_time',\n",
       " 'test_accuracy',\n",
       " 'test_f1_weighted',\n",
       " 'test_precision_macro',\n",
       " 'test_recall_macro']"
      ]
     },
     "execution_count": 422,
     "metadata": {},
     "output_type": "execute_result"
    }
   ],
   "source": [
    "LR = LogisticRegression()\n",
    "\n",
    "scoring = ['accuracy', 'precision_macro', 'recall_macro' , 'f1_weighted']\n",
    "scores = cross_validate(LR, X_train, y_train, scoring=scoring, cv=20)\n",
    "\n",
    "sorted(scores.keys())\n",
    "LR_fit_time = scores['fit_time'].mean()\n",
    "LR_score_time = scores['score_time'].mean()\n",
    "LR_accuracy = scores['test_accuracy'].mean()\n",
    "LR_precision = scores['test_precision_macro'].mean()\n",
    "LR_recall = scores['test_recall_macro'].mean()\n",
    "LR_f1 = scores['test_f1_weighted'].mean()\n"
   ]
  },
  {
   "cell_type": "code",
   "execution_count": null,
   "metadata": {},
   "outputs": [],
   "source": []
  },
  {
   "cell_type": "code",
   "execution_count": 415,
   "metadata": {},
   "outputs": [
    {
     "data": {
      "text/plain": [
       "0.5799652118912081"
      ]
     },
     "execution_count": 415,
     "metadata": {},
     "output_type": "execute_result"
    }
   ],
   "source": [
    "LR_accuracy"
   ]
  },
  {
   "cell_type": "code",
   "execution_count": 423,
   "metadata": {},
   "outputs": [
    {
     "data": {
      "text/plain": [
       "['fit_time',\n",
       " 'score_time',\n",
       " 'test_accuracy',\n",
       " 'test_f1_weighted',\n",
       " 'test_precision_macro',\n",
       " 'test_recall_macro']"
      ]
     },
     "execution_count": 423,
     "metadata": {},
     "output_type": "execute_result"
    }
   ],
   "source": [
    "decision_tree = DecisionTreeClassifier()\n",
    "\n",
    "scoring = ['accuracy', 'precision_macro', 'recall_macro' , 'f1_weighted']\n",
    "scores = cross_validate(decision_tree, X_train, y_train, scoring=scoring, cv=20)\n",
    "\n",
    "sorted(scores.keys())\n",
    "dtree_fit_time = scores['fit_time'].mean()\n",
    "dtree_score_time = scores['score_time'].mean()\n",
    "dtree_accuracy = scores['test_accuracy'].mean()\n",
    "dtree_precision = scores['test_precision_macro'].mean()\n",
    "dtree_recall = scores['test_recall_macro'].mean()\n",
    "dtree_f1 = scores['test_f1_weighted'].mean()\n"
   ]
  },
  {
   "cell_type": "code",
   "execution_count": 53,
   "metadata": {},
   "outputs": [
    {
     "data": {
      "text/plain": [
       "['fit_time',\n",
       " 'score_time',\n",
       " 'test_accuracy',\n",
       " 'test_f1_weighted',\n",
       " 'test_precision_macro',\n",
       " 'test_recall_macro']"
      ]
     },
     "execution_count": 53,
     "metadata": {},
     "output_type": "execute_result"
    }
   ],
   "source": [
    "SVM = SVC(probability = True)\n",
    "\n",
    "scoring = ['accuracy','precision_macro', 'recall_macro' , 'f1_weighted']\n",
    "scores = cross_validate(SVM, X_train, y_train, scoring=scoring, cv=20)\n",
    "\n",
    "sorted(scores.keys())\n",
    "SVM_fit_time = scores['fit_time'].mean()\n",
    "SVM_score_time = scores['score_time'].mean()\n",
    "SVM_accuracy = scores['test_accuracy'].mean()\n",
    "SVM_precision = scores['test_precision_macro'].mean()\n",
    "SVM_recall = scores['test_recall_macro'].mean()\n",
    "SVM_f1 = scores['test_f1_weighted'].mean()\n"
   ]
  },
  {
   "cell_type": "code",
   "execution_count": 54,
   "metadata": {},
   "outputs": [
    {
     "ename": "TypeError",
     "evalue": "'Series' object cannot be interpreted as an integer",
     "output_type": "error",
     "traceback": [
      "\u001b[0;31m---------------------------------------------------------------------------\u001b[0m",
      "\u001b[0;31mTypeError\u001b[0m                                 Traceback (most recent call last)",
      "\u001b[0;32m<ipython-input-54-6f9e60648499>\u001b[0m in \u001b[0;36m<module>\u001b[0;34m\u001b[0m\n\u001b[1;32m      2\u001b[0m \u001b[0;34m\u001b[0m\u001b[0m\n\u001b[1;32m      3\u001b[0m \u001b[0mscoring\u001b[0m \u001b[0;34m=\u001b[0m \u001b[0;34m[\u001b[0m\u001b[0;34m'accuracy'\u001b[0m\u001b[0;34m,\u001b[0m \u001b[0;34m'precision_macro'\u001b[0m\u001b[0;34m,\u001b[0m \u001b[0;34m'recall_macro'\u001b[0m \u001b[0;34m,\u001b[0m \u001b[0;34m'f1_weighted'\u001b[0m\u001b[0;34m]\u001b[0m\u001b[0;34m\u001b[0m\u001b[0;34m\u001b[0m\u001b[0m\n\u001b[0;32m----> 4\u001b[0;31m \u001b[0mscores\u001b[0m \u001b[0;34m=\u001b[0m \u001b[0mcross_validate\u001b[0m\u001b[0;34m(\u001b[0m\u001b[0mLDA\u001b[0m\u001b[0;34m,\u001b[0m \u001b[0mX_train\u001b[0m\u001b[0;34m,\u001b[0m \u001b[0my_train\u001b[0m\u001b[0;34m,\u001b[0m \u001b[0mscoring\u001b[0m\u001b[0;34m=\u001b[0m\u001b[0mscoring\u001b[0m\u001b[0;34m,\u001b[0m \u001b[0mcv\u001b[0m\u001b[0;34m=\u001b[0m\u001b[0;36m20\u001b[0m\u001b[0;34m)\u001b[0m\u001b[0;34m\u001b[0m\u001b[0;34m\u001b[0m\u001b[0m\n\u001b[0m\u001b[1;32m      5\u001b[0m \u001b[0;34m\u001b[0m\u001b[0m\n\u001b[1;32m      6\u001b[0m \u001b[0msorted\u001b[0m\u001b[0;34m(\u001b[0m\u001b[0mscores\u001b[0m\u001b[0;34m.\u001b[0m\u001b[0mkeys\u001b[0m\u001b[0;34m(\u001b[0m\u001b[0;34m)\u001b[0m\u001b[0;34m)\u001b[0m\u001b[0;34m\u001b[0m\u001b[0;34m\u001b[0m\u001b[0m\n",
      "\u001b[0;32m~/anaconda3/lib/python3.7/site-packages/sklearn/model_selection/_validation.py\u001b[0m in \u001b[0;36mcross_validate\u001b[0;34m(estimator, X, y, groups, scoring, cv, n_jobs, verbose, fit_params, pre_dispatch, return_train_score, return_estimator, error_score)\u001b[0m\n\u001b[1;32m    230\u001b[0m             \u001b[0mreturn_times\u001b[0m\u001b[0;34m=\u001b[0m\u001b[0;32mTrue\u001b[0m\u001b[0;34m,\u001b[0m \u001b[0mreturn_estimator\u001b[0m\u001b[0;34m=\u001b[0m\u001b[0mreturn_estimator\u001b[0m\u001b[0;34m,\u001b[0m\u001b[0;34m\u001b[0m\u001b[0;34m\u001b[0m\u001b[0m\n\u001b[1;32m    231\u001b[0m             error_score=error_score)\n\u001b[0;32m--> 232\u001b[0;31m         for train, test in cv.split(X, y, groups))\n\u001b[0m\u001b[1;32m    233\u001b[0m \u001b[0;34m\u001b[0m\u001b[0m\n\u001b[1;32m    234\u001b[0m     \u001b[0mzipped_scores\u001b[0m \u001b[0;34m=\u001b[0m \u001b[0mlist\u001b[0m\u001b[0;34m(\u001b[0m\u001b[0mzip\u001b[0m\u001b[0;34m(\u001b[0m\u001b[0;34m*\u001b[0m\u001b[0mscores\u001b[0m\u001b[0;34m)\u001b[0m\u001b[0;34m)\u001b[0m\u001b[0;34m\u001b[0m\u001b[0;34m\u001b[0m\u001b[0m\n",
      "\u001b[0;32m~/anaconda3/lib/python3.7/site-packages/joblib/parallel.py\u001b[0m in \u001b[0;36m__call__\u001b[0;34m(self, iterable)\u001b[0m\n\u001b[1;32m    919\u001b[0m             \u001b[0;31m# remaining jobs.\u001b[0m\u001b[0;34m\u001b[0m\u001b[0;34m\u001b[0m\u001b[0;34m\u001b[0m\u001b[0m\n\u001b[1;32m    920\u001b[0m             \u001b[0mself\u001b[0m\u001b[0;34m.\u001b[0m\u001b[0m_iterating\u001b[0m \u001b[0;34m=\u001b[0m \u001b[0;32mFalse\u001b[0m\u001b[0;34m\u001b[0m\u001b[0;34m\u001b[0m\u001b[0m\n\u001b[0;32m--> 921\u001b[0;31m             \u001b[0;32mif\u001b[0m \u001b[0mself\u001b[0m\u001b[0;34m.\u001b[0m\u001b[0mdispatch_one_batch\u001b[0m\u001b[0;34m(\u001b[0m\u001b[0miterator\u001b[0m\u001b[0;34m)\u001b[0m\u001b[0;34m:\u001b[0m\u001b[0;34m\u001b[0m\u001b[0;34m\u001b[0m\u001b[0m\n\u001b[0m\u001b[1;32m    922\u001b[0m                 \u001b[0mself\u001b[0m\u001b[0;34m.\u001b[0m\u001b[0m_iterating\u001b[0m \u001b[0;34m=\u001b[0m \u001b[0mself\u001b[0m\u001b[0;34m.\u001b[0m\u001b[0m_original_iterator\u001b[0m \u001b[0;32mis\u001b[0m \u001b[0;32mnot\u001b[0m \u001b[0;32mNone\u001b[0m\u001b[0;34m\u001b[0m\u001b[0;34m\u001b[0m\u001b[0m\n\u001b[1;32m    923\u001b[0m \u001b[0;34m\u001b[0m\u001b[0m\n",
      "\u001b[0;32m~/anaconda3/lib/python3.7/site-packages/joblib/parallel.py\u001b[0m in \u001b[0;36mdispatch_one_batch\u001b[0;34m(self, iterator)\u001b[0m\n\u001b[1;32m    757\u001b[0m                 \u001b[0;32mreturn\u001b[0m \u001b[0;32mFalse\u001b[0m\u001b[0;34m\u001b[0m\u001b[0;34m\u001b[0m\u001b[0m\n\u001b[1;32m    758\u001b[0m             \u001b[0;32melse\u001b[0m\u001b[0;34m:\u001b[0m\u001b[0;34m\u001b[0m\u001b[0;34m\u001b[0m\u001b[0m\n\u001b[0;32m--> 759\u001b[0;31m                 \u001b[0mself\u001b[0m\u001b[0;34m.\u001b[0m\u001b[0m_dispatch\u001b[0m\u001b[0;34m(\u001b[0m\u001b[0mtasks\u001b[0m\u001b[0;34m)\u001b[0m\u001b[0;34m\u001b[0m\u001b[0;34m\u001b[0m\u001b[0m\n\u001b[0m\u001b[1;32m    760\u001b[0m                 \u001b[0;32mreturn\u001b[0m \u001b[0;32mTrue\u001b[0m\u001b[0;34m\u001b[0m\u001b[0;34m\u001b[0m\u001b[0m\n\u001b[1;32m    761\u001b[0m \u001b[0;34m\u001b[0m\u001b[0m\n",
      "\u001b[0;32m~/anaconda3/lib/python3.7/site-packages/joblib/parallel.py\u001b[0m in \u001b[0;36m_dispatch\u001b[0;34m(self, batch)\u001b[0m\n\u001b[1;32m    714\u001b[0m         \u001b[0;32mwith\u001b[0m \u001b[0mself\u001b[0m\u001b[0;34m.\u001b[0m\u001b[0m_lock\u001b[0m\u001b[0;34m:\u001b[0m\u001b[0;34m\u001b[0m\u001b[0;34m\u001b[0m\u001b[0m\n\u001b[1;32m    715\u001b[0m             \u001b[0mjob_idx\u001b[0m \u001b[0;34m=\u001b[0m \u001b[0mlen\u001b[0m\u001b[0;34m(\u001b[0m\u001b[0mself\u001b[0m\u001b[0;34m.\u001b[0m\u001b[0m_jobs\u001b[0m\u001b[0;34m)\u001b[0m\u001b[0;34m\u001b[0m\u001b[0;34m\u001b[0m\u001b[0m\n\u001b[0;32m--> 716\u001b[0;31m             \u001b[0mjob\u001b[0m \u001b[0;34m=\u001b[0m \u001b[0mself\u001b[0m\u001b[0;34m.\u001b[0m\u001b[0m_backend\u001b[0m\u001b[0;34m.\u001b[0m\u001b[0mapply_async\u001b[0m\u001b[0;34m(\u001b[0m\u001b[0mbatch\u001b[0m\u001b[0;34m,\u001b[0m \u001b[0mcallback\u001b[0m\u001b[0;34m=\u001b[0m\u001b[0mcb\u001b[0m\u001b[0;34m)\u001b[0m\u001b[0;34m\u001b[0m\u001b[0;34m\u001b[0m\u001b[0m\n\u001b[0m\u001b[1;32m    717\u001b[0m             \u001b[0;31m# A job can complete so quickly than its callback is\u001b[0m\u001b[0;34m\u001b[0m\u001b[0;34m\u001b[0m\u001b[0;34m\u001b[0m\u001b[0m\n\u001b[1;32m    718\u001b[0m             \u001b[0;31m# called before we get here, causing self._jobs to\u001b[0m\u001b[0;34m\u001b[0m\u001b[0;34m\u001b[0m\u001b[0;34m\u001b[0m\u001b[0m\n",
      "\u001b[0;32m~/anaconda3/lib/python3.7/site-packages/joblib/_parallel_backends.py\u001b[0m in \u001b[0;36mapply_async\u001b[0;34m(self, func, callback)\u001b[0m\n\u001b[1;32m    180\u001b[0m     \u001b[0;32mdef\u001b[0m \u001b[0mapply_async\u001b[0m\u001b[0;34m(\u001b[0m\u001b[0mself\u001b[0m\u001b[0;34m,\u001b[0m \u001b[0mfunc\u001b[0m\u001b[0;34m,\u001b[0m \u001b[0mcallback\u001b[0m\u001b[0;34m=\u001b[0m\u001b[0;32mNone\u001b[0m\u001b[0;34m)\u001b[0m\u001b[0;34m:\u001b[0m\u001b[0;34m\u001b[0m\u001b[0;34m\u001b[0m\u001b[0m\n\u001b[1;32m    181\u001b[0m         \u001b[0;34m\"\"\"Schedule a func to be run\"\"\"\u001b[0m\u001b[0;34m\u001b[0m\u001b[0;34m\u001b[0m\u001b[0m\n\u001b[0;32m--> 182\u001b[0;31m         \u001b[0mresult\u001b[0m \u001b[0;34m=\u001b[0m \u001b[0mImmediateResult\u001b[0m\u001b[0;34m(\u001b[0m\u001b[0mfunc\u001b[0m\u001b[0;34m)\u001b[0m\u001b[0;34m\u001b[0m\u001b[0;34m\u001b[0m\u001b[0m\n\u001b[0m\u001b[1;32m    183\u001b[0m         \u001b[0;32mif\u001b[0m \u001b[0mcallback\u001b[0m\u001b[0;34m:\u001b[0m\u001b[0;34m\u001b[0m\u001b[0;34m\u001b[0m\u001b[0m\n\u001b[1;32m    184\u001b[0m             \u001b[0mcallback\u001b[0m\u001b[0;34m(\u001b[0m\u001b[0mresult\u001b[0m\u001b[0;34m)\u001b[0m\u001b[0;34m\u001b[0m\u001b[0;34m\u001b[0m\u001b[0m\n",
      "\u001b[0;32m~/anaconda3/lib/python3.7/site-packages/joblib/_parallel_backends.py\u001b[0m in \u001b[0;36m__init__\u001b[0;34m(self, batch)\u001b[0m\n\u001b[1;32m    547\u001b[0m         \u001b[0;31m# Don't delay the application, to avoid keeping the input\u001b[0m\u001b[0;34m\u001b[0m\u001b[0;34m\u001b[0m\u001b[0;34m\u001b[0m\u001b[0m\n\u001b[1;32m    548\u001b[0m         \u001b[0;31m# arguments in memory\u001b[0m\u001b[0;34m\u001b[0m\u001b[0;34m\u001b[0m\u001b[0;34m\u001b[0m\u001b[0m\n\u001b[0;32m--> 549\u001b[0;31m         \u001b[0mself\u001b[0m\u001b[0;34m.\u001b[0m\u001b[0mresults\u001b[0m \u001b[0;34m=\u001b[0m \u001b[0mbatch\u001b[0m\u001b[0;34m(\u001b[0m\u001b[0;34m)\u001b[0m\u001b[0;34m\u001b[0m\u001b[0;34m\u001b[0m\u001b[0m\n\u001b[0m\u001b[1;32m    550\u001b[0m \u001b[0;34m\u001b[0m\u001b[0m\n\u001b[1;32m    551\u001b[0m     \u001b[0;32mdef\u001b[0m \u001b[0mget\u001b[0m\u001b[0;34m(\u001b[0m\u001b[0mself\u001b[0m\u001b[0;34m)\u001b[0m\u001b[0;34m:\u001b[0m\u001b[0;34m\u001b[0m\u001b[0;34m\u001b[0m\u001b[0m\n",
      "\u001b[0;32m~/anaconda3/lib/python3.7/site-packages/joblib/parallel.py\u001b[0m in \u001b[0;36m__call__\u001b[0;34m(self)\u001b[0m\n\u001b[1;32m    223\u001b[0m         \u001b[0;32mwith\u001b[0m \u001b[0mparallel_backend\u001b[0m\u001b[0;34m(\u001b[0m\u001b[0mself\u001b[0m\u001b[0;34m.\u001b[0m\u001b[0m_backend\u001b[0m\u001b[0;34m,\u001b[0m \u001b[0mn_jobs\u001b[0m\u001b[0;34m=\u001b[0m\u001b[0mself\u001b[0m\u001b[0;34m.\u001b[0m\u001b[0m_n_jobs\u001b[0m\u001b[0;34m)\u001b[0m\u001b[0;34m:\u001b[0m\u001b[0;34m\u001b[0m\u001b[0;34m\u001b[0m\u001b[0m\n\u001b[1;32m    224\u001b[0m             return [func(*args, **kwargs)\n\u001b[0;32m--> 225\u001b[0;31m                     for func, args, kwargs in self.items]\n\u001b[0m\u001b[1;32m    226\u001b[0m \u001b[0;34m\u001b[0m\u001b[0m\n\u001b[1;32m    227\u001b[0m     \u001b[0;32mdef\u001b[0m \u001b[0m__len__\u001b[0m\u001b[0;34m(\u001b[0m\u001b[0mself\u001b[0m\u001b[0;34m)\u001b[0m\u001b[0;34m:\u001b[0m\u001b[0;34m\u001b[0m\u001b[0;34m\u001b[0m\u001b[0m\n",
      "\u001b[0;32m~/anaconda3/lib/python3.7/site-packages/joblib/parallel.py\u001b[0m in \u001b[0;36m<listcomp>\u001b[0;34m(.0)\u001b[0m\n\u001b[1;32m    223\u001b[0m         \u001b[0;32mwith\u001b[0m \u001b[0mparallel_backend\u001b[0m\u001b[0;34m(\u001b[0m\u001b[0mself\u001b[0m\u001b[0;34m.\u001b[0m\u001b[0m_backend\u001b[0m\u001b[0;34m,\u001b[0m \u001b[0mn_jobs\u001b[0m\u001b[0;34m=\u001b[0m\u001b[0mself\u001b[0m\u001b[0;34m.\u001b[0m\u001b[0m_n_jobs\u001b[0m\u001b[0;34m)\u001b[0m\u001b[0;34m:\u001b[0m\u001b[0;34m\u001b[0m\u001b[0;34m\u001b[0m\u001b[0m\n\u001b[1;32m    224\u001b[0m             return [func(*args, **kwargs)\n\u001b[0;32m--> 225\u001b[0;31m                     for func, args, kwargs in self.items]\n\u001b[0m\u001b[1;32m    226\u001b[0m \u001b[0;34m\u001b[0m\u001b[0m\n\u001b[1;32m    227\u001b[0m     \u001b[0;32mdef\u001b[0m \u001b[0m__len__\u001b[0m\u001b[0;34m(\u001b[0m\u001b[0mself\u001b[0m\u001b[0;34m)\u001b[0m\u001b[0;34m:\u001b[0m\u001b[0;34m\u001b[0m\u001b[0;34m\u001b[0m\u001b[0m\n",
      "\u001b[0;32m~/anaconda3/lib/python3.7/site-packages/sklearn/model_selection/_validation.py\u001b[0m in \u001b[0;36m_fit_and_score\u001b[0;34m(estimator, X, y, scorer, train, test, verbose, parameters, fit_params, return_train_score, return_parameters, return_n_test_samples, return_times, return_estimator, error_score)\u001b[0m\n\u001b[1;32m    514\u001b[0m             \u001b[0mestimator\u001b[0m\u001b[0;34m.\u001b[0m\u001b[0mfit\u001b[0m\u001b[0;34m(\u001b[0m\u001b[0mX_train\u001b[0m\u001b[0;34m,\u001b[0m \u001b[0;34m**\u001b[0m\u001b[0mfit_params\u001b[0m\u001b[0;34m)\u001b[0m\u001b[0;34m\u001b[0m\u001b[0;34m\u001b[0m\u001b[0m\n\u001b[1;32m    515\u001b[0m         \u001b[0;32melse\u001b[0m\u001b[0;34m:\u001b[0m\u001b[0;34m\u001b[0m\u001b[0;34m\u001b[0m\u001b[0m\n\u001b[0;32m--> 516\u001b[0;31m             \u001b[0mestimator\u001b[0m\u001b[0;34m.\u001b[0m\u001b[0mfit\u001b[0m\u001b[0;34m(\u001b[0m\u001b[0mX_train\u001b[0m\u001b[0;34m,\u001b[0m \u001b[0my_train\u001b[0m\u001b[0;34m,\u001b[0m \u001b[0;34m**\u001b[0m\u001b[0mfit_params\u001b[0m\u001b[0;34m)\u001b[0m\u001b[0;34m\u001b[0m\u001b[0;34m\u001b[0m\u001b[0m\n\u001b[0m\u001b[1;32m    517\u001b[0m \u001b[0;34m\u001b[0m\u001b[0m\n\u001b[1;32m    518\u001b[0m     \u001b[0;32mexcept\u001b[0m \u001b[0mException\u001b[0m \u001b[0;32mas\u001b[0m \u001b[0me\u001b[0m\u001b[0;34m:\u001b[0m\u001b[0;34m\u001b[0m\u001b[0;34m\u001b[0m\u001b[0m\n",
      "\u001b[0;32m~/anaconda3/lib/python3.7/site-packages/mlxtend/feature_extraction/linear_discriminant_analysis.py\u001b[0m in \u001b[0;36mfit\u001b[0;34m(self, X, y, n_classes)\u001b[0m\n\u001b[1;32m     63\u001b[0m         \u001b[0mself\u001b[0m\u001b[0;34m.\u001b[0m\u001b[0m_is_fitted\u001b[0m \u001b[0;34m=\u001b[0m \u001b[0;32mFalse\u001b[0m\u001b[0;34m\u001b[0m\u001b[0;34m\u001b[0m\u001b[0m\n\u001b[1;32m     64\u001b[0m         \u001b[0mself\u001b[0m\u001b[0;34m.\u001b[0m\u001b[0m_check_arrays\u001b[0m\u001b[0;34m(\u001b[0m\u001b[0mX\u001b[0m\u001b[0;34m=\u001b[0m\u001b[0mX\u001b[0m\u001b[0;34m,\u001b[0m \u001b[0my\u001b[0m\u001b[0;34m=\u001b[0m\u001b[0my\u001b[0m\u001b[0;34m)\u001b[0m\u001b[0;34m\u001b[0m\u001b[0;34m\u001b[0m\u001b[0m\n\u001b[0;32m---> 65\u001b[0;31m         \u001b[0mself\u001b[0m\u001b[0;34m.\u001b[0m\u001b[0m_fit\u001b[0m\u001b[0;34m(\u001b[0m\u001b[0mX\u001b[0m\u001b[0;34m=\u001b[0m\u001b[0mX\u001b[0m\u001b[0;34m,\u001b[0m \u001b[0my\u001b[0m\u001b[0;34m=\u001b[0m\u001b[0my\u001b[0m\u001b[0;34m,\u001b[0m \u001b[0mn_classes\u001b[0m\u001b[0;34m=\u001b[0m\u001b[0mn_classes\u001b[0m\u001b[0;34m)\u001b[0m\u001b[0;34m\u001b[0m\u001b[0;34m\u001b[0m\u001b[0m\n\u001b[0m\u001b[1;32m     66\u001b[0m         \u001b[0mself\u001b[0m\u001b[0;34m.\u001b[0m\u001b[0m_is_fitted\u001b[0m \u001b[0;34m=\u001b[0m \u001b[0;32mTrue\u001b[0m\u001b[0;34m\u001b[0m\u001b[0;34m\u001b[0m\u001b[0m\n\u001b[1;32m     67\u001b[0m         \u001b[0;32mreturn\u001b[0m \u001b[0mself\u001b[0m\u001b[0;34m\u001b[0m\u001b[0;34m\u001b[0m\u001b[0m\n",
      "\u001b[0;32m~/anaconda3/lib/python3.7/site-packages/mlxtend/feature_extraction/linear_discriminant_analysis.py\u001b[0m in \u001b[0;36m_fit\u001b[0;34m(self, X, y, n_classes)\u001b[0m\n\u001b[1;32m     80\u001b[0m         \u001b[0mself\u001b[0m\u001b[0;34m.\u001b[0m\u001b[0m_n_features\u001b[0m \u001b[0;34m=\u001b[0m \u001b[0mX\u001b[0m\u001b[0;34m.\u001b[0m\u001b[0mshape\u001b[0m\u001b[0;34m[\u001b[0m\u001b[0;36m1\u001b[0m\u001b[0;34m]\u001b[0m\u001b[0;34m\u001b[0m\u001b[0;34m\u001b[0m\u001b[0m\n\u001b[1;32m     81\u001b[0m \u001b[0;34m\u001b[0m\u001b[0m\n\u001b[0;32m---> 82\u001b[0;31m         \u001b[0mmean_vecs\u001b[0m \u001b[0;34m=\u001b[0m \u001b[0mself\u001b[0m\u001b[0;34m.\u001b[0m\u001b[0m_mean_vectors\u001b[0m\u001b[0;34m(\u001b[0m\u001b[0mX\u001b[0m\u001b[0;34m=\u001b[0m\u001b[0mX\u001b[0m\u001b[0;34m,\u001b[0m \u001b[0my\u001b[0m\u001b[0;34m=\u001b[0m\u001b[0my\u001b[0m\u001b[0;34m,\u001b[0m \u001b[0mn_classes\u001b[0m\u001b[0;34m=\u001b[0m\u001b[0mself\u001b[0m\u001b[0;34m.\u001b[0m\u001b[0m_n_classes\u001b[0m\u001b[0;34m)\u001b[0m\u001b[0;34m\u001b[0m\u001b[0;34m\u001b[0m\u001b[0m\n\u001b[0m\u001b[1;32m     83\u001b[0m         within_scatter = self._within_scatter(X=X,\n\u001b[1;32m     84\u001b[0m                                               \u001b[0my\u001b[0m\u001b[0;34m=\u001b[0m\u001b[0my\u001b[0m\u001b[0;34m,\u001b[0m\u001b[0;34m\u001b[0m\u001b[0;34m\u001b[0m\u001b[0m\n",
      "\u001b[0;32m~/anaconda3/lib/python3.7/site-packages/mlxtend/feature_extraction/linear_discriminant_analysis.py\u001b[0m in \u001b[0;36m_mean_vectors\u001b[0;34m(self, X, y, n_classes)\u001b[0m\n\u001b[1;32m    117\u001b[0m     \u001b[0;32mdef\u001b[0m \u001b[0m_mean_vectors\u001b[0m\u001b[0;34m(\u001b[0m\u001b[0mself\u001b[0m\u001b[0;34m,\u001b[0m \u001b[0mX\u001b[0m\u001b[0;34m,\u001b[0m \u001b[0my\u001b[0m\u001b[0;34m,\u001b[0m \u001b[0mn_classes\u001b[0m\u001b[0;34m)\u001b[0m\u001b[0;34m:\u001b[0m\u001b[0;34m\u001b[0m\u001b[0;34m\u001b[0m\u001b[0m\n\u001b[1;32m    118\u001b[0m         \u001b[0mmean_vectors\u001b[0m \u001b[0;34m=\u001b[0m \u001b[0;34m[\u001b[0m\u001b[0;34m]\u001b[0m\u001b[0;34m\u001b[0m\u001b[0;34m\u001b[0m\u001b[0m\n\u001b[0;32m--> 119\u001b[0;31m         \u001b[0;32mfor\u001b[0m \u001b[0mcl\u001b[0m \u001b[0;32min\u001b[0m \u001b[0mrange\u001b[0m\u001b[0;34m(\u001b[0m\u001b[0mn_classes\u001b[0m\u001b[0;34m)\u001b[0m\u001b[0;34m:\u001b[0m\u001b[0;34m\u001b[0m\u001b[0;34m\u001b[0m\u001b[0m\n\u001b[0m\u001b[1;32m    120\u001b[0m             \u001b[0mmean_vectors\u001b[0m\u001b[0;34m.\u001b[0m\u001b[0mappend\u001b[0m\u001b[0;34m(\u001b[0m\u001b[0mnp\u001b[0m\u001b[0;34m.\u001b[0m\u001b[0mmean\u001b[0m\u001b[0;34m(\u001b[0m\u001b[0mX\u001b[0m\u001b[0;34m[\u001b[0m\u001b[0my\u001b[0m \u001b[0;34m==\u001b[0m \u001b[0mcl\u001b[0m\u001b[0;34m]\u001b[0m\u001b[0;34m,\u001b[0m \u001b[0maxis\u001b[0m\u001b[0;34m=\u001b[0m\u001b[0;36m0\u001b[0m\u001b[0;34m)\u001b[0m\u001b[0;34m)\u001b[0m\u001b[0;34m\u001b[0m\u001b[0;34m\u001b[0m\u001b[0m\n\u001b[1;32m    121\u001b[0m         \u001b[0;32mreturn\u001b[0m \u001b[0mmean_vectors\u001b[0m\u001b[0;34m\u001b[0m\u001b[0;34m\u001b[0m\u001b[0m\n",
      "\u001b[0;31mTypeError\u001b[0m: 'Series' object cannot be interpreted as an integer"
     ]
    }
   ],
   "source": [
    "LDA = LinearDiscriminantAnalysis()\n",
    "\n",
    "scoring = ['accuracy', 'precision_macro', 'recall_macro' , 'f1_weighted']\n",
    "scores = cross_validate(LDA, X_train, y_train, scoring=scoring, cv=20)\n",
    "\n",
    "sorted(scores.keys())\n",
    "LDA_fit_time = scores['fit_time'].mean()\n",
    "LDA_score_time = scores['score_time'].mean()\n",
    "LDA_accuracy = scores['test_accuracy'].mean()\n",
    "LDA_precision = scores['test_precision_macro'].mean()\n",
    "LDA_recall = scores['test_recall_macro'].mean()\n",
    "LDA_f1 = scores['test_f1_weighted'].mean()\n"
   ]
  },
  {
   "cell_type": "code",
   "execution_count": 426,
   "metadata": {},
   "outputs": [
    {
     "data": {
      "text/plain": [
       "['fit_time',\n",
       " 'score_time',\n",
       " 'test_accuracy',\n",
       " 'test_f1_weighted',\n",
       " 'test_precision_macro',\n",
       " 'test_recall_macro']"
      ]
     },
     "execution_count": 426,
     "metadata": {},
     "output_type": "execute_result"
    }
   ],
   "source": [
    "QDA = QuadraticDiscriminantAnalysis()\n",
    "\n",
    "scoring = ['accuracy', 'precision_macro', 'recall_macro' , 'f1_weighted']\n",
    "scores = cross_validate(QDA, X_train, y_train, scoring=scoring, cv=20)\n",
    "\n",
    "sorted(scores.keys())\n",
    "QDA_fit_time = scores['fit_time'].mean()\n",
    "QDA_score_time = scores['score_time'].mean()\n",
    "QDA_accuracy = scores['test_accuracy'].mean()\n",
    "QDA_precision = scores['test_precision_macro'].mean()\n",
    "QDA_recall = scores['test_recall_macro'].mean()\n",
    "QDA_f1 = scores['test_f1_weighted'].mean()\n"
   ]
  },
  {
   "cell_type": "code",
   "execution_count": 427,
   "metadata": {},
   "outputs": [
    {
     "data": {
      "text/plain": [
       "['fit_time',\n",
       " 'score_time',\n",
       " 'test_accuracy',\n",
       " 'test_f1_weighted',\n",
       " 'test_precision_macro',\n",
       " 'test_recall_macro']"
      ]
     },
     "execution_count": 427,
     "metadata": {},
     "output_type": "execute_result"
    }
   ],
   "source": [
    "random_forest = RandomForestClassifier()\n",
    "\n",
    "scoring = ['accuracy', 'precision_macro', 'recall_macro' , 'f1_weighted']\n",
    "scores = cross_validate(random_forest, X_train, y_train, scoring=scoring, cv=20)\n",
    "\n",
    "sorted(scores.keys())\n",
    "forest_fit_time = scores['fit_time'].mean()\n",
    "forest_score_time = scores['score_time'].mean()\n",
    "forest_accuracy = scores['test_accuracy'].mean()\n",
    "forest_precision = scores['test_precision_macro'].mean()\n",
    "forest_recall = scores['test_recall_macro'].mean()\n",
    "forest_f1 = scores['test_f1_weighted'].mean()\n"
   ]
  },
  {
   "cell_type": "code",
   "execution_count": 428,
   "metadata": {},
   "outputs": [
    {
     "data": {
      "text/plain": [
       "['fit_time',\n",
       " 'score_time',\n",
       " 'test_accuracy',\n",
       " 'test_f1_weighted',\n",
       " 'test_precision_macro',\n",
       " 'test_recall_macro']"
      ]
     },
     "execution_count": 428,
     "metadata": {},
     "output_type": "execute_result"
    }
   ],
   "source": [
    "KNN = KNeighborsClassifier()\n",
    "\n",
    "scoring = ['accuracy', 'precision_macro', 'recall_macro' , 'f1_weighted']\n",
    "scores = cross_validate(KNN, X_train, y_train, scoring=scoring, cv=20)\n",
    "\n",
    "sorted(scores.keys())\n",
    "KNN_fit_time = scores['fit_time'].mean()\n",
    "KNN_score_time = scores['score_time'].mean()\n",
    "KNN_accuracy = scores['test_accuracy'].mean()\n",
    "KNN_precision = scores['test_precision_macro'].mean()\n",
    "KNN_recall = scores['test_recall_macro'].mean()\n",
    "KNN_f1 = scores['test_f1_weighted'].mean()\n"
   ]
  },
  {
   "cell_type": "code",
   "execution_count": 429,
   "metadata": {},
   "outputs": [
    {
     "data": {
      "text/plain": [
       "['fit_time',\n",
       " 'score_time',\n",
       " 'test_accuracy',\n",
       " 'test_f1_weighted',\n",
       " 'test_precision_macro',\n",
       " 'test_recall_macro']"
      ]
     },
     "execution_count": 429,
     "metadata": {},
     "output_type": "execute_result"
    }
   ],
   "source": [
    "bayes = GaussianNB()\n",
    "\n",
    "scoring = ['accuracy', 'precision_macro', 'recall_macro' , 'f1_weighted']\n",
    "scores = cross_validate(bayes, X_train, y_train, scoring=scoring, cv=20)\n",
    "\n",
    "sorted(scores.keys())\n",
    "bayes_fit_time = scores['fit_time'].mean()\n",
    "bayes_score_time = scores['score_time'].mean()\n",
    "bayes_accuracy = scores['test_accuracy'].mean()\n",
    "bayes_precision = scores['test_precision_macro'].mean()\n",
    "bayes_recall = scores['test_recall_macro'].mean()\n",
    "bayes_f1 = scores['test_f1_weighted'].mean()\n"
   ]
  },
  {
   "cell_type": "code",
   "execution_count": 430,
   "metadata": {},
   "outputs": [
    {
     "data": {
      "text/html": [
       "<div>\n",
       "<style scoped>\n",
       "    .dataframe tbody tr th:only-of-type {\n",
       "        vertical-align: middle;\n",
       "    }\n",
       "\n",
       "    .dataframe tbody tr th {\n",
       "        vertical-align: top;\n",
       "    }\n",
       "\n",
       "    .dataframe thead th {\n",
       "        text-align: right;\n",
       "    }\n",
       "</style>\n",
       "<table border=\"1\" class=\"dataframe\">\n",
       "  <thead>\n",
       "    <tr style=\"text-align: right;\">\n",
       "      <th></th>\n",
       "      <th>Model</th>\n",
       "      <th>Fitting time</th>\n",
       "      <th>Scoring time</th>\n",
       "      <th>Accuracy</th>\n",
       "      <th>Precision</th>\n",
       "      <th>Recall</th>\n",
       "      <th>F1_score</th>\n",
       "    </tr>\n",
       "  </thead>\n",
       "  <tbody>\n",
       "    <tr>\n",
       "      <td>2</td>\n",
       "      <td>Support Vector Machine</td>\n",
       "      <td>0.074923</td>\n",
       "      <td>0.008324</td>\n",
       "      <td>0.600720</td>\n",
       "      <td>0.398375</td>\n",
       "      <td>0.419591</td>\n",
       "      <td>0.543437</td>\n",
       "    </tr>\n",
       "    <tr>\n",
       "      <td>7</td>\n",
       "      <td>Bayes</td>\n",
       "      <td>0.002995</td>\n",
       "      <td>0.007232</td>\n",
       "      <td>0.587081</td>\n",
       "      <td>0.535320</td>\n",
       "      <td>0.471655</td>\n",
       "      <td>0.556336</td>\n",
       "    </tr>\n",
       "    <tr>\n",
       "      <td>0</td>\n",
       "      <td>Logistic Regression</td>\n",
       "      <td>0.008057</td>\n",
       "      <td>0.010079</td>\n",
       "      <td>0.577425</td>\n",
       "      <td>0.411361</td>\n",
       "      <td>0.404602</td>\n",
       "      <td>0.518430</td>\n",
       "    </tr>\n",
       "    <tr>\n",
       "      <td>3</td>\n",
       "      <td>Linear Discriminant Analysis</td>\n",
       "      <td>0.003635</td>\n",
       "      <td>0.006370</td>\n",
       "      <td>0.569464</td>\n",
       "      <td>0.419244</td>\n",
       "      <td>0.406038</td>\n",
       "      <td>0.513535</td>\n",
       "    </tr>\n",
       "    <tr>\n",
       "      <td>4</td>\n",
       "      <td>Quadratic Discriminant Analysis</td>\n",
       "      <td>0.002779</td>\n",
       "      <td>0.006860</td>\n",
       "      <td>0.550805</td>\n",
       "      <td>0.437941</td>\n",
       "      <td>0.412871</td>\n",
       "      <td>0.507253</td>\n",
       "    </tr>\n",
       "    <tr>\n",
       "      <td>6</td>\n",
       "      <td>K-Nearest Neighbors</td>\n",
       "      <td>0.002548</td>\n",
       "      <td>0.013720</td>\n",
       "      <td>0.524964</td>\n",
       "      <td>0.368264</td>\n",
       "      <td>0.372715</td>\n",
       "      <td>0.478385</td>\n",
       "    </tr>\n",
       "    <tr>\n",
       "      <td>5</td>\n",
       "      <td>Random Forest</td>\n",
       "      <td>0.018407</td>\n",
       "      <td>0.010624</td>\n",
       "      <td>0.512597</td>\n",
       "      <td>0.386822</td>\n",
       "      <td>0.391600</td>\n",
       "      <td>0.492256</td>\n",
       "    </tr>\n",
       "    <tr>\n",
       "      <td>1</td>\n",
       "      <td>Decision Tree</td>\n",
       "      <td>0.005248</td>\n",
       "      <td>0.008821</td>\n",
       "      <td>0.471616</td>\n",
       "      <td>0.374986</td>\n",
       "      <td>0.380189</td>\n",
       "      <td>0.464239</td>\n",
       "    </tr>\n",
       "  </tbody>\n",
       "</table>\n",
       "</div>"
      ],
      "text/plain": [
       "                             Model  Fitting time  Scoring time  Accuracy  \\\n",
       "2           Support Vector Machine      0.074923      0.008324  0.600720   \n",
       "7                            Bayes      0.002995      0.007232  0.587081   \n",
       "0              Logistic Regression      0.008057      0.010079  0.577425   \n",
       "3     Linear Discriminant Analysis      0.003635      0.006370  0.569464   \n",
       "4  Quadratic Discriminant Analysis      0.002779      0.006860  0.550805   \n",
       "6              K-Nearest Neighbors      0.002548      0.013720  0.524964   \n",
       "5                    Random Forest      0.018407      0.010624  0.512597   \n",
       "1                    Decision Tree      0.005248      0.008821  0.471616   \n",
       "\n",
       "   Precision    Recall  F1_score  \n",
       "2   0.398375  0.419591  0.543437  \n",
       "7   0.535320  0.471655  0.556336  \n",
       "0   0.411361  0.404602  0.518430  \n",
       "3   0.419244  0.406038  0.513535  \n",
       "4   0.437941  0.412871  0.507253  \n",
       "6   0.368264  0.372715  0.478385  \n",
       "5   0.386822  0.391600  0.492256  \n",
       "1   0.374986  0.380189  0.464239  "
      ]
     },
     "execution_count": 430,
     "metadata": {},
     "output_type": "execute_result"
    }
   ],
   "source": [
    "models_correlation = pd.DataFrame({\n",
    "    'Model'       : ['Logistic Regression', 'Decision Tree', 'Support Vector Machine', 'Linear Discriminant Analysis', 'Quadratic Discriminant Analysis', 'Random Forest', 'K-Nearest Neighbors', 'Bayes'],\n",
    "    'Fitting time': [LR_fit_time, dtree_fit_time, SVM_fit_time, LDA_fit_time, QDA_fit_time, forest_fit_time, KNN_fit_time, bayes_fit_time],\n",
    "    'Scoring time': [LR_score_time, dtree_score_time, SVM_score_time, LDA_score_time, QDA_score_time, forest_score_time, KNN_score_time, bayes_score_time],\n",
    "    'Accuracy'    : [LR_accuracy, dtree_accuracy, SVM_accuracy, LDA_accuracy, QDA_accuracy, forest_accuracy, KNN_accuracy, bayes_accuracy],\n",
    "    'Precision'   : [LR_precision, dtree_precision, SVM_precision, LDA_precision, QDA_precision, forest_precision, KNN_precision, bayes_precision],\n",
    "    'Recall'      : [LR_recall, dtree_recall, SVM_recall, LDA_recall, QDA_recall, forest_recall, KNN_recall, bayes_recall],\n",
    "    'F1_score'    : [LR_f1, dtree_f1, SVM_f1, LDA_f1, QDA_f1, forest_f1, KNN_f1, bayes_f1]\n",
    "   \n",
    "    }, columns = ['Model', 'Fitting time', 'Scoring time', 'Accuracy', 'Precision', 'Recall', 'F1_score'])\n",
    "\n",
    "models_correlation.sort_values(by='Accuracy', ascending=False)"
   ]
  },
  {
   "cell_type": "code",
   "execution_count": 339,
   "metadata": {},
   "outputs": [],
   "source": [
    "models = [LogisticRegression(),\n",
    "         DecisionTreeClassifier(),\n",
    "         SVC(probability = True),\n",
    "         LinearDiscriminantAnalysis(),\n",
    "         QuadraticDiscriminantAnalysis(),\n",
    "         RandomForestClassifier(),\n",
    "         KNeighborsClassifier(),\n",
    "         GaussianNB()]\n",
    "\n",
    "scoring = ['accuracy', 'precision_macro', 'recall_macro' , 'f1_weighted']\n",
    "\n"
   ]
  },
  {
   "cell_type": "code",
   "execution_count": 340,
   "metadata": {},
   "outputs": [],
   "source": [
    "X_train, X_test, y_train, y_test = train_test_split(X,y,test_size=0.34)"
   ]
  },
  {
   "cell_type": "code",
   "execution_count": 343,
   "metadata": {},
   "outputs": [],
   "source": [
    "#for model in models:\n",
    "   # scores = cross_validate(model, X_train, y_train, scoring=scoring, cv=20)\n",
    "    #print(model, scores['fit_time'].mean(), scores['score_time'].mean(), scores['test_accuracy'].mean(),\n",
    "         # scores['test_precision_macro'].mean(), scores['test_recall_macro'].mean(), \n",
    "         # scores['test_f1_weighted'].mean())"
   ]
  },
  {
   "cell_type": "code",
   "execution_count": 353,
   "metadata": {},
   "outputs": [],
   "source": [
    "X = df.drop(columns = ['sm_quality'])\n",
    "Y = df['sm_quality']\n",
    "#Y= label_binarize(Y, classes=[1, 2, 3])"
   ]
  },
  {
   "cell_type": "code",
   "execution_count": 354,
   "metadata": {},
   "outputs": [
    {
     "data": {
      "text/plain": [
       "(993, 13)"
      ]
     },
     "execution_count": 354,
     "metadata": {},
     "output_type": "execute_result"
    }
   ],
   "source": [
    "lsvc = LinearSVC(C=0.05, penalty=\"l1\", dual=False).fit(X, y)\n",
    "model = SelectFromModel(lsvc, prefit=True)\n",
    "X_svc = model.transform(X)\n",
    "X_svc.shape #reduction from 30 to 10 features"
   ]
  },
  {
   "cell_type": "code",
   "execution_count": 355,
   "metadata": {},
   "outputs": [],
   "source": [
    "X_train, X_test, y_train, y_test = train_test_split(X_svc,y,test_size=0.34)"
   ]
  },
  {
   "cell_type": "code",
   "execution_count": 356,
   "metadata": {},
   "outputs": [
    {
     "data": {
      "text/plain": [
       "['fit_time',\n",
       " 'score_time',\n",
       " 'test_accuracy',\n",
       " 'test_f1_weighted',\n",
       " 'test_precision_macro',\n",
       " 'test_recall_macro']"
      ]
     },
     "execution_count": 356,
     "metadata": {},
     "output_type": "execute_result"
    }
   ],
   "source": [
    "LR = LogisticRegression()\n",
    "\n",
    "scoring = ['accuracy', 'precision_macro', 'recall_macro' , 'f1_weighted']\n",
    "scores = cross_validate(LR, X_train, y_train, scoring=scoring, cv=20)\n",
    "\n",
    "sorted(scores.keys())\n",
    "LR_fit_time = scores['fit_time'].mean()\n",
    "LR_score_time = scores['score_time'].mean()\n",
    "LR_accuracy = scores['test_accuracy'].mean()\n",
    "LR_precision = scores['test_precision_macro'].mean()\n",
    "LR_recall = scores['test_recall_macro'].mean()\n",
    "LR_f1 = scores['test_f1_weighted'].mean()\n"
   ]
  },
  {
   "cell_type": "code",
   "execution_count": 357,
   "metadata": {},
   "outputs": [
    {
     "data": {
      "text/plain": [
       "['fit_time',\n",
       " 'score_time',\n",
       " 'test_accuracy',\n",
       " 'test_f1_weighted',\n",
       " 'test_precision_macro',\n",
       " 'test_recall_macro']"
      ]
     },
     "execution_count": 357,
     "metadata": {},
     "output_type": "execute_result"
    }
   ],
   "source": [
    "decision_tree = DecisionTreeClassifier()\n",
    "\n",
    "scoring = ['accuracy', 'precision_macro', 'recall_macro' , 'f1_weighted']\n",
    "scores = cross_validate(decision_tree, X_train, y_train, scoring=scoring, cv=20)\n",
    "\n",
    "sorted(scores.keys())\n",
    "dtree_fit_time = scores['fit_time'].mean()\n",
    "dtree_score_time = scores['score_time'].mean()\n",
    "dtree_accuracy = scores['test_accuracy'].mean()\n",
    "dtree_precision = scores['test_precision_macro'].mean()\n",
    "dtree_recall = scores['test_recall_macro'].mean()\n",
    "dtree_f1 = scores['test_f1_weighted'].mean()\n"
   ]
  },
  {
   "cell_type": "code",
   "execution_count": 358,
   "metadata": {},
   "outputs": [
    {
     "data": {
      "text/plain": [
       "['fit_time',\n",
       " 'score_time',\n",
       " 'test_accuracy',\n",
       " 'test_f1_weighted',\n",
       " 'test_precision_macro',\n",
       " 'test_recall_macro']"
      ]
     },
     "execution_count": 358,
     "metadata": {},
     "output_type": "execute_result"
    }
   ],
   "source": [
    "SVM = SVC(probability = True)\n",
    "\n",
    "scoring = ['accuracy','precision_macro', 'recall_macro' , 'f1_weighted']\n",
    "scores = cross_validate(SVM, X_train, y_train, scoring=scoring, cv=20)\n",
    "\n",
    "sorted(scores.keys())\n",
    "SVM_fit_time = scores['fit_time'].mean()\n",
    "SVM_score_time = scores['score_time'].mean()\n",
    "SVM_accuracy = scores['test_accuracy'].mean()\n",
    "SVM_precision = scores['test_precision_macro'].mean()\n",
    "SVM_recall = scores['test_recall_macro'].mean()\n",
    "SVM_f1 = scores['test_f1_weighted'].mean()\n"
   ]
  },
  {
   "cell_type": "code",
   "execution_count": 359,
   "metadata": {},
   "outputs": [
    {
     "data": {
      "text/plain": [
       "['fit_time',\n",
       " 'score_time',\n",
       " 'test_accuracy',\n",
       " 'test_f1_weighted',\n",
       " 'test_precision_macro',\n",
       " 'test_recall_macro']"
      ]
     },
     "execution_count": 359,
     "metadata": {},
     "output_type": "execute_result"
    }
   ],
   "source": [
    "LDA = LinearDiscriminantAnalysis()\n",
    "\n",
    "scoring = ['accuracy', 'precision_macro', 'recall_macro' , 'f1_weighted']\n",
    "scores = cross_validate(LDA, X_train, y_train, scoring=scoring, cv=20)\n",
    "\n",
    "sorted(scores.keys())\n",
    "LDA_fit_time = scores['fit_time'].mean()\n",
    "LDA_score_time = scores['score_time'].mean()\n",
    "LDA_accuracy = scores['test_accuracy'].mean()\n",
    "LDA_precision = scores['test_precision_macro'].mean()\n",
    "LDA_recall = scores['test_recall_macro'].mean()\n",
    "LDA_f1 = scores['test_f1_weighted'].mean()\n"
   ]
  },
  {
   "cell_type": "code",
   "execution_count": 360,
   "metadata": {},
   "outputs": [
    {
     "data": {
      "text/plain": [
       "['fit_time',\n",
       " 'score_time',\n",
       " 'test_accuracy',\n",
       " 'test_f1_weighted',\n",
       " 'test_precision_macro',\n",
       " 'test_recall_macro']"
      ]
     },
     "execution_count": 360,
     "metadata": {},
     "output_type": "execute_result"
    }
   ],
   "source": [
    "QDA = QuadraticDiscriminantAnalysis()\n",
    "\n",
    "scoring = ['accuracy', 'precision_macro', 'recall_macro' , 'f1_weighted']\n",
    "scores = cross_validate(QDA, X_train, y_train, scoring=scoring, cv=20)\n",
    "\n",
    "sorted(scores.keys())\n",
    "QDA_fit_time = scores['fit_time'].mean()\n",
    "QDA_score_time = scores['score_time'].mean()\n",
    "QDA_accuracy = scores['test_accuracy'].mean()\n",
    "QDA_precision = scores['test_precision_macro'].mean()\n",
    "QDA_recall = scores['test_recall_macro'].mean()\n",
    "QDA_f1 = scores['test_f1_weighted'].mean()\n"
   ]
  },
  {
   "cell_type": "code",
   "execution_count": 361,
   "metadata": {},
   "outputs": [
    {
     "data": {
      "text/plain": [
       "['fit_time',\n",
       " 'score_time',\n",
       " 'test_accuracy',\n",
       " 'test_f1_weighted',\n",
       " 'test_precision_macro',\n",
       " 'test_recall_macro']"
      ]
     },
     "execution_count": 361,
     "metadata": {},
     "output_type": "execute_result"
    }
   ],
   "source": [
    "random_forest = RandomForestClassifier()\n",
    "\n",
    "scoring = ['accuracy', 'precision_macro', 'recall_macro' , 'f1_weighted']\n",
    "scores = cross_validate(random_forest, X_train, y_train, scoring=scoring, cv=20)\n",
    "\n",
    "sorted(scores.keys())\n",
    "forest_fit_time = scores['fit_time'].mean()\n",
    "forest_score_time = scores['score_time'].mean()\n",
    "forest_accuracy = scores['test_accuracy'].mean()\n",
    "forest_precision = scores['test_precision_macro'].mean()\n",
    "forest_recall = scores['test_recall_macro'].mean()\n",
    "forest_f1 = scores['test_f1_weighted'].mean()\n"
   ]
  },
  {
   "cell_type": "code",
   "execution_count": 362,
   "metadata": {},
   "outputs": [
    {
     "data": {
      "text/plain": [
       "['fit_time',\n",
       " 'score_time',\n",
       " 'test_accuracy',\n",
       " 'test_f1_weighted',\n",
       " 'test_precision_macro',\n",
       " 'test_recall_macro']"
      ]
     },
     "execution_count": 362,
     "metadata": {},
     "output_type": "execute_result"
    }
   ],
   "source": [
    "KNN = KNeighborsClassifier()\n",
    "\n",
    "scoring = ['accuracy', 'precision_macro', 'recall_macro' , 'f1_weighted']\n",
    "scores = cross_validate(KNN, X_train, y_train, scoring=scoring, cv=20)\n",
    "\n",
    "sorted(scores.keys())\n",
    "KNN_fit_time = scores['fit_time'].mean()\n",
    "KNN_score_time = scores['score_time'].mean()\n",
    "KNN_accuracy = scores['test_accuracy'].mean()\n",
    "KNN_precision = scores['test_precision_macro'].mean()\n",
    "KNN_recall = scores['test_recall_macro'].mean()\n",
    "KNN_f1 = scores['test_f1_weighted'].mean()\n"
   ]
  },
  {
   "cell_type": "code",
   "execution_count": 363,
   "metadata": {},
   "outputs": [
    {
     "data": {
      "text/plain": [
       "['fit_time',\n",
       " 'score_time',\n",
       " 'test_accuracy',\n",
       " 'test_f1_weighted',\n",
       " 'test_precision_macro',\n",
       " 'test_recall_macro']"
      ]
     },
     "execution_count": 363,
     "metadata": {},
     "output_type": "execute_result"
    }
   ],
   "source": [
    "bayes = GaussianNB()\n",
    "\n",
    "scoring = ['accuracy', 'precision_macro', 'recall_macro' , 'f1_weighted']\n",
    "scores = cross_validate(bayes, X_train, y_train, scoring=scoring, cv=20)\n",
    "\n",
    "sorted(scores.keys())\n",
    "bayes_fit_time = scores['fit_time'].mean()\n",
    "bayes_score_time = scores['score_time'].mean()\n",
    "bayes_accuracy = scores['test_accuracy'].mean()\n",
    "bayes_precision = scores['test_precision_macro'].mean()\n",
    "bayes_recall = scores['test_recall_macro'].mean()\n",
    "bayes_f1 = scores['test_f1_weighted'].mean()\n"
   ]
  },
  {
   "cell_type": "code",
   "execution_count": 364,
   "metadata": {},
   "outputs": [
    {
     "data": {
      "text/html": [
       "<div>\n",
       "<style scoped>\n",
       "    .dataframe tbody tr th:only-of-type {\n",
       "        vertical-align: middle;\n",
       "    }\n",
       "\n",
       "    .dataframe tbody tr th {\n",
       "        vertical-align: top;\n",
       "    }\n",
       "\n",
       "    .dataframe thead th {\n",
       "        text-align: right;\n",
       "    }\n",
       "</style>\n",
       "<table border=\"1\" class=\"dataframe\">\n",
       "  <thead>\n",
       "    <tr style=\"text-align: right;\">\n",
       "      <th></th>\n",
       "      <th>Model</th>\n",
       "      <th>Fitting time</th>\n",
       "      <th>Scoring time</th>\n",
       "      <th>Accuracy</th>\n",
       "      <th>Precision</th>\n",
       "      <th>Recall</th>\n",
       "      <th>F1_score</th>\n",
       "    </tr>\n",
       "  </thead>\n",
       "  <tbody>\n",
       "    <tr>\n",
       "      <td>3</td>\n",
       "      <td>Linear Discriminant Analysis</td>\n",
       "      <td>0.009892</td>\n",
       "      <td>0.015361</td>\n",
       "      <td>0.505632</td>\n",
       "      <td>0.417417</td>\n",
       "      <td>0.384435</td>\n",
       "      <td>0.466387</td>\n",
       "    </tr>\n",
       "    <tr>\n",
       "      <td>2</td>\n",
       "      <td>Support Vector Machine</td>\n",
       "      <td>0.090194</td>\n",
       "      <td>0.006408</td>\n",
       "      <td>0.496780</td>\n",
       "      <td>0.336769</td>\n",
       "      <td>0.305578</td>\n",
       "      <td>0.449136</td>\n",
       "    </tr>\n",
       "    <tr>\n",
       "      <td>0</td>\n",
       "      <td>Logistic Regression</td>\n",
       "      <td>0.010142</td>\n",
       "      <td>0.004154</td>\n",
       "      <td>0.493311</td>\n",
       "      <td>0.303542</td>\n",
       "      <td>0.314170</td>\n",
       "      <td>0.433451</td>\n",
       "    </tr>\n",
       "    <tr>\n",
       "      <td>7</td>\n",
       "      <td>Bayes</td>\n",
       "      <td>0.002438</td>\n",
       "      <td>0.005407</td>\n",
       "      <td>0.482522</td>\n",
       "      <td>0.389428</td>\n",
       "      <td>0.412223</td>\n",
       "      <td>0.467480</td>\n",
       "    </tr>\n",
       "    <tr>\n",
       "      <td>6</td>\n",
       "      <td>K-Nearest Neighbors</td>\n",
       "      <td>0.002775</td>\n",
       "      <td>0.015801</td>\n",
       "      <td>0.443703</td>\n",
       "      <td>0.316098</td>\n",
       "      <td>0.301378</td>\n",
       "      <td>0.412650</td>\n",
       "    </tr>\n",
       "    <tr>\n",
       "      <td>4</td>\n",
       "      <td>Quadratic Discriminant Analysis</td>\n",
       "      <td>0.006940</td>\n",
       "      <td>0.010373</td>\n",
       "      <td>0.429119</td>\n",
       "      <td>0.330014</td>\n",
       "      <td>0.298741</td>\n",
       "      <td>0.412041</td>\n",
       "    </tr>\n",
       "    <tr>\n",
       "      <td>5</td>\n",
       "      <td>Random Forest</td>\n",
       "      <td>0.024703</td>\n",
       "      <td>0.010382</td>\n",
       "      <td>0.422728</td>\n",
       "      <td>0.316054</td>\n",
       "      <td>0.310082</td>\n",
       "      <td>0.399262</td>\n",
       "    </tr>\n",
       "    <tr>\n",
       "      <td>1</td>\n",
       "      <td>Decision Tree</td>\n",
       "      <td>0.004039</td>\n",
       "      <td>0.004696</td>\n",
       "      <td>0.349682</td>\n",
       "      <td>0.275411</td>\n",
       "      <td>0.297428</td>\n",
       "      <td>0.343208</td>\n",
       "    </tr>\n",
       "  </tbody>\n",
       "</table>\n",
       "</div>"
      ],
      "text/plain": [
       "                             Model  Fitting time  Scoring time  Accuracy  \\\n",
       "3     Linear Discriminant Analysis      0.009892      0.015361  0.505632   \n",
       "2           Support Vector Machine      0.090194      0.006408  0.496780   \n",
       "0              Logistic Regression      0.010142      0.004154  0.493311   \n",
       "7                            Bayes      0.002438      0.005407  0.482522   \n",
       "6              K-Nearest Neighbors      0.002775      0.015801  0.443703   \n",
       "4  Quadratic Discriminant Analysis      0.006940      0.010373  0.429119   \n",
       "5                    Random Forest      0.024703      0.010382  0.422728   \n",
       "1                    Decision Tree      0.004039      0.004696  0.349682   \n",
       "\n",
       "   Precision    Recall  F1_score  \n",
       "3   0.417417  0.384435  0.466387  \n",
       "2   0.336769  0.305578  0.449136  \n",
       "0   0.303542  0.314170  0.433451  \n",
       "7   0.389428  0.412223  0.467480  \n",
       "6   0.316098  0.301378  0.412650  \n",
       "4   0.330014  0.298741  0.412041  \n",
       "5   0.316054  0.310082  0.399262  \n",
       "1   0.275411  0.297428  0.343208  "
      ]
     },
     "execution_count": 364,
     "metadata": {},
     "output_type": "execute_result"
    }
   ],
   "source": [
    "models_sfm = pd.DataFrame({\n",
    "    'Model'       : ['Logistic Regression', 'Decision Tree', 'Support Vector Machine', 'Linear Discriminant Analysis', 'Quadratic Discriminant Analysis', 'Random Forest', 'K-Nearest Neighbors', 'Bayes'],\n",
    "    'Fitting time': [LR_fit_time, dtree_fit_time, SVM_fit_time, LDA_fit_time, QDA_fit_time, forest_fit_time, KNN_fit_time, bayes_fit_time],\n",
    "    'Scoring time': [LR_score_time, dtree_score_time, SVM_score_time, LDA_score_time, QDA_score_time, forest_score_time, KNN_score_time, bayes_score_time],\n",
    "    'Accuracy'    : [LR_accuracy, dtree_accuracy, SVM_accuracy, LDA_accuracy, QDA_accuracy, forest_accuracy, KNN_accuracy, bayes_accuracy],\n",
    "    'Precision'   : [LR_precision, dtree_precision, SVM_precision, LDA_precision, QDA_precision, forest_precision, KNN_precision, bayes_precision],\n",
    "    'Recall'      : [LR_recall, dtree_recall, SVM_recall, LDA_recall, QDA_recall, forest_recall, KNN_recall, bayes_recall],\n",
    "    'F1_score'    : [LR_f1, dtree_f1, SVM_f1, LDA_f1, QDA_f1, forest_f1, KNN_f1, bayes_f1]\n",
    "    \n",
    "    }, columns = ['Model', 'Fitting time', 'Scoring time', 'Accuracy', 'Precision', 'Recall', 'F1_score'])\n",
    "\n",
    "models_sfm.sort_values(by='Accuracy', ascending=False)"
   ]
  },
  {
   "cell_type": "code",
   "execution_count": 378,
   "metadata": {},
   "outputs": [
    {
     "data": {
      "text/plain": [
       "(993, 9)"
      ]
     },
     "execution_count": 378,
     "metadata": {},
     "output_type": "execute_result"
    }
   ],
   "source": [
    "X = df.drop(columns = ['sm_quality'])\n",
    "Y = df['sm_quality']\n",
    "#Y= label_binarize(Y, classes=[1, 2, 3])\n",
    "lsvc = LinearSVC(C=0.05, penalty=\"l1\", dual=False)\n",
    "model = RFECV(estimator=lsvc, step=1, cv=20).fit(X,y)\n",
    "X_rfecv = model.transform(X)\n",
    "X_rfecv.shape #reduction from 13"
   ]
  },
  {
   "cell_type": "code",
   "execution_count": 377,
   "metadata": {},
   "outputs": [],
   "source": []
  },
  {
   "cell_type": "code",
   "execution_count": 379,
   "metadata": {},
   "outputs": [],
   "source": [
    "X_train, X_test, y_train, y_test = train_test_split(X_rfecv,y,test_size=0.34)"
   ]
  },
  {
   "cell_type": "code",
   "execution_count": 380,
   "metadata": {},
   "outputs": [
    {
     "data": {
      "text/plain": [
       "['fit_time',\n",
       " 'score_time',\n",
       " 'test_accuracy',\n",
       " 'test_f1_weighted',\n",
       " 'test_precision_macro',\n",
       " 'test_recall_macro']"
      ]
     },
     "execution_count": 380,
     "metadata": {},
     "output_type": "execute_result"
    }
   ],
   "source": [
    "LR = LogisticRegression()\n",
    "\n",
    "scoring = ['accuracy', 'precision_macro', 'recall_macro' , 'f1_weighted']\n",
    "scores = cross_validate(LR, X_train, y_train, scoring=scoring, cv=20)\n",
    "\n",
    "sorted(scores.keys())\n",
    "LR_fit_time = scores['fit_time'].mean()\n",
    "LR_score_time = scores['score_time'].mean()\n",
    "LR_accuracy = scores['test_accuracy'].mean()\n",
    "LR_precision = scores['test_precision_macro'].mean()\n",
    "LR_recall = scores['test_recall_macro'].mean()\n",
    "LR_f1 = scores['test_f1_weighted'].mean()\n"
   ]
  },
  {
   "cell_type": "code",
   "execution_count": 381,
   "metadata": {},
   "outputs": [
    {
     "data": {
      "text/plain": [
       "0.5014819498180504"
      ]
     },
     "execution_count": 381,
     "metadata": {},
     "output_type": "execute_result"
    }
   ],
   "source": [
    "LR_accuracy"
   ]
  },
  {
   "cell_type": "code",
   "execution_count": 382,
   "metadata": {},
   "outputs": [
    {
     "data": {
      "text/plain": [
       "['fit_time',\n",
       " 'score_time',\n",
       " 'test_accuracy',\n",
       " 'test_f1_weighted',\n",
       " 'test_precision_macro',\n",
       " 'test_recall_macro']"
      ]
     },
     "execution_count": 382,
     "metadata": {},
     "output_type": "execute_result"
    }
   ],
   "source": [
    "decision_tree = DecisionTreeClassifier()\n",
    "\n",
    "scoring = ['accuracy', 'precision_macro', 'recall_macro' , 'f1_weighted']\n",
    "scores = cross_validate(decision_tree, X_train, y_train, scoring=scoring, cv=20)\n",
    "\n",
    "sorted(scores.keys())\n",
    "dtree_fit_time = scores['fit_time'].mean()\n",
    "dtree_score_time = scores['score_time'].mean()\n",
    "dtree_accuracy = scores['test_accuracy'].mean()\n",
    "dtree_precision = scores['test_precision_macro'].mean()\n",
    "dtree_recall = scores['test_recall_macro'].mean()\n",
    "dtree_f1 = scores['test_f1_weighted'].mean()\n"
   ]
  },
  {
   "cell_type": "code",
   "execution_count": 383,
   "metadata": {},
   "outputs": [
    {
     "data": {
      "text/plain": [
       "0.39265953962230055"
      ]
     },
     "execution_count": 383,
     "metadata": {},
     "output_type": "execute_result"
    }
   ],
   "source": [
    "dtree_accuracy"
   ]
  },
  {
   "cell_type": "code",
   "execution_count": 384,
   "metadata": {},
   "outputs": [
    {
     "data": {
      "text/plain": [
       "['fit_time',\n",
       " 'score_time',\n",
       " 'test_accuracy',\n",
       " 'test_f1_weighted',\n",
       " 'test_precision_macro',\n",
       " 'test_recall_macro']"
      ]
     },
     "execution_count": 384,
     "metadata": {},
     "output_type": "execute_result"
    }
   ],
   "source": [
    "SVM = SVC(probability = True)\n",
    "\n",
    "scoring = ['accuracy','precision_macro', 'recall_macro' , 'f1_weighted']\n",
    "scores = cross_validate(SVM, X_train, y_train, scoring=scoring, cv=20)\n",
    "\n",
    "sorted(scores.keys())\n",
    "SVM_fit_time = scores['fit_time'].mean()\n",
    "SVM_score_time = scores['score_time'].mean()\n",
    "SVM_accuracy = scores['test_accuracy'].mean()\n",
    "SVM_precision = scores['test_precision_macro'].mean()\n",
    "SVM_recall = scores['test_recall_macro'].mean()\n",
    "SVM_f1 = scores['test_f1_weighted'].mean()\n"
   ]
  },
  {
   "cell_type": "code",
   "execution_count": 385,
   "metadata": {},
   "outputs": [
    {
     "data": {
      "text/plain": [
       "0.5224933283430675"
      ]
     },
     "execution_count": 385,
     "metadata": {},
     "output_type": "execute_result"
    }
   ],
   "source": [
    "SVM_accuracy"
   ]
  },
  {
   "cell_type": "code",
   "execution_count": 386,
   "metadata": {},
   "outputs": [
    {
     "data": {
      "text/plain": [
       "['fit_time',\n",
       " 'score_time',\n",
       " 'test_accuracy',\n",
       " 'test_f1_weighted',\n",
       " 'test_precision_macro',\n",
       " 'test_recall_macro']"
      ]
     },
     "execution_count": 386,
     "metadata": {},
     "output_type": "execute_result"
    }
   ],
   "source": [
    "LDA = LinearDiscriminantAnalysis()\n",
    "\n",
    "scoring = ['accuracy', 'precision_macro', 'recall_macro' , 'f1_weighted']\n",
    "scores = cross_validate(LDA, X_train, y_train, scoring=scoring, cv=20)\n",
    "\n",
    "sorted(scores.keys())\n",
    "LDA_fit_time = scores['fit_time'].mean()\n",
    "LDA_score_time = scores['score_time'].mean()\n",
    "LDA_accuracy = scores['test_accuracy'].mean()\n",
    "LDA_precision = scores['test_precision_macro'].mean()\n",
    "LDA_recall = scores['test_recall_macro'].mean()\n",
    "LDA_f1 = scores['test_f1_weighted'].mean()\n"
   ]
  },
  {
   "cell_type": "code",
   "execution_count": 387,
   "metadata": {},
   "outputs": [
    {
     "data": {
      "text/plain": [
       "0.5149045021234299"
      ]
     },
     "execution_count": 387,
     "metadata": {},
     "output_type": "execute_result"
    }
   ],
   "source": [
    "LDA_accuracy"
   ]
  },
  {
   "cell_type": "code",
   "execution_count": 388,
   "metadata": {},
   "outputs": [
    {
     "data": {
      "text/plain": [
       "ExtraTreesClassifier(bootstrap=False, class_weight=None, criterion='gini',\n",
       "                     max_depth=None, max_features='auto', max_leaf_nodes=None,\n",
       "                     min_impurity_decrease=0.0, min_impurity_split=None,\n",
       "                     min_samples_leaf=1, min_samples_split=2,\n",
       "                     min_weight_fraction_leaf=0.0, n_estimators=10, n_jobs=None,\n",
       "                     oob_score=False, random_state=None, verbose=0,\n",
       "                     warm_start=False)"
      ]
     },
     "execution_count": 388,
     "metadata": {},
     "output_type": "execute_result"
    },
    {
     "data": {
      "text/plain": [
       "(993, 7)"
      ]
     },
     "execution_count": 388,
     "metadata": {},
     "output_type": "execute_result"
    }
   ],
   "source": [
    "\n",
    "\n",
    "\n",
    "lsvc = LinearSVC(C=0.05, penalty=\"l1\", dual=False).fit(X, y)\n",
    "etc = ExtraTreesClassifier()\n",
    "etc.fit(X, y)\n",
    "\n",
    "model = SelectFromModel(etc, prefit=True)\n",
    "X_etc = model.transform(X)\n",
    "X_etc.shape "
   ]
  },
  {
   "cell_type": "code",
   "execution_count": 389,
   "metadata": {},
   "outputs": [],
   "source": [
    "X_train, X_test, y_train, y_test = train_test_split(X_etc,y,test_size=0.34)\n"
   ]
  },
  {
   "cell_type": "code",
   "execution_count": 390,
   "metadata": {},
   "outputs": [
    {
     "data": {
      "text/plain": [
       "['fit_time',\n",
       " 'score_time',\n",
       " 'test_accuracy',\n",
       " 'test_f1_weighted',\n",
       " 'test_precision_macro',\n",
       " 'test_recall_macro']"
      ]
     },
     "execution_count": 390,
     "metadata": {},
     "output_type": "execute_result"
    }
   ],
   "source": [
    "LR = LogisticRegression()\n",
    "\n",
    "scoring = ['accuracy', 'precision_macro', 'recall_macro' , 'f1_weighted']\n",
    "scores = cross_validate(LR, X_train, y_train, scoring=scoring, cv=20)\n",
    "\n",
    "sorted(scores.keys())\n",
    "LR_fit_time = scores['fit_time'].mean()\n",
    "LR_score_time = scores['score_time'].mean()\n",
    "LR_accuracy = scores['test_accuracy'].mean()\n",
    "LR_precision = scores['test_precision_macro'].mean()\n",
    "LR_recall = scores['test_recall_macro'].mean()\n",
    "LR_f1 = scores['test_f1_weighted'].mean()\n"
   ]
  },
  {
   "cell_type": "code",
   "execution_count": 391,
   "metadata": {},
   "outputs": [
    {
     "data": {
      "text/plain": [
       "0.4902291714584172"
      ]
     },
     "execution_count": 391,
     "metadata": {},
     "output_type": "execute_result"
    }
   ],
   "source": [
    "LR_accuracy"
   ]
  },
  {
   "cell_type": "code",
   "execution_count": null,
   "metadata": {},
   "outputs": [],
   "source": []
  },
  {
   "cell_type": "code",
   "execution_count": null,
   "metadata": {},
   "outputs": [],
   "source": []
  },
  {
   "cell_type": "code",
   "execution_count": null,
   "metadata": {},
   "outputs": [],
   "source": []
  },
  {
   "cell_type": "code",
   "execution_count": null,
   "metadata": {},
   "outputs": [],
   "source": []
  },
  {
   "cell_type": "code",
   "execution_count": null,
   "metadata": {},
   "outputs": [],
   "source": []
  },
  {
   "cell_type": "code",
   "execution_count": 4,
   "metadata": {},
   "outputs": [],
   "source": [
    "import pandas as pd\n",
    "import numpy as np\n",
    "import seaborn as sns\n",
    "import matplotlib.pyplot as plt\n",
    "sns.set_style('white')\n",
    "\n",
    "from sklearn.preprocessing import FunctionTransformer\n",
    "from sklearn.tree import DecisionTreeRegressor\n",
    "from sklearn.model_selection import KFold, cross_val_score, GridSearchCV\n",
    "from sklearn.pipeline import Pipeline, make_pipeline\n",
    "from sklearn.model_selection import train_test_split\n",
    "from sklearn.metrics import mean_squared_error\n",
    "\n",
    "from sklearn import tree\n",
    "\n",
    "#!pip install graphviz\n",
    "import graphviz "
   ]
  },
  {
   "cell_type": "code",
   "execution_count": null,
   "metadata": {},
   "outputs": [],
   "source": []
  },
  {
   "cell_type": "code",
   "execution_count": null,
   "metadata": {},
   "outputs": [],
   "source": []
  },
  {
   "cell_type": "code",
   "execution_count": null,
   "metadata": {},
   "outputs": [],
   "source": []
  },
  {
   "cell_type": "code",
   "execution_count": null,
   "metadata": {},
   "outputs": [],
   "source": []
  },
  {
   "cell_type": "code",
   "execution_count": null,
   "metadata": {},
   "outputs": [],
   "source": []
  },
  {
   "cell_type": "code",
   "execution_count": 269,
   "metadata": {},
   "outputs": [],
   "source": [
    "df=pd.read_csv('new_sleep.csv')"
   ]
  },
  {
   "cell_type": "code",
   "execution_count": 165,
   "metadata": {},
   "outputs": [
    {
     "data": {
      "text/plain": [
       "(993, 16)"
      ]
     },
     "execution_count": 165,
     "metadata": {},
     "output_type": "execute_result"
    },
    {
     "data": {
      "text/html": [
       "<div>\n",
       "<style scoped>\n",
       "    .dataframe tbody tr th:only-of-type {\n",
       "        vertical-align: middle;\n",
       "    }\n",
       "\n",
       "    .dataframe tbody tr th {\n",
       "        vertical-align: top;\n",
       "    }\n",
       "\n",
       "    .dataframe thead th {\n",
       "        text-align: right;\n",
       "    }\n",
       "</style>\n",
       "<table border=\"1\" class=\"dataframe\">\n",
       "  <thead>\n",
       "    <tr style=\"text-align: right;\">\n",
       "      <th></th>\n",
       "      <th>efficiency</th>\n",
       "      <th>avg_bedtime</th>\n",
       "      <th>avg_actual_sleeptime</th>\n",
       "      <th>quality</th>\n",
       "      <th>weekday_midnight</th>\n",
       "      <th>weekend_midnight</th>\n",
       "      <th>disorder</th>\n",
       "      <th>motivation</th>\n",
       "      <th>ontime_bed</th>\n",
       "      <th>outside_noise</th>\n",
       "      <th>inside_noise</th>\n",
       "      <th>light</th>\n",
       "      <th>temperature</th>\n",
       "      <th>mattress</th>\n",
       "      <th>health</th>\n",
       "      <th>sm_quality</th>\n",
       "    </tr>\n",
       "  </thead>\n",
       "  <tbody>\n",
       "    <tr>\n",
       "      <td>0</td>\n",
       "      <td>0.605970</td>\n",
       "      <td>11.964286</td>\n",
       "      <td>7.25</td>\n",
       "      <td>4</td>\n",
       "      <td>1</td>\n",
       "      <td>1</td>\n",
       "      <td>0</td>\n",
       "      <td>3</td>\n",
       "      <td>4</td>\n",
       "      <td>2</td>\n",
       "      <td>1</td>\n",
       "      <td>1</td>\n",
       "      <td>3</td>\n",
       "      <td>1</td>\n",
       "      <td>3</td>\n",
       "      <td>1</td>\n",
       "    </tr>\n",
       "    <tr>\n",
       "      <td>1</td>\n",
       "      <td>0.888889</td>\n",
       "      <td>9.000000</td>\n",
       "      <td>8.00</td>\n",
       "      <td>4</td>\n",
       "      <td>1</td>\n",
       "      <td>1</td>\n",
       "      <td>0</td>\n",
       "      <td>4</td>\n",
       "      <td>3</td>\n",
       "      <td>3</td>\n",
       "      <td>2</td>\n",
       "      <td>2</td>\n",
       "      <td>3</td>\n",
       "      <td>2</td>\n",
       "      <td>2</td>\n",
       "      <td>1</td>\n",
       "    </tr>\n",
       "    <tr>\n",
       "      <td>2</td>\n",
       "      <td>0.957265</td>\n",
       "      <td>8.357143</td>\n",
       "      <td>8.00</td>\n",
       "      <td>4</td>\n",
       "      <td>1</td>\n",
       "      <td>1</td>\n",
       "      <td>0</td>\n",
       "      <td>5</td>\n",
       "      <td>5</td>\n",
       "      <td>1</td>\n",
       "      <td>1</td>\n",
       "      <td>1</td>\n",
       "      <td>2</td>\n",
       "      <td>1</td>\n",
       "      <td>2</td>\n",
       "      <td>1</td>\n",
       "    </tr>\n",
       "  </tbody>\n",
       "</table>\n",
       "</div>"
      ],
      "text/plain": [
       "   efficiency  avg_bedtime  avg_actual_sleeptime  quality  weekday_midnight  \\\n",
       "0    0.605970    11.964286                  7.25        4                 1   \n",
       "1    0.888889     9.000000                  8.00        4                 1   \n",
       "2    0.957265     8.357143                  8.00        4                 1   \n",
       "\n",
       "   weekend_midnight  disorder  motivation  ontime_bed  outside_noise  \\\n",
       "0                 1         0           3           4              2   \n",
       "1                 1         0           4           3              3   \n",
       "2                 1         0           5           5              1   \n",
       "\n",
       "   inside_noise  light  temperature  mattress  health  sm_quality  \n",
       "0             1      1            3         1       3           1  \n",
       "1             2      2            3         2       2           1  \n",
       "2             1      1            2         1       2           1  "
      ]
     },
     "execution_count": 165,
     "metadata": {},
     "output_type": "execute_result"
    }
   ],
   "source": [
    "df.shape\n",
    "df.head(3)"
   ]
  },
  {
   "cell_type": "code",
   "execution_count": 11,
   "metadata": {},
   "outputs": [
    {
     "data": {
      "text/plain": [
       "<matplotlib.axes._subplots.AxesSubplot at 0x1c24ee9940>"
      ]
     },
     "execution_count": 11,
     "metadata": {},
     "output_type": "execute_result"
    },
    {
     "data": {
      "image/png": "[encoded data removed]",
      "text/plain": [
       "<Figure size 432x288 with 1 Axes>"
      ]
     },
     "metadata": {},
     "output_type": "display_data"
    }
   ],
   "source": [
    "df.quality.hist()"
   ]
  },
  {
   "cell_type": "code",
   "execution_count": 30,
   "metadata": {},
   "outputs": [
    {
     "name": "stderr",
     "output_type": "stream",
     "text": [
      "/Users/MichaelMiao/anaconda3/lib/python3.7/site-packages/sklearn/preprocessing/_function_transformer.py:97: FutureWarning: The default validate=True will be replaced by validate=False in 0.22.\n",
      "  \"validate=False in 0.22.\", FutureWarning)\n"
     ]
    }
   ],
   "source": [
    "transformer = FunctionTransformer(func = np.log, inverse_func= np.exp)\n",
    "y = transformer.transform(df.quality.values.reshape(-1,1))"
   ]
  },
  {
   "cell_type": "code",
   "execution_count": 48,
   "metadata": {},
   "outputs": [],
   "source": [
    "X=df[['health','efficiency']]"
   ]
  },
  {
   "cell_type": "code",
   "execution_count": 37,
   "metadata": {},
   "outputs": [
    {
     "data": {
      "text/plain": [
       "Text(0.5, 1.0, 'Histogram (dist) plot of log sleep quality')"
      ]
     },
     "execution_count": 37,
     "metadata": {},
     "output_type": "execute_result"
    },
    {
     "data": {
      "text/plain": [
       "Text(0.5, 0, 'health')"
      ]
     },
     "execution_count": 37,
     "metadata": {},
     "output_type": "execute_result"
    },
    {
     "data": {
      "text/plain": [
       "Text(0, 0.5, 'efficiency')"
      ]
     },
     "execution_count": 37,
     "metadata": {},
     "output_type": "execute_result"
    },
    {
     "data": {
      "text/plain": [
       "Text(0.5, 1.0, 'Scatter plot - colors are log sleep quality')"
      ]
     },
     "execution_count": 37,
     "metadata": {},
     "output_type": "execute_result"
    },
    {
     "data": {
      "text/plain": [
       "<matplotlib.colorbar.Colorbar at 0x1c25c59f60>"
      ]
     },
     "execution_count": 37,
     "metadata": {},
     "output_type": "execute_result"
    },
    {
     "data": {
      "text/plain": [
       "<function matplotlib.pyplot.show(*args, **kw)>"
      ]
     },
     "execution_count": 37,
     "metadata": {},
     "output_type": "execute_result"
    },
    {
     "data": {
      "image/png": "[encoded data removed]",
      "text/plain": [
       "<Figure size 1008x432 with 3 Axes>"
      ]
     },
     "metadata": {},
     "output_type": "display_data"
    }
   ],
   "source": [
    "fig = plt.figure(figsize = (14,6))\n",
    "ax = plt.subplot(121)\n",
    "ax = sns.distplot(y)\n",
    "ax.set_title('Histogram (dist) plot of log sleep quality')\n",
    "\n",
    "ax = plt.subplot(122)\n",
    "ax.set_xlabel('health')\n",
    "ax.set_ylabel('efficiency')\n",
    "ax.set_title('Scatter plot - colors are log sleep quality')\n",
    "\n",
    "ax2 = ax.scatter(df.health, df.efficiency, alpha = .4, c = y.flatten(), cmap = 'seismic')\n",
    "plt.colorbar(ax2)\n",
    "\n",
    "plt.show"
   ]
  },
  {
   "cell_type": "code",
   "execution_count": 40,
   "metadata": {},
   "outputs": [
    {
     "data": {
      "text/plain": [
       "DecisionTreeRegressor(criterion='mse', max_depth=2, max_features=None,\n",
       "                      max_leaf_nodes=3, min_impurity_decrease=0.0,\n",
       "                      min_impurity_split=None, min_samples_leaf=1,\n",
       "                      min_samples_split=2, min_weight_fraction_leaf=0.0,\n",
       "                      presort=False, random_state=0, splitter='best')"
      ]
     },
     "execution_count": 40,
     "metadata": {},
     "output_type": "execute_result"
    }
   ],
   "source": [
    "from sklearn.tree import DecisionTreeRegressor\n",
    "simple_tree = DecisionTreeRegressor(random_state = 0, max_depth = 2, max_leaf_nodes=3)\n",
    "simple_tree.fit(X, y)"
   ]
  },
  {
   "cell_type": "code",
   "execution_count": 45,
   "metadata": {},
   "outputs": [
    {
     "data": {
      "image/svg+xml": [
       "<?xml version=\"1.0\" encoding=\"UTF-8\" standalone=\"no\"?>\n",
       "<!DOCTYPE svg PUBLIC \"-//W3C//DTD SVG 1.1//EN\"\n",
       " \"http://www.w3.org/Graphics/SVG/1.1/DTD/svg11.dtd\">\n",
       "<!-- Generated by graphviz version 2.43.0 (0)\n",
       " -->\n",
       "<!-- Title: Tree Pages: 1 -->\n",
       "<svg width=\"278pt\" height=\"258pt\"\n",
       " viewBox=\"0.00 0.00 277.86 258.00\" xmlns=\"http://www.w3.org/2000/svg\" xmlns:xlink=\"http://www.w3.org/1999/xlink\">\n",
       "<g id=\"graph0\" class=\"graph\" transform=\"scale(1 1) rotate(0) translate(4 254)\">\n",
       "<title>Tree</title>\n",
       "<polygon fill=\"white\" stroke=\"transparent\" points=\"-4,4 -4,-254 273.86,-254 273.86,4 -4,4\"/>\n",
       "<!-- 0 -->\n",
       "<g id=\"node1\" class=\"node\">\n",
       "<title>0</title>\n",
       "<polygon fill=\"none\" stroke=\"black\" points=\"224.34,-250 98.37,-250 98.37,-186 224.34,-186 224.34,-250\"/>\n",
       "<text text-anchor=\"middle\" x=\"161.36\" y=\"-234.8\" font-family=\"Times,serif\" font-size=\"14.00\">efficiency &lt;= 0.839</text>\n",
       "<text text-anchor=\"middle\" x=\"161.36\" y=\"-220.8\" font-family=\"Times,serif\" font-size=\"14.00\">mse = 0.102</text>\n",
       "<text text-anchor=\"middle\" x=\"161.36\" y=\"-206.8\" font-family=\"Times,serif\" font-size=\"14.00\">samples = 993</text>\n",
       "<text text-anchor=\"middle\" x=\"161.36\" y=\"-192.8\" font-family=\"Times,serif\" font-size=\"14.00\">value = 1.219</text>\n",
       "</g>\n",
       "<!-- 1 -->\n",
       "<g id=\"node2\" class=\"node\">\n",
       "<title>1</title>\n",
       "<polygon fill=\"none\" stroke=\"black\" points=\"154.86,-150 49.86,-150 49.86,-86 154.86,-86 154.86,-150\"/>\n",
       "<text text-anchor=\"middle\" x=\"102.36\" y=\"-134.8\" font-family=\"Times,serif\" font-size=\"14.00\">health &lt;= 6.696</text>\n",
       "<text text-anchor=\"middle\" x=\"102.36\" y=\"-120.8\" font-family=\"Times,serif\" font-size=\"14.00\">mse = 0.133</text>\n",
       "<text text-anchor=\"middle\" x=\"102.36\" y=\"-106.8\" font-family=\"Times,serif\" font-size=\"14.00\">samples = 313</text>\n",
       "<text text-anchor=\"middle\" x=\"102.36\" y=\"-92.8\" font-family=\"Times,serif\" font-size=\"14.00\">value = 1.069</text>\n",
       "</g>\n",
       "<!-- 0&#45;&gt;1 -->\n",
       "<g id=\"edge1\" class=\"edge\">\n",
       "<title>0&#45;&gt;1</title>\n",
       "<path fill=\"none\" stroke=\"black\" d=\"M142.69,-185.99C137.52,-177.41 131.84,-167.98 126.42,-158.97\"/>\n",
       "<polygon fill=\"black\" stroke=\"black\" points=\"129.26,-156.9 121.11,-150.14 123.26,-160.51 129.26,-156.9\"/>\n",
       "<text text-anchor=\"middle\" x=\"115.08\" y=\"-170.21\" font-family=\"Times,serif\" font-size=\"14.00\">True</text>\n",
       "</g>\n",
       "<!-- 2 -->\n",
       "<g id=\"node5\" class=\"node\">\n",
       "<title>2</title>\n",
       "<polygon fill=\"none\" stroke=\"black\" points=\"269.86,-143 172.86,-143 172.86,-93 269.86,-93 269.86,-143\"/>\n",
       "<text text-anchor=\"middle\" x=\"221.36\" y=\"-127.8\" font-family=\"Times,serif\" font-size=\"14.00\">mse = 0.072</text>\n",
       "<text text-anchor=\"middle\" x=\"221.36\" y=\"-113.8\" font-family=\"Times,serif\" font-size=\"14.00\">samples = 680</text>\n",
       "<text text-anchor=\"middle\" x=\"221.36\" y=\"-99.8\" font-family=\"Times,serif\" font-size=\"14.00\">value = 1.288</text>\n",
       "</g>\n",
       "<!-- 0&#45;&gt;2 -->\n",
       "<g id=\"edge4\" class=\"edge\">\n",
       "<title>0&#45;&gt;2</title>\n",
       "<path fill=\"none\" stroke=\"black\" d=\"M180.34,-185.99C187.01,-175.11 194.51,-162.85 201.26,-151.82\"/>\n",
       "<polygon fill=\"black\" stroke=\"black\" points=\"204.25,-153.64 206.49,-143.29 198.28,-149.99 204.25,-153.64\"/>\n",
       "<text text-anchor=\"middle\" x=\"212.33\" y=\"-163.39\" font-family=\"Times,serif\" font-size=\"14.00\">False</text>\n",
       "</g>\n",
       "<!-- 3 -->\n",
       "<g id=\"node3\" class=\"node\">\n",
       "<title>3</title>\n",
       "<polygon fill=\"none\" stroke=\"black\" points=\"92.57,-50 0.14,-50 0.14,0 92.57,0 92.57,-50\"/>\n",
       "<text text-anchor=\"middle\" x=\"46.36\" y=\"-34.8\" font-family=\"Times,serif\" font-size=\"14.00\">mse = 0.261</text>\n",
       "<text text-anchor=\"middle\" x=\"46.36\" y=\"-20.8\" font-family=\"Times,serif\" font-size=\"14.00\">samples = 24</text>\n",
       "<text text-anchor=\"middle\" x=\"46.36\" y=\"-6.8\" font-family=\"Times,serif\" font-size=\"14.00\">value = 0.672</text>\n",
       "</g>\n",
       "<!-- 1&#45;&gt;3 -->\n",
       "<g id=\"edge2\" class=\"edge\">\n",
       "<title>1&#45;&gt;3</title>\n",
       "<path fill=\"none\" stroke=\"black\" d=\"M83.24,-85.94C77.82,-77.13 71.91,-67.52 66.44,-58.63\"/>\n",
       "<polygon fill=\"black\" stroke=\"black\" points=\"69.37,-56.71 61.14,-50.03 63.4,-60.38 69.37,-56.71\"/>\n",
       "</g>\n",
       "<!-- 4 -->\n",
       "<g id=\"node4\" class=\"node\">\n",
       "<title>4</title>\n",
       "<polygon fill=\"none\" stroke=\"black\" points=\"207.86,-50 110.86,-50 110.86,0 207.86,0 207.86,-50\"/>\n",
       "<text text-anchor=\"middle\" x=\"159.36\" y=\"-34.8\" font-family=\"Times,serif\" font-size=\"14.00\">mse = 0.109</text>\n",
       "<text text-anchor=\"middle\" x=\"159.36\" y=\"-20.8\" font-family=\"Times,serif\" font-size=\"14.00\">samples = 289</text>\n",
       "<text text-anchor=\"middle\" x=\"159.36\" y=\"-6.8\" font-family=\"Times,serif\" font-size=\"14.00\">value = 1.102</text>\n",
       "</g>\n",
       "<!-- 1&#45;&gt;4 -->\n",
       "<g id=\"edge3\" class=\"edge\">\n",
       "<title>1&#45;&gt;4</title>\n",
       "<path fill=\"none\" stroke=\"black\" d=\"M121.81,-85.94C127.33,-77.13 133.35,-67.52 138.92,-58.63\"/>\n",
       "<polygon fill=\"black\" stroke=\"black\" points=\"141.96,-60.36 144.3,-50.03 136.03,-56.65 141.96,-60.36\"/>\n",
       "</g>\n",
       "</g>\n",
       "</svg>\n"
      ],
      "text/plain": [
       "<graphviz.files.Source at 0x1c25c8c828>"
      ]
     },
     "execution_count": 45,
     "metadata": {},
     "output_type": "execute_result"
    }
   ],
   "source": [
    "from sklearn import tree\n",
    "import graphviz \n",
    "\n",
    "dot_data = tree.export_graphviz(simple_tree, out_file=None, feature_names = ['health','efficiency'], class_names = ['quality'])  \n",
    "graph = graphviz.Source(dot_data)  \n",
    "graph "
   ]
  },
  {
   "cell_type": "code",
   "execution_count": 42,
   "metadata": {
    "collapsed": true,
    "jupyter": {
     "outputs_hidden": true
    }
   },
   "outputs": [
    {
     "name": "stdout",
     "output_type": "stream",
     "text": [
      "Updating Homebrew...\n",
      "\u001b[34m==>\u001b[0m \u001b[1mDownloading https://homebrew.bintray.com/bottles-portable-ruby/portable-ruby-2.6.3.mavericks.bottle.tar.gz\u001b[0m\n",
      "######################################################################## 100.0%                    19.8%                     39.2%\n",
      "\u001b[34m==>\u001b[0m \u001b[1mPouring portable-ruby-2.6.3.mavericks.bottle.tar.gz\u001b[0m\n",
      "\u001b[34m==>\u001b[0m \u001b[1mAuto-updated Homebrew!\u001b[0m\n",
      "Updated 2 taps (homebrew/core and homebrew/cask).\n",
      "\u001b[34m==>\u001b[0m \u001b[1mNew Formulae\u001b[0m\n",
      "adios2                     grin-wallet                openjdk@12\n",
      "alp                        helm@2                     pastel\n",
      "appium                     javacc                     pdfcpu\n",
      "arduino-cli                jd                         pdftk-java\n",
      "atasm                      kepubify                   php@7.3\n",
      "aws-cdk                    kind                       pnetcdf\n",
      "awsume                     krew                       pnpm\n",
      "base91                     kubebuilder                pokerstove\n",
      "berglas                    kyma-cli                   postgresql@11\n",
      "bingrep                    liblouis                   prestosql\n",
      "broot                      libsigc++@2                pygments\n",
      "calceph                    libtensorflow@1            pylint\n",
      "cargo-c                    libtorch                   pympress\n",
      "cartridge-cli              lightgbm                   rav1e\n",
      "cf-tool                    llvm@8                     ripgrep-all\n",
      "clp                        manticoresearch            samurai\n",
      "codespell                  minikube                   scc\n",
      "coinutils                  minizip2                   scs\n",
      "comby                      monolith                   sentencepiece\n",
      "cups                       mpi4py                     tdkjs\n",
      "dafny                      msgpack-tools              tektoncd-cli\n",
      "devdash                    mysql-client@5.7           tio\n",
      "diffr                      mysql-connector-c++@1.1    tmuxinator\n",
      "dune                       navi                       toast\n",
      "dvc                        nbdime                     trader\n",
      "fastmod                    ngt                        traefik@1\n",
      "faust                      node@12                    ttyplot\n",
      "ghc@8.6                    notifiers                  tweak\n",
      "gimme-aws-creds            now-cli                    vale\n",
      "git-delta                  numpy@1.16                 virustotal-cli\n",
      "git-revise                 oauth2l                    wagyu\n",
      "gleam                      octant                     wal2json\n",
      "gmt@5                      onefetch                   wiiuse\n",
      "go-md2man                  onnxruntime                xgboost\n",
      "go@1.12                    open-image-denoise         xlearn\n",
      "govc                       openjdk\n",
      "grin                       openjdk@11\n",
      "\u001b[34m==>\u001b[0m \u001b[1mUpdated Formulae\u001b[0m\n",
      "\u001b[1mgit \u001b[32m✔\u001b[0m\u001b[0m                                    libressl\n",
      "\u001b[1mnode \u001b[32m✔\u001b[0m\u001b[0m                                   librsvg\n",
      "\u001b[1mpcre2 \u001b[32m✔\u001b[0m\u001b[0m                                  librsync\n",
      "abcl                                     libsass\n",
      "abcm2ps                                  libsecret\n",
      "abcmidi                                  libsigc++\n",
      "abyss                                    libsignal-protocol-c\n",
      "ace                                      libslax\n",
      "ack                                      libsodium\n",
      "acpica                                   libsoup\n",
      "activemq                                 libspectre\n",
      "activemq-cpp                             libssh\n",
      "admesh                                   libssh2\n",
      "adwaita-icon-theme                       libstrophe\n",
      "aespipe                                  libtasn1\n",
      "afflib                                   libtensorflow\n",
      "afl-fuzz                                 libtiff\n",
      "aircrack-ng                              libtins\n",
      "alexjs                                   libtommath\n",
      "aliyun-cli                               libtorrent-rasterbar\n",
      "allure                                   libtrace\n",
      "alpine                                   libu2f-server\n",
      "amap                                     libusb\n",
      "amazon-ecs-cli                           libvirt\n",
      "ammonite-repl                            libvmaf\n",
      "ampl-mp                                  libvoikko\n",
      "amqp-cpp                                 libvterm\n",
      "amtk                                     libwebsockets\n",
      "angle-grinder                            libxlsxwriter\n",
      "angular-cli                              libxml++\n",
      "anime-downloader                         libxml++3\n",
      "anjuta                                   libxml2\n",
      "annie                                    libxmlsec1\n",
      "ansible                                  libxslt\n",
      "ansible-lint                             libzdb\n",
      "ansifilter                               lightning\n",
      "ansiweather                              lighttpd\n",
      "ant                                      lilv\n",
      "antibody                                 linkerd\n",
      "antlr4-cpp-runtime                       links\n",
      "anycable-go                              liquibase\n",
      "apache-arrow                             llvm\n",
      "apache-arrow-glib                        llvm@6\n",
      "apache-flink                             llvm@7\n",
      "apache-geode                             lmod\n",
      "apache-spark                             logrotate\n",
      "apache-zeppelin                          logstash\n",
      "apib                                     logtalk\n",
      "apktool                                  lolcat\n",
      "appscale-tools                           lsdvd\n",
      "apr-util                                 luarocks\n",
      "aqbanking                                luvit\n",
      "arangodb                                 lxc\n",
      "aravis                                   lynx\n",
      "aria2                                    mackup\n",
      "arm-linux-gnueabihf-binutils             macvim\n",
      "armadillo                                mage\n",
      "arp-scan                                 magic-wormhole\n",
      "artifactory                              makensis\n",
      "asdf                                     makepkg\n",
      "asio                                     mame\n",
      "ask-cli                                  mapserver\n",
      "aspell                                   mariadb\n",
      "assimp                                   mariadb-connector-c\n",
      "astrometry-net                           mariadb-connector-odbc\n",
      "atk                                      mariadb@10.1\n",
      "atkmm                                    mariadb@10.2\n",
      "atlantis                                 mariadb@10.3\n",
      "atlassian-cli                            math-comp\n",
      "atomist-cli                              maven\n",
      "audacious                                mawk\n",
      "auditbeat                                maxwell\n",
      "augustus                                 md5sha1sum\n",
      "autorest                                 mdbook\n",
      "avfs                                     media-info\n",
      "avro-c                                   megacmd\n",
      "avro-cpp                                 megatools\n",
      "avro-tools                               memcached\n",
      "aws-google-auth                          menhir\n",
      "aws-okta                                 mercurial\n",
      "aws-sdk-cpp                              mesa\n",
      "awscli                                   meson\n",
      "axel                                     metaproxy\n",
      "azure-cli                                metricbeat\n",
      "azure-storage-cpp                        mfterm\n",
      "b2-tools                                 mgba\n",
      "babel                                    micronaut\n",
      "babeld                                   midnight-commander\n",
      "bacula-fd                                mill\n",
      "badtouch                                 miller\n",
      "balena-cli                               minica\n",
      "ballerina                                minio\n",
      "baobab                                   minio-mc\n",
      "bareos-client                            miniserve\n",
      "basex                                    minizinc\n",
      "bash                                     mint\n",
      "bash-snippets                            mit-scheme\n",
      "bat                                      mitmproxy\n",
      "batik                                    mkcert\n",
      "bazel                                    mkl-dnn\n",
      "bazelisk                                 mktorrent\n",
      "bbftp-client                             mkvtoolnix\n",
      "bcftools                                 mlt\n",
      "bear                                     mm-common\n",
      "bedops                                   mmark\n",
      "bedtools                                 mockserver\n",
      "bee                                      moco\n",
      "benthos                                  modgit\n",
      "berkeley-db                              molecule\n",
      "bettercap                                monero\n",
      "bibtexconv                               monetdb\n",
      "bibutils                                 mongo-c-driver\n",
      "bigloo                                   mongoose\n",
      "bind                                     monit\n",
      "binutils                                 monitoring-plugins\n",
      "binwalk                                  monkeysphere\n",
      "biogeme                                  mono\n",
      "bison                                    mono-libgdiplus\n",
      "bit                                      mosh\n",
      "bitchx                                   mosquitto\n",
      "bitcoin                                  mpd\n",
      "bitrise                                  mpg123\n",
      "bitwarden-cli                            mpich\n",
      "black                                    mpop\n",
      "blastem                                  mpv\n",
      "blink1                                   msmtp\n",
      "blockhash                                mupdf\n",
      "bluepill                                 mutt\n",
      "blueutil                                 mvnvm\n",
      "bnd                                      mycli\n",
      "bogofilter                               mydumper\n",
      "boost                                    mypy\n",
      "boost-bcp                                mysql\n",
      "boost-build                              mysql++\n",
      "boost-mpi                                mysql-client\n",
      "boost-python                             mysql-connector-c++\n",
      "boost-python3                            mysql@5.6\n",
      "boot-clj                                 mysql@5.7\n",
      "borgmatic                                mysqltuner\n",
      "botan                                    mytop\n",
      "breezy                                   n\n",
      "btfs                                     nagios-plugins\n",
      "btpd                                     nano\n",
      "buildifier                               nanopb-generator\n",
      "buildkit                                 nats-server\n",
      "buku                                     nats-streaming-server\n",
      "bulk_extractor                           ncmpcpp\n",
      "bullet                                   nco\n",
      "bundletool                               ncrack\n",
      "bup                                      ne\n",
      "burp                                     neatvi\n",
      "bvi                                      needle\n",
      "byacc                                    neko\n",
      "byteman                                  neo4j\n",
      "bzt                                      neofetch\n",
      "cabal-install                            neomutt\n",
      "cadaver                                  neon\n",
      "caddy                                    neovim\n",
      "caf                                      net-snmp\n",
      "caffe                                    netdata\n",
      "cairomm                                  netlify-cli\n",
      "cake                                     newman\n",
      "calcurse                                 newsboat\n",
      "calicoctl                                nghttp2\n",
      "camlp5                                   nginx\n",
      "cargo-completion                         ngircd\n",
      "carla                                    nifi\n",
      "carrot2                                  nifi-registry\n",
      "carthage                                 nim\n",
      "cash-cli                                 nlohmann-json\n",
      "catch2                                   nmap\n",
      "cayley                                   nmh\n",
      "ccache                                   nnn\n",
      "ccls                                     node-build\n",
      "ccm                                      node@10\n",
      "ceres-solver                             node@8\n",
      "cern-ndiff                               node_exporter\n",
      "certbot                                  nodenv\n",
      "certstrap                                nomad\n",
      "cfn-lint                                 nopoll\n",
      "cfr-decompiler                           noti\n",
      "cfssl                                    notmuch\n",
      "cgal                                     nrpe\n",
      "cglm                                     nsd\n",
      "cgrep                                    nspr\n",
      "chafa                                    nsq\n",
      "chakra                                   nss\n",
      "chamber                                  ntl\n",
      "chapel                                   ntopng\n",
      "charm-tools                              ntp\n",
      "cheat                                    nu\n",
      "check                                    nuget\n",
      "checkbashisms                            numpy\n",
      "checkstyle                               nushell\n",
      "chromaprint                              nut\n",
      "chronograf                               nvm\n",
      "cimg                                     nzbget\n",
      "circleci                                 oath-toolkit\n",
      "citus                                    ocrmypdf\n",
      "cjdns                                    octave\n",
      "ckan                                     octomap\n",
      "clac                                     odpi\n",
      "clamav                                   offlineimap\n",
      "clang-format                             ola\n",
      "cli53                                    omega\n",
      "clib                                     oniguruma\n",
      "cling                                    onioncat\n",
      "clingo                                   onscripter\n",
      "cln                                      ooniprobe\n",
      "cloc                                     opa\n",
      "clojure                                  open-babel\n",
      "closure-compiler                         open-mpi\n",
      "clutter-gtk                              open-zwave\n",
      "cmake                                    openal-soft\n",
      "cmatrix                                  openapi-generator\n",
      "cminpack                                 opencoarrays\n",
      "cnats                                    opencolorio\n",
      "cocoapods                                openconnect\n",
      "cointop                                  opencv\n",
      "collectd                                 opencv@2\n",
      "collector-sidecar                        opencv@3\n",
      "commandbox                               openfortivpn\n",
      "compcert                                 openimageio\n",
      "composer                                 openjazz\n",
      "conan                                    openldap\n",
      "configen                                 openrct2\n",
      "confluent-platform                       opensaml\n",
      "conjure-up                               opensc\n",
      "console_bridge                           openssh\n",
      "consul                                   openssl@1.1\n",
      "consul-template                          opentracing-cpp\n",
      "contentful-cli                           openvdb\n",
      "convox                                   openvpn\n",
      "coq                                      operator-sdk\n",
      "couchdb                                  ophcrack\n",
      "cppcheck                                 opusfile\n",
      "cpprestsdk                               orc-tools\n",
      "credstash                                ori\n",
      "cromwell                                 osc\n",
      "cryptol                                  oscats\n",
      "crystal                                  osm-gps-map\n",
      "crystal-icr                              osmium-tool\n",
      "csound                                   osqp\n",
      "cstore_fdw                               osquery\n",
      "csvq                                     osslsigncode\n",
      "cubelib                                  ott\n",
      "cucumber-cpp                             owfs\n",
      "curl                                     oxipng\n",
      "curl-openssl                             p11-kit\n",
      "cutter                                   pachi\n",
      "cypher-shell                             packer\n",
      "cython                                   pagmo\n",
      "dark-mode                                paket\n",
      "darksky-weather                          pandoc\n",
      "dartsim                                  pandoc-citeproc\n",
      "dasm                                     pandoc-crossref\n",
      "datamash                                 pango\n",
      "dav1d                                    pangomm\n",
      "davix                                    paps\n",
      "dbhash                                   parallel\n",
      "dbmate                                   passenger\n",
      "dcm2niix                                 pcb2gcode\n",
      "dcmtk                                    pdal\n",
      "dcos-cli                                 pdf2htmlex\n",
      "ddgr                                     pdf2json\n",
      "deark                                    pdftoipe\n",
      "deno                                     pdns\n",
      "dependency-check                         pdnsrec\n",
      "deployer                                 percona-server\n",
      "devspace                                 percona-toolkit\n",
      "dhall                                    percona-xtrabackup\n",
      "dhall-bash                               perl-build\n",
      "dhall-json                               perltidy\n",
      "di                                       petsc\n",
      "dialog                                   petsc-complex\n",
      "diamond                                  pev\n",
      "dieharder                                pgbadger\n",
      "diff-pdf                                 pgbouncer\n",
      "diff-so-fancy                            pgcli\n",
      "diffoscope                               pgformatter\n",
      "diskus                                   pgloader\n",
      "dita-ot                                  pgpool-ii\n",
      "dive                                     pgroonga\n",
      "django-completion                        pgrouting\n",
      "dmd                                      pgweb\n",
      "dmg2img                                  phoronix-test-suite\n",
      "dmtx-utils                               php\n",
      "dnscrypt-proxy                           php-code-sniffer\n",
      "dnsperf                                  php-cs-fixer\n",
      "dnstwist                                 php@7.2\n",
      "dnsviz                                   phpmd\n",
      "docfx                                    phpmyadmin\n",
      "docker                                   phpstan\n",
      "docker-completion                        phpunit\n",
      "docker-compose                           pianobar\n",
      "docker-compose-completion                pianod\n",
      "docker-machine                           picard-tools\n",
      "docker-machine-completion                pijul\n",
      "docker-machine-nfs                       pilosa\n",
      "docker-squash                            pioneer\n",
      "doctl                                    pip-completion\n",
      "doitlive                                 pipx\n",
      "dos2unix                                 pjproject\n",
      "dosbox-x                                 pkcs11-helper\n",
      "dovecot                                  plantuml\n",
      "drafter                                  platformio\n",
      "drone-cli                                pmd\n",
      "dtc                                      poco\n",
      "dub                                      podofo\n",
      "duck                                     ponyc\n",
      "duo_unix                                 poppler\n",
      "duplicity                                postgis\n",
      "dust                                     postgresql\n",
      "dvdauthor                                postgresql@10\n",
      "dvdbackup                                postgresql@9.4\n",
      "dxpy                                     postgresql@9.5\n",
      "dyld-headers                             postgresql@9.6\n",
      "dylibbundler                             potrace\n",
      "dynare                                   ppsspp\n",
      "eccodes                                  pqiv\n",
      "efl                                      pre-commit\n",
      "ejabberd                                 prefixsuffix\n",
      "ekg2                                     prettier\n",
      "elasticsearch                            procs\n",
      "elektra                                  profanity\n",
      "eless                                    proftpd\n",
      "elinks                                   proguard\n",
      "elixir                                   proj\n",
      "elm                                      prometheus\n",
      "emacs                                    proteinortho\n",
      "embree                                   protobuf\n",
      "embulk                                   protobuf-c\n",
      "emscripten                               protobuf@3.6\n",
      "encfs                                    protobuf@3.7\n",
      "enchant                                  prototool\n",
      "entr                                     proxytunnel\n",
      "envconsul                                pspg\n",
      "epic5                                    psqlodbc\n",
      "eprover                                  pulledpork\n",
      "eralchemy                                pulseaudio\n",
      "erlang                                   pulumi\n",
      "erlang@20                                pumba\n",
      "erlang@21                                pure-ftpd\n",
      "eslint                                   purescript\n",
      "esptool                                  pushpin\n",
      "etcd                                     putty\n",
      "ethereum                                 puzzles\n",
      "ettercap                                 pwntools\n",
      "evince                                   pwsafe\n",
      "exercism                                 py2cairo\n",
      "exiftool                                 py3cairo\n",
      "exim                                     pybind11\n",
      "expat                                    pyenv\n",
      "exploitdb                                pygobject3\n",
      "eye-d3                                   pypy\n",
      "faas-cli                                 pypy3\n",
      "fabio                                    pyqt\n",
      "fabric                                   pyside\n",
      "faudio                                   python\n",
      "fauna-shell                              python-yq\n",
      "fb-client                                python@2\n",
      "fd                                       pyvim\n",
      "fdk-aac                                  qalculate-gtk\n",
      "fdroidserver                             qbs\n",
      "fetchmail                                qca\n",
      "ffmpeg                                   qemu\n",
      "ffmpeg@2.8                               qhull\n",
      "ffmpegthumbnailer                        qjackctl\n",
      "ffsend                                   qmmp\n",
      "fibjs                                    qpdf\n",
      "fig2dev                                  qpid-proton\n",
      "file-roller                              qscintilla2\n",
      "findutils                                qsoas\n",
      "fio                                      qstat\n",
      "firebase-cli                             qt\n",
      "flac                                     quex\n",
      "flake8                                   quickjs\n",
      "flatcc                                   quicktype\n",
      "flintrock                                qxmpp\n",
      "flow                                     rabbitmq\n",
      "flowgrind                                rabbitmq-c\n",
      "fluid-synth                              rancher-cli\n",
      "fluxctl                                  rancid\n",
      "flyway                                   range-v3\n",
      "fmt                                      rargs\n",
      "fn                                       rc\n",
      "folly                                    rclone\n",
      "fontforge                                rdesktop\n",
      "fonttools                                re-flex\n",
      "fop                                      re2\n",
      "fork-cleaner                             readline\n",
      "fossil                                   recon-ng\n",
      "fpp                                      redis\n",
      "fq                                       redpen\n",
      "freeradius-server                        remind\n",
      "freerdp                                  reminiscence\n",
      "freeswitch                               rename\n",
      "freetds                                  reop\n",
      "fribidi                                  repo\n",
      "frpc                                     reposurgeon\n",
      "frps                                     residualvm\n",
      "frugal                                   restic\n",
      "fs-uae                                   restview\n",
      "fselect                                  rethinkdb\n",
      "fstrm                                    rex\n",
      "futhark                                  rgbds\n",
      "fwup                                     riemann\n",
      "fx                                       riff\n",
      "fzf                                      rke\n",
      "gambit-scheme                            rmlint\n",
      "gammu                                    robot-framework\n",
      "gatsby-cli                               rocksdb\n",
      "gcab                                     rom-tools\n",
      "gcc                                      root\n",
      "gcc@6                                    roswell\n",
      "gcc@7                                    rpm\n",
      "gcc@8                                    rrdtool\n",
      "gdal                                     rtags\n",
      "gdcm                                     rtmpdump\n",
      "gdk-pixbuf                               ruby\n",
      "gdl                                      ruby-build\n",
      "gdub                                     ruby@2.4\n",
      "geant4                                   ruby@2.5\n",
      "geckodriver                              rust\n",
      "gedit                                    rustup-init\n",
      "geographiclib                            s-lang\n",
      "geoipupdate                              s-nail\n",
      "geos                                     s2geometry\n",
      "gerbil-scheme                            s3-backer\n",
      "gerbv                                    s3ql\n",
      "getdns                                   s6\n",
      "getxbook                                 sagittarius-scheme\n",
      "ghc                                      salt\n",
      "ghex                                     sane-backends\n",
      "ghostscript                              saxon\n",
      "ghq                                      sbcl\n",
      "ghr                                      sbjson\n",
      "giflib                                   sblim-sfcc\n",
      "gifski                                   sbt\n",
      "ginac                                    scala\n",
      "git-annex                                scala@2.12\n",
      "git-archive-all                          scalaenv\n",
      "git-cola                                 scalapack\n",
      "git-crypt                                scamper\n",
      "git-quick-stats                          sccache\n",
      "git-secret                               scdoc\n",
      "git-series                               scipy\n",
      "git-town                                 scrcpy\n",
      "gitfs                                    screen\n",
      "gitg                                     screenfetch\n",
      "gitlab-gem                               scrypt\n",
      "gitlab-runner                            scummvm\n",
      "gitleaks                                 scummvm-tools\n",
      "gitless                                  scw\n",
      "gitmoji                                  sdhash\n",
      "gitup                                    sdl2\n",
      "gitversion                               sdlpop\n",
      "gjs                                      serd\n",
      "gkrellm                                  serf\n",
      "glade                                    serverless\n",
      "glances                                  sfk\n",
      "glib                                     sfst\n",
      "glib-networking                          shadowenv\n",
      "glib-openssl                             shadowsocks-libev\n",
      "glibmm                                   shairport\n",
      "globus-toolkit                           shairport-sync\n",
      "glooctl                                  shared-mime-info\n",
      "gloox                                    shellinabox\n",
      "glslang                                  shibboleth-sp\n",
      "gmic                                     ship\n",
      "gmime                                    shogun\n",
      "gmt                                      siege\n",
      "gnome-builder                            signal-cli\n",
      "gnome-latex                              sile\n",
      "gnome-recipes                            silk\n",
      "gnumeric                                 simgrid\n",
      "gnunet                                   simh\n",
      "gnupg                                    simple-scan\n",
      "gnupg-pkcs11-scd                         simutrans\n",
      "gnuplot                                  singular\n",
      "gnuradio                                 sip\n",
      "gnutls                                   sipsak\n",
      "go                                       siril\n",
      "go-bindata                               sispmctl\n",
      "go-jira                                  sk\n",
      "gobby                                    skaffold\n",
      "gobject-introspection                    skafos\n",
      "gocryptfs                                ski\n",
      "godep                                    skopeo\n",
      "goffice                                  slowhttptest\n",
      "golang-migrate                           slrn\n",
      "gomplate                                 smali\n",
      "goofys                                   sn0int\n",
      "google-authenticator-libpam              snakemake\n",
      "googler                                  snapcraft\n",
      "goreleaser                               sngrep\n",
      "goreman                                  snort\n",
      "gosu                                     snownews\n",
      "gource                                   socat\n",
      "gpac                                     sofia-sip\n",
      "gradio                                   softhsm\n",
      "gradle                                   solr\n",
      "grafana                                  sonar-scanner\n",
      "grails                                   sonarqube\n",
      "grakn                                    sonarqube-lts\n",
      "graph-tool                               sonobuoy\n",
      "graphene                                 sops\n",
      "graphviz                                 sord\n",
      "groonga                                  source-highlight\n",
      "groovysdk                                source-to-image\n",
      "grpc                                     sourcedocs\n",
      "grpcurl                                  sourcekitten\n",
      "grt                                      sourcery\n",
      "gsettings-desktop-schemas                sparkey\n",
      "gsl                                      sparse\n",
      "gsmartcontrol                            spatialindex\n",
      "gsoap                                    spdlog\n",
      "gspell                                   spdylay\n",
      "gst-editing-services                     sphinx\n",
      "gst-libav                                sphinx-doc\n",
      "gst-plugins-bad                          spice-gtk\n",
      "gst-plugins-base                         spigot\n",
      "gst-plugins-good                         spiped\n",
      "gst-plugins-ugly                         sqlcipher\n",
      "gst-python                               sqldiff\n",
      "gst-rtsp-server                          sqlite\n",
      "gst-validate                             sqlite-analyzer\n",
      "gstreamer                                sqlmap\n",
      "gstreamermm                              squashfs\n",
      "gtk+3                                    squid\n",
      "gtk-gnutella                             sratom\n",
      "gtk-mac-integration                      sratoolkit\n",
      "gtkmm                                    src\n",
      "gtkmm3                                   srt\n",
      "gtksourceview3                           ssh-audit\n",
      "gtksourceview4                           ssh-permit-a38\n",
      "gtksourceviewmm                          sshfs\n",
      "gtksourceviewmm3                         ssldump\n",
      "gtkspell3                                sslsplit\n",
      "gtmess                                   sstp-client\n",
      "gtranslator                              stanford-corenlp\n",
      "gupnp-tools                              stanford-ner\n",
      "gwenhywfar                               starship\n",
      "gwyddion                                 stella\n",
      "h2                                       stellar-core\n",
      "h2o                                      step\n",
      "h3                                       stgit\n",
      "hadolint                                 stone-soup\n",
      "hadoop                                   storm\n",
      "handbrake                                stormssh\n",
      "hapi-fhir-cli                            streamlink\n",
      "haproxy                                  stress-ng\n",
      "harfbuzz                                 strongswan\n",
      "hashpump                                 stunnel\n",
      "haxe                                     stuntman\n",
      "hbase                                    subnetcalc\n",
      "hcloud                                   subversion\n",
      "hebcal                                   subversion@1.8\n",
      "heimdal                                  suil\n",
      "helmfile                                 suite-sparse\n",
      "helmsman                                 sundials\n",
      "hexyl                                    supervisor\n",
      "hfstospell                               suricata\n",
      "hg-fast-export                           svgo\n",
      "highlight                                svtplay-dl\n",
      "hive                                     swagger-codegen\n",
      "hledger                                  swagger-codegen@2\n",
      "hlint                                    swaks\n",
      "homebank                                 swi-prolog\n",
      "html-xml-utils                           swift-protobuf\n",
      "htmldoc                                  swiftformat\n",
      "htpdate                                  swiftlint\n",
      "http_load                                sxiv\n",
      "httpd                                    sylpheed\n",
      "httperf                                  sync_gateway\n",
      "httpie                                   syncthing\n",
      "httping                                  synfig\n",
      "httrack                                  synscan\n",
      "hub                                      sysbench\n",
      "hugo                                     sysdig\n",
      "hwloc                                    talloc\n",
      "hydra                                    tarantool\n",
      "hyperfine                                tarsnap\n",
      "hyperscan                                taskell\n",
      "hypre                                    tbb\n",
      "i2p                                      tcl-tk\n",
      "i2pd                                     tcpdump\n",
      "i386-elf-binutils                        tcpflow\n",
      "ical-buddy                               tcsh\n",
      "icarus-verilog                           tdlib\n",
      "icdiff                                   tectonic\n",
      "ice                                      telegraf\n",
      "icecast                                  telegram-cli\n",
      "icecream                                 teleport\n",
      "icemon                                   template-glib\n",
      "igv                                      temporal_tables\n",
      "ike-scan                                 tenyr\n",
      "imagemagick                              tepl\n",
      "imagemagick@6                            termius\n",
      "imageoptim-cli                           termshark\n",
      "imap-uw                                  termtosvg\n",
      "imapfilter                               terraform\n",
      "imapsync                                 terraformer\n",
      "imlib2                                   terragrunt\n",
      "include-what-you-use                     terrahub\n",
      "infer                                    testdisk\n",
      "influxdb                                 texinfo\n",
      "inform6                                  tfenv\n",
      "inlets                                   tflint\n",
      "innotop                                  theharvester\n",
      "insect                                   thrift\n",
      "instead                                  thrift@0.9\n",
      "intercal                                 tig\n",
      "io                                       tiger-vnc\n",
      "ios-sim                                  tile38\n",
      "ios-webkit-debug-proxy                   timewarrior\n",
      "ipbt                                     tinc\n",
      "iperf3                                   tintin\n",
      "ipmitool                                 tiny-fugue\n",
      "ipmiutil                                 tmate\n",
      "ipopt                                    tmux\n",
      "iproute2mac                              tmuxinator-completion\n",
      "ipv6calc                                 tnef\n",
      "ipython                                  todoman\n",
      "ircd-hybrid                              tokei\n",
      "ircii                                    tomcat\n",
      "irssi                                    tomcat-native\n",
      "iso-codes                                tomcat@8\n",
      "ispc                                     topgrade\n",
      "istioctl                                 tor\n",
      "isync                                    tox\n",
      "itk                                      traefik\n",
      "jailkit                                  trafficserver\n",
      "janet                                    transcrypt\n",
      "jena                                     transmission-cli\n",
      "jenkins                                  triton\n",
      "jenkins-lts                              ttyd\n",
      "jetty                                    tundra\n",
      "jfrog-cli-go                             tunnel\n",
      "jhipster                                 twarc\n",
      "jmeter                                   twine-pypi\n",
      "jo                                       two-lame\n",
      "john-jumbo                               typescript\n",
      "joplin                                   u-boot-tools\n",
      "jose                                     ucloud\n",
      "jpeg-turbo                               um\n",
      "jruby                                    unbound\n",
      "jsonnet                                  uncrustify\n",
      "jsonrpc-glib                             ungit\n",
      "jsvc                                     unoconv\n",
      "juise                                    unrar\n",
      "juju                                     unshield\n",
      "just                                     upscaledb\n",
      "jvgrep                                   uptimed\n",
      "k3d                                      urbit\n",
      "kafka                                    urh\n",
      "kafkacat                                 urweb\n",
      "kahip                                    uwsgi\n",
      "kakoune                                  v2ray-plugin\n",
      "kallisto                                 v8\n",
      "kcov                                     vagrant-completion\n",
      "kerl                                     vala\n",
      "kibana                                   valabind\n",
      "kitchen-sync                             vamp-plugin-sdk\n",
      "klavaro                                  vapoursynth\n",
      "knot                                     vapoursynth-imwri\n",
      "kompose                                  vapoursynth-ocr\n",
      "kops                                     vapoursynth-sub\n",
      "kore                                     varnish\n",
      "kotlin                                   vault\n",
      "kpcli                                    vault-cli\n",
      "krakend                                  velero\n",
      "krb5                                     verilator\n",
      "ksh                                      vert.x\n",
      "ktlint                                   vfuse\n",
      "kube-aws                                 vgmstream\n",
      "kubeaudit                                vice\n",
      "kubecfg                                  vim\n",
      "kubectx                                  vim@7.4\n",
      "kubeless                                 vips\n",
      "kubeprod                                 virgil\n",
      "kubernetes-cli                           virtuoso\n",
      "kubeseal                                 visp\n",
      "kubespy                                  vit\n",
      "kustomize                                volatility\n",
      "languagetool                             vte3\n",
      "lasso                                    vtk\n",
      "lastpass-cli                             vulkan-headers\n",
      "lazydocker                               wabt\n",
      "lazygit                                  wartremover\n",
      "lcm                                      watchexec\n",
      "ldapvi                                   watchman\n",
      "ldid                                     watson\n",
      "ldns                                     wdc\n",
      "ledger                                   webpack\n",
      "legit                                    webtorrent-cli\n",
      "lego                                     weechat\n",
      "leptonica                                wget\n",
      "lerna                                    whois\n",
      "lftp                                     widelands\n",
      "lgogdownloader                           wiki\n",
      "libarchive                               winetricks\n",
      "libbitcoin                               wireguard-go\n",
      "libbitcoin-blockchain                    wireguard-tools\n",
      "libbitcoin-client                        wiremock-standalone\n",
      "libbitcoin-consensus                     wireshark\n",
      "libbitcoin-database                      wolfssl\n",
      "libbitcoin-explorer                      wp-cli\n",
      "libbitcoin-network                       wp-cli-completion\n",
      "libbitcoin-node                          wsk\n",
      "libbitcoin-protocol                      wskdeploy\n",
      "libbitcoin-server                        wtf\n",
      "libcaca                                  wtfutil\n",
      "libcapn                                  wxmaxima\n",
      "libcoap                                  wxpython\n",
      "libcouchbase                             x264\n",
      "libdap                                   x265\n",
      "libdazzle                                xa\n",
      "libdvbpsi                                xapian\n",
      "libdvdnav                                xcodegen\n",
      "libdvdread                               xmake\n",
      "libedit                                  xml-security-c\n",
      "libepoxy                                 xml-tooling-c\n",
      "libetpan                                 xmount\n",
      "libevent                                 xmrig\n",
      "libevhtp                                 xonsh\n",
      "libewf                                   xorriso\n",
      "libexosip                                xpdf\n",
      "libfabric                                xplanet\n",
      "libfaketime                              xrootd\n",
      "libfreefare                              xsimd\n",
      "libftdi                                  xtensor\n",
      "libgcrypt                                xxhash\n",
      "libgda                                   yacas\n",
      "libglademm                               yadm\n",
      "libgnomecanvasmm                         yafc\n",
      "libgraphqlparser                         yaml-cpp\n",
      "libgusb                                  yamllint\n",
      "libgweather                              yapf\n",
      "libheif                                  yara\n",
      "libical                                  yarn\n",
      "libidn2                                  yash\n",
      "libimobiledevice                         yaz\n",
      "libjwt                                   yelp-tools\n",
      "liblockfile                              ykman\n",
      "libmaxminddb                             yle-dl\n",
      "libming                                  you-get\n",
      "libmowgli                                youtube-dl\n",
      "libmxml                                  yq\n",
      "libmypaint                               z3\n",
      "liboauth                                 zabbix\n",
      "libogg                                   zbackup\n",
      "libomp                                   zbar\n",
      "libopendkim                              zig\n",
      "libopenmpt                               zim\n",
      "libosmium                                zint\n",
      "libp11                                   zita-convolver\n",
      "libpcap                                  znc\n",
      "libpeas                                  zola\n",
      "libphonenumber                           zookeeper\n",
      "libplist                                 zopfli\n",
      "libpq                                    zrepl\n",
      "libpqxx                                  zsh-completions\n",
      "libpulsar                                zsh-history-substring-search\n",
      "libqalculate                             zshdb\n",
      "librdkafka                               zstd\n",
      "libre                                    zsxd\n",
      "librealsense                             zydis\n",
      "\u001b[34m==>\u001b[0m \u001b[1mRenamed Formulae\u001b[0m\n",
      "bro -> zeek                kubernetes-helm -> helm    usbmuxd -> libusbmuxd\n",
      "jupyter -> jupyterlab      presto -> prestodb\n",
      "\u001b[34m==>\u001b[0m \u001b[1mDeleted Formulae\u001b[0m\n",
      "aiccu                      irods                      percona-server-mongodb\n",
      "ansible@1.9                konoha                     php@7.1\n",
      "ansible@2.0                kontena                    pincaster\n",
      "bdsup2sub                  liblacewing                postgres-xc\n",
      "cclive                     libopkele                  pound\n",
      "cherokee                   llvm@3.9                   protobuf@3.1\n",
      "cockroach                  llvm@4                     raine\n",
      "csup                       llvm@5                     riak\n",
      "ctunnel                    mariadb@10.0               ruby@2.0\n",
      "dcal                       mongodb                    shocco\n",
      "engine_pkcs11              mongodb@3.0                skipfish\n",
      "erlang@17                  mongodb@3.2                supersonic\n",
      "erlang@19                  mongodb@3.4                taisei\n",
      "frag_find                  mongodb@3.6                thc-pptp-bruter\n",
      "freetds@0.91               mysql-cluster              tlsdate\n",
      "ftimes                     mysql-connector-c          tn5250\n",
      "gmt@4                      mysql@5.5                  voms\n",
      "gmtl                       nordugrid-arc              wine\n",
      "grib-api                   openssl                    xar-mackyle\n",
      "hana                       packetbeat\n",
      "httest                     pbrt\n",
      "\n",
      "\u001b[32m==>\u001b[0m \u001b[1mInstalling dependencies for graphviz: \u001b[32mlibpng\u001b[39m, \u001b[32mfreetype\u001b[39m, \u001b[32mfontconfig\u001b[39m, \u001b[32mjpeg\u001b[39m, \u001b[32mlibtiff\u001b[39m, \u001b[32mwebp\u001b[39m, \u001b[32mgd\u001b[39m, \u001b[32mgettext\u001b[39m, \u001b[32mlibffi\u001b[39m, \u001b[32mpcre\u001b[39m, \u001b[32mgdbm\u001b[39m, \u001b[32mopenssl@1.1\u001b[39m, \u001b[32mreadline\u001b[39m, \u001b[32msqlite\u001b[39m, \u001b[32mxz\u001b[39m, \u001b[32mpython\u001b[39m, \u001b[32mglib\u001b[39m, \u001b[32mjasper\u001b[39m, \u001b[32mnetpbm\u001b[39m, \u001b[32mgts\u001b[39m and \u001b[32mlibtool\u001b[39m\u001b[0m\n",
      "\u001b[32m==>\u001b[0m \u001b[1mInstalling graphviz dependency: \u001b[32mlibpng\u001b[39m\u001b[0m\n",
      "\u001b[34m==>\u001b[0m \u001b[1mDownloading https://homebrew.bintray.com/bottles/libpng-1.6.37.mojave.bottle\u001b[0m\n",
      "\u001b[34m==>\u001b[0m \u001b[1mDownloading from https://akamai.bintray.com/53/53bbd14cc27c86c16605e256e7646\u001b[0m\n",
      "######################################################################## 100.0%\n",
      "\u001b[34m==>\u001b[0m \u001b[1mPouring libpng-1.6.37.mojave.bottle.tar.gz\u001b[0m\n",
      "🍺  /usr/local/Cellar/libpng/1.6.37: 27 files, 1.2MB\n",
      "\u001b[32m==>\u001b[0m \u001b[1mInstalling graphviz dependency: \u001b[32mfreetype\u001b[39m\u001b[0m\n",
      "\u001b[34m==>\u001b[0m \u001b[1mDownloading https://homebrew.bintray.com/bottles/freetype-2.10.1.mojave.bott\u001b[0m\n",
      "\u001b[34m==>\u001b[0m \u001b[1mDownloading from https://akamai.bintray.com/2f/2f5716f987df6f45a9d66e5f9af93\u001b[0m\n",
      "######################################################################## 100.0%\n",
      "\u001b[34m==>\u001b[0m \u001b[1mPouring freetype-2.10.1.mojave.bottle.tar.gz\u001b[0m\n",
      "🍺  /usr/local/Cellar/freetype/2.10.1: 61 files, 2.2MB\n",
      "\u001b[32m==>\u001b[0m \u001b[1mInstalling graphviz dependency: \u001b[32mfontconfig\u001b[39m\u001b[0m\n",
      "\u001b[34m==>\u001b[0m \u001b[1mDownloading https://homebrew.bintray.com/bottles/fontconfig-2.13.1.mojave.bo\u001b[0m\n",
      "\u001b[34m==>\u001b[0m \u001b[1mDownloading from https://akamai.bintray.com/1c/1c704a5a4249252bf42dc4f2a458f\u001b[0m\n",
      "######################################################################## 100.0%\n",
      "\u001b[34m==>\u001b[0m \u001b[1mPouring fontconfig-2.13.1.mojave.bottle.tar.gz\u001b[0m\n",
      "\u001b[34m==>\u001b[0m \u001b[1mRegenerating font cache, this may take a while\u001b[0m\n",
      "\u001b[34m==>\u001b[0m \u001b[1m/usr/local/Cellar/fontconfig/2.13.1/bin/fc-cache -frv\u001b[0m\n",
      "🍺  /usr/local/Cellar/fontconfig/2.13.1: 531 files, 3.3MB\n",
      "\u001b[32m==>\u001b[0m \u001b[1mInstalling graphviz dependency: \u001b[32mjpeg\u001b[39m\u001b[0m\n",
      "\u001b[34m==>\u001b[0m \u001b[1mDownloading https://homebrew.bintray.com/bottles/jpeg-9c.mojave.bottle.tar.g\u001b[0m\n",
      "\u001b[34m==>\u001b[0m \u001b[1mDownloading from https://akamai.bintray.com/1d/1daa0fc0c197d96dd4e1afddb9ad5\u001b[0m\n",
      "######################################################################## 100.0%\n",
      "\u001b[34m==>\u001b[0m \u001b[1mPouring jpeg-9c.mojave.bottle.tar.gz\u001b[0m\n",
      "🍺  /usr/local/Cellar/jpeg/9c: 21 files, 733.4KB\n",
      "\u001b[32m==>\u001b[0m \u001b[1mInstalling graphviz dependency: \u001b[32mlibtiff\u001b[39m\u001b[0m\n",
      "\u001b[34m==>\u001b[0m \u001b[1mDownloading https://homebrew.bintray.com/bottles/libtiff-4.1.0.mojave.bottle\u001b[0m\n",
      "\u001b[34m==>\u001b[0m \u001b[1mDownloading from https://akamai.bintray.com/dd/dd060521aa30fb2f4678c9ebab636\u001b[0m\n",
      "######################################################################## 100.0%\n",
      "\u001b[34m==>\u001b[0m \u001b[1mPouring libtiff-4.1.0.mojave.bottle.tar.gz\u001b[0m\n",
      "🍺  /usr/local/Cellar/libtiff/4.1.0: 247 files, 3.6MB\n",
      "\u001b[32m==>\u001b[0m \u001b[1mInstalling graphviz dependency: \u001b[32mwebp\u001b[39m\u001b[0m\n",
      "\u001b[34m==>\u001b[0m \u001b[1mDownloading https://homebrew.bintray.com/bottles/webp-1.0.3.mojave.bottle.ta\u001b[0m\n",
      "\u001b[34m==>\u001b[0m \u001b[1mDownloading from https://akamai.bintray.com/34/347c02d4de7afe9e5e73391d293a1\u001b[0m\n",
      "######################################################################## 100.0%\n",
      "\u001b[34m==>\u001b[0m \u001b[1mPouring webp-1.0.3.mojave.bottle.tar.gz\u001b[0m\n",
      "🍺  /usr/local/Cellar/webp/1.0.3: 39 files, 2.1MB\n",
      "\u001b[32m==>\u001b[0m \u001b[1mInstalling graphviz dependency: \u001b[32mgd\u001b[39m\u001b[0m\n",
      "\u001b[34m==>\u001b[0m \u001b[1mDownloading https://homebrew.bintray.com/bottles/gd-2.2.5.mojave.bottle.tar.\u001b[0m\n",
      "\u001b[34m==>\u001b[0m \u001b[1mDownloading from https://akamai.bintray.com/4b/4bb347ae5e66d8ba08927da7b82aa\u001b[0m\n",
      "######################################################################## 100.0%\n",
      "\u001b[34m==>\u001b[0m \u001b[1mPouring gd-2.2.5.mojave.bottle.tar.gz\u001b[0m\n",
      "🍺  /usr/local/Cellar/gd/2.2.5: 35 files, 1.1MB\n",
      "\u001b[32m==>\u001b[0m \u001b[1mInstalling graphviz dependency: \u001b[32mgettext\u001b[39m\u001b[0m\n",
      "\u001b[34m==>\u001b[0m \u001b[1mDownloading https://homebrew.bintray.com/bottles/gettext-0.20.1.mojave.bottl\u001b[0m\n",
      "\u001b[34m==>\u001b[0m \u001b[1mDownloading from https://akamai.bintray.com/fa/fa2096f80238b8f4d9f3724d52662\u001b[0m\n",
      "######################################################################## 100.0%\n",
      "\u001b[34m==>\u001b[0m \u001b[1mPouring gettext-0.20.1.mojave.bottle.tar.gz\u001b[0m\n",
      "\u001b[34m==>\u001b[0m \u001b[1mCaveats\u001b[0m\n",
      "gettext is keg-only, which means it was not symlinked into /usr/local,\n",
      "because macOS provides the BSD gettext library & some software gets confused if both are in the library path.\n",
      "\n",
      "If you need to have gettext first in your PATH run:\n",
      "  echo 'export PATH=\"/usr/local/opt/gettext/bin:$PATH\"' >> ~/.bash_profile\n",
      "\n",
      "For compilers to find gettext you may need to set:\n",
      "  export LDFLAGS=\"-L/usr/local/opt/gettext/lib\"\n",
      "  export CPPFLAGS=\"-I/usr/local/opt/gettext/include\"\n",
      "\n",
      "\u001b[34m==>\u001b[0m \u001b[1mSummary\u001b[0m\n",
      "🍺  /usr/local/Cellar/gettext/0.20.1: 1,899 files, 18.5MB\n",
      "\u001b[32m==>\u001b[0m \u001b[1mInstalling graphviz dependency: \u001b[32mlibffi\u001b[39m\u001b[0m\n",
      "\u001b[34m==>\u001b[0m \u001b[1mDownloading https://homebrew.bintray.com/bottles/libffi-3.2.1.mojave.bottle.\u001b[0m\n",
      "######################################################################## 100.0%\n",
      "\u001b[34m==>\u001b[0m \u001b[1mPouring libffi-3.2.1.mojave.bottle.tar.gz\u001b[0m\n",
      "\u001b[34m==>\u001b[0m \u001b[1mCaveats\u001b[0m\n",
      "libffi is keg-only, which means it was not symlinked into /usr/local,\n",
      "because some formulae require a newer version of libffi.\n",
      "\n",
      "For compilers to find libffi you may need to set:\n",
      "  export LDFLAGS=\"-L/usr/local/opt/libffi/lib\"\n",
      "\n",
      "\u001b[34m==>\u001b[0m \u001b[1mSummary\u001b[0m\n",
      "🍺  /usr/local/Cellar/libffi/3.2.1: 16 files, 296.8KB\n",
      "\u001b[32m==>\u001b[0m \u001b[1mInstalling graphviz dependency: \u001b[32mpcre\u001b[39m\u001b[0m\n",
      "\u001b[34m==>\u001b[0m \u001b[1mDownloading https://homebrew.bintray.com/bottles/pcre-8.43.mojave.bottle.tar\u001b[0m\n",
      "\u001b[34m==>\u001b[0m \u001b[1mDownloading from https://akamai.bintray.com/08/08e7414a7641d1e184c936537ff67\u001b[0m\n",
      "######################################################################## 100.0%\n",
      "\u001b[34m==>\u001b[0m \u001b[1mPouring pcre-8.43.mojave.bottle.tar.gz\u001b[0m\n",
      "🍺  /usr/local/Cellar/pcre/8.43: 204 files, 5.5MB\n",
      "\u001b[32m==>\u001b[0m \u001b[1mInstalling graphviz dependency: \u001b[32mgdbm\u001b[39m\u001b[0m\n",
      "\u001b[34m==>\u001b[0m \u001b[1mDownloading https://homebrew.bintray.com/bottles/gdbm-1.18.1.mojave.bottle.1\u001b[0m\n",
      "######################################################################## 100.0%\n",
      "\u001b[34m==>\u001b[0m \u001b[1mPouring gdbm-1.18.1.mojave.bottle.1.tar.gz\u001b[0m\n",
      "🍺  /usr/local/Cellar/gdbm/1.18.1: 20 files, 586.8KB\n",
      "\u001b[32m==>\u001b[0m \u001b[1mInstalling graphviz dependency: \u001b[32mopenssl@1.1\u001b[39m\u001b[0m\n",
      "\u001b[34m==>\u001b[0m \u001b[1mDownloading https://homebrew.bintray.com/bottles/openssl@1.1-1.1.1d.mojave.b\u001b[0m\n",
      "\u001b[34m==>\u001b[0m \u001b[1mDownloading from https://akamai.bintray.com/10/104ef018b7bb8fcc49f57e5a60359\u001b[0m\n",
      "######################################################################## 100.0%\n",
      "\u001b[34m==>\u001b[0m \u001b[1mPouring openssl@1.1-1.1.1d.mojave.bottle.tar.gz\u001b[0m\n",
      "\u001b[34m==>\u001b[0m \u001b[1mCaveats\u001b[0m\n",
      "A CA file has been bootstrapped using certificates from the system\n",
      "keychain. To add additional certificates, place .pem files in\n",
      "  /usr/local/etc/openssl@1.1/certs\n",
      "\n",
      "and run\n",
      "  /usr/local/opt/openssl@1.1/bin/c_rehash\n",
      "\n",
      "openssl@1.1 is keg-only, which means it was not symlinked into /usr/local,\n",
      "because openssl/libressl is provided by macOS so don't link an incompatible version.\n",
      "\n",
      "If you need to have openssl@1.1 first in your PATH run:\n",
      "  echo 'export PATH=\"/usr/local/opt/openssl@1.1/bin:$PATH\"' >> ~/.bash_profile\n",
      "\n",
      "For compilers to find openssl@1.1 you may need to set:\n",
      "  export LDFLAGS=\"-L/usr/local/opt/openssl@1.1/lib\"\n",
      "  export CPPFLAGS=\"-I/usr/local/opt/openssl@1.1/include\"\n",
      "\n",
      "\u001b[34m==>\u001b[0m \u001b[1mSummary\u001b[0m\n",
      "🍺  /usr/local/Cellar/openssl@1.1/1.1.1d: 7,983 files, 17.9MB\n",
      "\u001b[32m==>\u001b[0m \u001b[1mInstalling graphviz dependency: \u001b[32mreadline\u001b[39m\u001b[0m\n",
      "\u001b[34m==>\u001b[0m \u001b[1mDownloading https://homebrew.bintray.com/bottles/readline-8.0.1.mojave.bottl\u001b[0m\n",
      "\u001b[34m==>\u001b[0m \u001b[1mDownloading from https://akamai.bintray.com/3c/3c754391e9d243835811d128771ca\u001b[0m\n",
      "######################################################################## 100.0%\n",
      "\u001b[34m==>\u001b[0m \u001b[1mPouring readline-8.0.1.mojave.bottle.tar.gz\u001b[0m\n",
      "\u001b[34m==>\u001b[0m \u001b[1mCaveats\u001b[0m\n",
      "readline is keg-only, which means it was not symlinked into /usr/local,\n",
      "because macOS provides the BSD libedit library, which shadows libreadline.\n",
      "In order to prevent conflicts when programs look for libreadline we are\n",
      "defaulting this GNU Readline installation to keg-only.\n",
      "\n",
      "For compilers to find readline you may need to set:\n",
      "  export LDFLAGS=\"-L/usr/local/opt/readline/lib\"\n",
      "  export CPPFLAGS=\"-I/usr/local/opt/readline/include\"\n",
      "\n",
      "\u001b[34m==>\u001b[0m \u001b[1mSummary\u001b[0m\n",
      "🍺  /usr/local/Cellar/readline/8.0.1: 48 files, 1.5MB\n",
      "\u001b[32m==>\u001b[0m \u001b[1mInstalling graphviz dependency: \u001b[32msqlite\u001b[39m\u001b[0m\n",
      "\u001b[34m==>\u001b[0m \u001b[1mDownloading https://homebrew.bintray.com/bottles/sqlite-3.30.1.mojave.bottle\u001b[0m\n",
      "\u001b[34m==>\u001b[0m \u001b[1mDownloading from https://akamai.bintray.com/5e/5e6fef2d754e0e4009d502c40ad18\u001b[0m\n",
      "######################################################################## 100.0%\n",
      "\u001b[34m==>\u001b[0m \u001b[1mPouring sqlite-3.30.1.mojave.bottle.tar.gz\u001b[0m\n",
      "\u001b[34m==>\u001b[0m \u001b[1mCaveats\u001b[0m\n",
      "sqlite is keg-only, which means it was not symlinked into /usr/local,\n",
      "because macOS provides an older sqlite3.\n",
      "\n",
      "If you need to have sqlite first in your PATH run:\n",
      "  echo 'export PATH=\"/usr/local/opt/sqlite/bin:$PATH\"' >> ~/.bash_profile\n",
      "\n",
      "For compilers to find sqlite you may need to set:\n",
      "  export LDFLAGS=\"-L/usr/local/opt/sqlite/lib\"\n",
      "  export CPPFLAGS=\"-I/usr/local/opt/sqlite/include\"\n",
      "\n",
      "\u001b[34m==>\u001b[0m \u001b[1mSummary\u001b[0m\n",
      "🍺  /usr/local/Cellar/sqlite/3.30.1: 11 files, 3.9MB\n",
      "\u001b[32m==>\u001b[0m \u001b[1mInstalling graphviz dependency: \u001b[32mxz\u001b[39m\u001b[0m\n",
      "\u001b[34m==>\u001b[0m \u001b[1mDownloading https://homebrew.bintray.com/bottles/xz-5.2.4.mojave.bottle.tar.\u001b[0m\n",
      "\u001b[34m==>\u001b[0m \u001b[1mDownloading from https://akamai.bintray.com/01/010667293df282c8bceede3bcd369\u001b[0m\n",
      "######################################################################## 100.0%\n",
      "\u001b[34m==>\u001b[0m \u001b[1mPouring xz-5.2.4.mojave.bottle.tar.gz\u001b[0m\n",
      "🍺  /usr/local/Cellar/xz/5.2.4: 92 files, 1MB\n",
      "\u001b[32m==>\u001b[0m \u001b[1mInstalling graphviz dependency: \u001b[32mpython\u001b[39m\u001b[0m\n",
      "\u001b[34m==>\u001b[0m \u001b[1mDownloading https://homebrew.bintray.com/bottles/python-3.7.5.mojave.bottle.\u001b[0m\n",
      "\u001b[34m==>\u001b[0m \u001b[1mDownloading from https://akamai.bintray.com/bc/bcbdc3612a10d06facca7ec949926\u001b[0m\n",
      "######################################################################## 100.0%\n",
      "\u001b[34m==>\u001b[0m \u001b[1mPouring python-3.7.5.mojave.bottle.tar.gz\u001b[0m\n",
      "\u001b[31mError:\u001b[0m The `brew link` step did not complete successfully\n",
      "The formula built, but is not symlinked into /usr/local\n",
      "Could not symlink bin/2to3\n",
      "Target /usr/local/bin/2to3\n",
      "already exists. You may want to remove it:\n",
      "  rm '/usr/local/bin/2to3'\n",
      "\n",
      "To force the link and overwrite all conflicting files:\n",
      "  brew link --overwrite python\n",
      "\n",
      "To list all files that would be deleted:\n",
      "  brew link --overwrite --dry-run python\n",
      "\n",
      "Possible conflicting files are:\n",
      "/usr/local/bin/2to3 -> /Library/Frameworks/Python.framework/Versions/3.4/bin/2to3\n",
      "/usr/local/bin/idle3 -> /Library/Frameworks/Python.framework/Versions/3.4/bin/idle3\n",
      "/usr/local/bin/pydoc3 -> /Library/Frameworks/Python.framework/Versions/3.4/bin/pydoc3\n",
      "/usr/local/bin/python3 -> /Library/Frameworks/Python.framework/Versions/3.4/bin/python3\n",
      "/usr/local/bin/python3-config -> /Library/Frameworks/Python.framework/Versions/3.4/bin/python3-config\n",
      "/usr/local/bin/pyvenv -> /Library/Frameworks/Python.framework/Versions/3.4/bin/pyvenv\n",
      "\u001b[34m==>\u001b[0m \u001b[1m/usr/local/Cellar/python/3.7.5/bin/python3 -s setup.py --no-user-cfg install\u001b[0m\n",
      "\u001b[34m==>\u001b[0m \u001b[1m/usr/local/Cellar/python/3.7.5/bin/python3 -s setup.py --no-user-cfg install\u001b[0m\n",
      "\u001b[34m==>\u001b[0m \u001b[1m/usr/local/Cellar/python/3.7.5/bin/python3 -s setup.py --no-user-cfg install\u001b[0m\n",
      "\u001b[34m==>\u001b[0m \u001b[1mCaveats\u001b[0m\n",
      "Python has been installed as\n",
      "  /usr/local/bin/python3\n",
      "\n",
      "Unversioned symlinks `python`, `python-config`, `pip` etc. pointing to\n",
      "`python3`, `python3-config`, `pip3` etc., respectively, have been installed into\n",
      "  /usr/local/opt/python/libexec/bin\n",
      "\n",
      "If you need Homebrew's Python 2.7 run\n",
      "  brew install python@2\n",
      "\n",
      "You can install Python packages with\n",
      "  pip3 install <package>\n",
      "They will install into the site-package directory\n",
      "  /usr/local/lib/python3.7/site-packages\n",
      "\n",
      "See: https://docs.brew.sh/Homebrew-and-Python\n",
      "\u001b[34m==>\u001b[0m \u001b[1mSummary\u001b[0m\n",
      "🍺  /usr/local/Cellar/python/3.7.5: 3,972 files, 60.7MB\n",
      "\u001b[32m==>\u001b[0m \u001b[1mInstalling graphviz dependency: \u001b[32mglib\u001b[39m\u001b[0m\n",
      "\u001b[34m==>\u001b[0m \u001b[1mDownloading https://homebrew.bintray.com/bottles/glib-2.62.3.mojave.bottle.t\u001b[0m\n",
      "\u001b[34m==>\u001b[0m \u001b[1mDownloading from https://akamai.bintray.com/4e/4e0516869bccfbdd8d34e0a6e9352\u001b[0m\n",
      "######################################################################## 100.0%\n",
      "\u001b[34m==>\u001b[0m \u001b[1mPouring glib-2.62.3.mojave.bottle.tar.gz\u001b[0m\n",
      "\u001b[34m==>\u001b[0m \u001b[1mCaveats\u001b[0m\n",
      "Bash completion has been installed to:\n",
      "  /usr/local/etc/bash_completion.d\n",
      "\u001b[34m==>\u001b[0m \u001b[1mSummary\u001b[0m\n",
      "🍺  /usr/local/Cellar/glib/2.62.3: 435 files, 15.4MB\n",
      "\u001b[32m==>\u001b[0m \u001b[1mInstalling graphviz dependency: \u001b[32mjasper\u001b[39m\u001b[0m\n",
      "\u001b[34m==>\u001b[0m \u001b[1mDownloading https://homebrew.bintray.com/bottles/jasper-2.0.16_1.mojave.bott\u001b[0m\n",
      "\u001b[34m==>\u001b[0m \u001b[1mDownloading from https://akamai.bintray.com/ed/ed0856ff9b2429852401e658f4045\u001b[0m\n",
      "######################################################################## 100.0%\n",
      "\u001b[34m==>\u001b[0m \u001b[1mPouring jasper-2.0.16_1.mojave.bottle.tar.gz\u001b[0m\n",
      "🍺  /usr/local/Cellar/jasper/2.0.16_1: 40 files, 1.4MB\n",
      "\u001b[32m==>\u001b[0m \u001b[1mInstalling graphviz dependency: \u001b[32mnetpbm\u001b[39m\u001b[0m\n",
      "\u001b[34m==>\u001b[0m \u001b[1mDownloading https://homebrew.bintray.com/bottles/netpbm-10.73.27.mojave.bott\u001b[0m\n",
      "\u001b[34m==>\u001b[0m \u001b[1mDownloading from https://akamai.bintray.com/46/469cb2a025a09badb8b1f8c8f591f\u001b[0m\n",
      "######################################################################## 100.0%\n",
      "\u001b[34m==>\u001b[0m \u001b[1mPouring netpbm-10.73.27.mojave.bottle.tar.gz\u001b[0m\n",
      "🍺  /usr/local/Cellar/netpbm/10.73.27: 741 files, 6.6MB\n",
      "\u001b[32m==>\u001b[0m \u001b[1mInstalling graphviz dependency: \u001b[32mgts\u001b[39m\u001b[0m\n",
      "\u001b[34m==>\u001b[0m \u001b[1mDownloading https://homebrew.bintray.com/bottles/gts-0.7.6_1.mojave.bottle.1\u001b[0m\n",
      "\u001b[34m==>\u001b[0m \u001b[1mDownloading from https://akamai.bintray.com/59/59aa61dfb703ff1c0cea21d248acf\u001b[0m\n",
      "######################################################################## 100.0%\n",
      "\u001b[34m==>\u001b[0m \u001b[1mPouring gts-0.7.6_1.mojave.bottle.1.tar.gz\u001b[0m\n",
      "🍺  /usr/local/Cellar/gts/0.7.6_1: 27 files, 1.1MB\n",
      "\u001b[32m==>\u001b[0m \u001b[1mInstalling graphviz dependency: \u001b[32mlibtool\u001b[39m\u001b[0m\n",
      "\u001b[34m==>\u001b[0m \u001b[1mDownloading https://homebrew.bintray.com/bottles/libtool-2.4.6_1.mojave.bott\u001b[0m\n",
      "\u001b[34m==>\u001b[0m \u001b[1mDownloading from https://akamai.bintray.com/c9/c92ab35c3706c255a36b733aa7a47\u001b[0m\n",
      "######################################################################## 100.0%\n",
      "\u001b[34m==>\u001b[0m \u001b[1mPouring libtool-2.4.6_1.mojave.bottle.tar.gz\u001b[0m\n",
      "\u001b[34m==>\u001b[0m \u001b[1mCaveats\u001b[0m\n",
      "In order to prevent conflicts with Apple's own libtool we have prepended a \"g\"\n",
      "so, you have instead: glibtool and glibtoolize.\n",
      "\u001b[34m==>\u001b[0m \u001b[1mSummary\u001b[0m\n",
      "🍺  /usr/local/Cellar/libtool/2.4.6_1: 71 files, 3.7MB\n",
      "\u001b[32m==>\u001b[0m \u001b[1mInstalling \u001b[32mgraphviz\u001b[39m\u001b[0m\n",
      "\u001b[34m==>\u001b[0m \u001b[1mDownloading https://homebrew.bintray.com/bottles/graphviz-2.42.2.mojave.bott\u001b[0m\n",
      "\u001b[34m==>\u001b[0m \u001b[1mDownloading from https://akamai.bintray.com/ab/abf938b188d15e2bf1b7447635f1e\u001b[0m\n",
      "######################################################################## 100.0%\n",
      "\u001b[34m==>\u001b[0m \u001b[1mPouring graphviz-2.42.2.mojave.bottle.tar.gz\u001b[0m\n",
      "🍺  /usr/local/Cellar/graphviz/2.42.2: 508 files, 11MB\n",
      "\u001b[34m==>\u001b[0m \u001b[1m`brew cleanup` has not been run in 30 days, running now...\u001b[0m\n",
      "Removing: /usr/local/Cellar/gettext/0.19.8.1... (1,934 files, 16.9MB)\n",
      "Pruned 2 symbolic links and 10 directories from /usr/local\n",
      "\u001b[32m==>\u001b[0m \u001b[1mCaveats\u001b[0m\n",
      "\u001b[34m==>\u001b[0m \u001b[1mgettext\u001b[0m\n",
      "gettext is keg-only, which means it was not symlinked into /usr/local,\n",
      "because macOS provides the BSD gettext library & some software gets confused if both are in the library path.\n",
      "\n",
      "If you need to have gettext first in your PATH run:\n",
      "  echo 'export PATH=\"/usr/local/opt/gettext/bin:$PATH\"' >> ~/.bash_profile\n",
      "\n",
      "For compilers to find gettext you may need to set:\n",
      "  export LDFLAGS=\"-L/usr/local/opt/gettext/lib\"\n",
      "  export CPPFLAGS=\"-I/usr/local/opt/gettext/include\"\n",
      "\n",
      "\u001b[34m==>\u001b[0m \u001b[1mlibffi\u001b[0m\n",
      "libffi is keg-only, which means it was not symlinked into /usr/local,\n",
      "because some formulae require a newer version of libffi.\n",
      "\n",
      "For compilers to find libffi you may need to set:\n",
      "  export LDFLAGS=\"-L/usr/local/opt/libffi/lib\"\n",
      "\n",
      "\u001b[34m==>\u001b[0m \u001b[1mopenssl@1.1\u001b[0m\n",
      "A CA file has been bootstrapped using certificates from the system\n",
      "keychain. To add additional certificates, place .pem files in\n",
      "  /usr/local/etc/openssl@1.1/certs\n",
      "\n",
      "and run\n",
      "  /usr/local/opt/openssl@1.1/bin/c_rehash\n",
      "\n",
      "openssl@1.1 is keg-only, which means it was not symlinked into /usr/local,\n",
      "because openssl/libressl is provided by macOS so don't link an incompatible version.\n",
      "\n",
      "If you need to have openssl@1.1 first in your PATH run:\n",
      "  echo 'export PATH=\"/usr/local/opt/openssl@1.1/bin:$PATH\"' >> ~/.bash_profile\n",
      "\n",
      "For compilers to find openssl@1.1 you may need to set:\n",
      "  export LDFLAGS=\"-L/usr/local/opt/openssl@1.1/lib\"\n",
      "  export CPPFLAGS=\"-I/usr/local/opt/openssl@1.1/include\"\n",
      "\n",
      "\u001b[34m==>\u001b[0m \u001b[1mreadline\u001b[0m\n",
      "readline is keg-only, which means it was not symlinked into /usr/local,\n",
      "because macOS provides the BSD libedit library, which shadows libreadline.\n",
      "In order to prevent conflicts when programs look for libreadline we are\n",
      "defaulting this GNU Readline installation to keg-only.\n",
      "\n",
      "For compilers to find readline you may need to set:\n",
      "  export LDFLAGS=\"-L/usr/local/opt/readline/lib\"\n",
      "  export CPPFLAGS=\"-I/usr/local/opt/readline/include\"\n",
      "\n",
      "\u001b[34m==>\u001b[0m \u001b[1msqlite\u001b[0m\n",
      "sqlite is keg-only, which means it was not symlinked into /usr/local,\n",
      "because macOS provides an older sqlite3.\n",
      "\n",
      "If you need to have sqlite first in your PATH run:\n",
      "  echo 'export PATH=\"/usr/local/opt/sqlite/bin:$PATH\"' >> ~/.bash_profile\n",
      "\n",
      "For compilers to find sqlite you may need to set:\n",
      "  export LDFLAGS=\"-L/usr/local/opt/sqlite/lib\"\n",
      "  export CPPFLAGS=\"-I/usr/local/opt/sqlite/include\"\n",
      "\n",
      "\u001b[34m==>\u001b[0m \u001b[1mpython\u001b[0m\n",
      "Python has been installed as\n",
      "  /usr/local/bin/python3\n",
      "\n",
      "Unversioned symlinks `python`, `python-config`, `pip` etc. pointing to\n",
      "`python3`, `python3-config`, `pip3` etc., respectively, have been installed into\n",
      "  /usr/local/opt/python/libexec/bin\n",
      "\n",
      "If you need Homebrew's Python 2.7 run\n",
      "  brew install python@2\n",
      "\n",
      "You can install Python packages with\n",
      "  pip3 install <package>\n",
      "They will install into the site-package directory\n",
      "  /usr/local/lib/python3.7/site-packages\n",
      "\n",
      "See: https://docs.brew.sh/Homebrew-and-Python\n",
      "\u001b[34m==>\u001b[0m \u001b[1mglib\u001b[0m\n",
      "Bash completion has been installed to:\n",
      "  /usr/local/etc/bash_completion.d\n",
      "\u001b[34m==>\u001b[0m \u001b[1mlibtool\u001b[0m\n",
      "In order to prevent conflicts with Apple's own libtool we have prepended a \"g\"\n",
      "so, you have instead: glibtool and glibtoolize.\n"
     ]
    }
   ],
   "source": [
    "!brew install graphviz"
   ]
  },
  {
   "cell_type": "code",
   "execution_count": 49,
   "metadata": {},
   "outputs": [
    {
     "data": {
      "text/plain": [
       "<Figure size 576x576 with 0 Axes>"
      ]
     },
     "execution_count": 49,
     "metadata": {},
     "output_type": "execute_result"
    },
    {
     "data": {
      "text/plain": [
       "<matplotlib.collections.PathCollection at 0x1c275a2630>"
      ]
     },
     "execution_count": 49,
     "metadata": {},
     "output_type": "execute_result"
    },
    {
     "data": {
      "text/plain": [
       "<matplotlib.contour.QuadContourSet at 0x1c275a3080>"
      ]
     },
     "execution_count": 49,
     "metadata": {},
     "output_type": "execute_result"
    },
    {
     "data": {
      "text/plain": [
       "<matplotlib.contour.QuadContourSet at 0x1c275a3358>"
      ]
     },
     "execution_count": 49,
     "metadata": {},
     "output_type": "execute_result"
    },
    {
     "data": {
      "text/plain": [
       "<matplotlib.legend.Legend at 0x1c275ac4a8>"
      ]
     },
     "execution_count": 49,
     "metadata": {},
     "output_type": "execute_result"
    },
    {
     "data": {
      "text/plain": [
       "Text(0.5, 0, 'Years')"
      ]
     },
     "execution_count": 49,
     "metadata": {},
     "output_type": "execute_result"
    },
    {
     "data": {
      "text/plain": [
       "Text(0, 0.5, 'Hits')"
      ]
     },
     "execution_count": 49,
     "metadata": {},
     "output_type": "execute_result"
    },
    {
     "data": {
      "text/plain": [
       "Text(0.5, 1.0, 'Three region partition - simple regression tree')"
      ]
     },
     "execution_count": 49,
     "metadata": {},
     "output_type": "execute_result"
    },
    {
     "data": {
      "image/png": "[encoded data removed]",
      "text/plain": [
       "<Figure size 576x576 with 1 Axes>"
      ]
     },
     "metadata": {},
     "output_type": "display_data"
    }
   ],
   "source": [
    "#Scatter plot\n",
    "log_preds = np.round(simple_tree.predict(X),2).flatten()\n",
    "color_dict = {'R1': '#440154FF', 'R2': '#29AF7FFF', 'R3': '#FDE725FF'}\n",
    "plt.figure(figsize = (8,8))\n",
    "plt.scatter(X.health, X.efficiency, c = log_preds, cmap = 'viridis')\n",
    "\n",
    "#Plot decision boundary\n",
    "N = 100\n",
    "X1 = np.linspace(0, 25, N)\n",
    "X2 = np.linspace(0, 250, N)\n",
    "X1, X2 = np.meshgrid(X1, X2)\n",
    "zz = np.array(  [simple_tree.predict( np.array([xx,yy]).reshape(1,-1)) \n",
    "                 for xx, yy in zip(np.ravel(X1), np.ravel(X2)) ] )\n",
    "Z = zz.reshape(X1.shape)\n",
    "plt.contourf( X1, X2, Z, 3, alpha = .1, cmap = 'viridis')\n",
    "plt.contour( X1, X2, Z, 3, alpha = 1, cmap = 'viridis')\n",
    "\n",
    "# Legend\n",
    "markers = [plt.Line2D([0,0],[0,0],color=color, marker='o', linestyle='') for color in color_dict.values()]\n",
    "plt.legend(markers, color_dict.keys(), numpoints=1)\n",
    "plt.xlabel('Years')\n",
    "plt.ylabel('Hits')\n",
    "plt.title('Three region partition - simple regression tree')\n",
    "plt.show()"
   ]
  },
  {
   "cell_type": "code",
   "execution_count": 51,
   "metadata": {},
   "outputs": [],
   "source": [
    "new_sleep=df"
   ]
  },
  {
   "cell_type": "code",
   "execution_count": 55,
   "metadata": {},
   "outputs": [],
   "source": [
    "#!pip install sklearn\n",
    "#!pip install pydotplus\n",
    "import pydotplus\n",
    "import numpy as np\n",
    "import pandas as pd\n",
    "from sklearn.model_selection import train_test_split\n",
    "from sklearn.tree import DecisionTreeClassifier\n",
    "from sklearn.metrics import accuracy_score\n",
    "from sklearn import tree\n",
    "from sklearn.tree import export_graphviz"
   ]
  },
  {
   "cell_type": "code",
   "execution_count": 67,
   "metadata": {},
   "outputs": [
    {
     "data": {
      "text/plain": [
       "DecisionTreeClassifier(class_weight=None, criterion='gini', max_depth=3,\n",
       "                       max_features=None, max_leaf_nodes=None,\n",
       "                       min_impurity_decrease=0.0, min_impurity_split=None,\n",
       "                       min_samples_leaf=3, min_samples_split=2,\n",
       "                       min_weight_fraction_leaf=0.0, presort=False,\n",
       "                       random_state=100, splitter='best')"
      ]
     },
     "execution_count": 67,
     "metadata": {},
     "output_type": "execute_result"
    },
    {
     "data": {
      "text/plain": [
       "array([4, 3, 4, 4, 3, 3, 4, 3, 3, 4, 3, 4, 4, 3, 3, 4, 4, 3, 3, 4, 3, 4,\n",
       "       4, 3, 3, 3, 4, 3, 4, 3, 3, 4, 3, 3, 4, 3, 4, 3, 3, 4, 3, 4, 5, 4,\n",
       "       3, 4, 3, 4, 3, 3, 4, 4, 4, 4, 3, 4, 5, 3, 3, 3, 4, 4, 3, 3, 4, 3,\n",
       "       4, 3, 3, 3, 4, 3, 5, 4, 4, 4, 3, 4, 3, 3, 3, 3, 4, 4, 3, 3, 4, 4,\n",
       "       4, 4, 4, 3, 3, 5, 4, 3, 4, 4, 5, 4, 3, 4, 3, 3, 4, 4, 4, 3, 3, 3,\n",
       "       3, 5, 3, 3, 3, 5, 5, 4, 4, 4, 3, 4, 4, 4, 4, 3, 5, 3, 4, 3, 4, 3,\n",
       "       3, 4, 4, 4, 4, 3, 3, 4, 4, 3, 3, 3, 5, 4, 4, 4, 4, 4, 5, 5, 3, 4,\n",
       "       4, 4, 4, 4, 5, 5, 4, 4, 3, 3, 5, 3, 3, 3, 5, 4, 3, 3, 5, 4, 3, 4,\n",
       "       2, 5, 2, 3, 4, 4, 3, 4, 3, 4, 3, 4, 4, 4, 3, 4, 5, 4, 4, 4, 4, 4,\n",
       "       3, 5, 4, 4, 4, 4, 4, 4, 3, 4, 3, 3, 4, 4, 4, 3, 4, 3, 3, 3, 4, 5,\n",
       "       3, 4, 4, 3, 4, 4, 3, 3, 4, 3, 4, 4, 3, 3, 4, 3, 4, 4, 4, 3, 3, 3,\n",
       "       3, 4, 4, 5, 3, 3, 3, 4, 4, 5, 3, 4, 3, 4, 4, 4, 3, 4, 3, 4, 3, 3,\n",
       "       4, 4, 4, 3, 3, 5, 3, 4, 4, 3, 3, 4, 4, 3, 3, 3, 3, 4, 4, 3, 4, 3,\n",
       "       4, 3, 3, 4, 4, 3, 4, 5, 4, 5, 4, 4])"
      ]
     },
     "execution_count": 67,
     "metadata": {},
     "output_type": "execute_result"
    },
    {
     "data": {
      "text/plain": [
       "44.63087248322148"
      ]
     },
     "execution_count": 67,
     "metadata": {},
     "output_type": "execute_result"
    },
    {
     "data": {
      "text/plain": [
       "DecisionTreeClassifier(class_weight=None, criterion='entropy', max_depth=3,\n",
       "                       max_features=None, max_leaf_nodes=None,\n",
       "                       min_impurity_decrease=0.0, min_impurity_split=None,\n",
       "                       min_samples_leaf=5, min_samples_split=2,\n",
       "                       min_weight_fraction_leaf=0.0, presort=False,\n",
       "                       random_state=100, splitter='best')"
      ]
     },
     "execution_count": 67,
     "metadata": {},
     "output_type": "execute_result"
    },
    {
     "data": {
      "text/plain": [
       "array([3, 2, 4, 4, 3, 3, 3, 3, 3, 4, 3, 4, 4, 1, 3, 4, 4, 3, 3, 4, 3, 4,\n",
       "       4, 3, 3, 3, 4, 2, 4, 3, 3, 4, 1, 3, 4, 3, 4, 3, 3, 4, 3, 4, 4, 4,\n",
       "       3, 4, 3, 4, 3, 3, 4, 4, 4, 4, 3, 4, 4, 3, 3, 3, 4, 4, 1, 1, 4, 3,\n",
       "       4, 2, 3, 2, 4, 3, 4, 4, 4, 4, 3, 4, 3, 3, 3, 3, 4, 4, 2, 3, 4, 4,\n",
       "       3, 4, 4, 2, 1, 4, 3, 1, 4, 3, 4, 3, 2, 4, 1, 2, 4, 4, 4, 3, 3, 3,\n",
       "       3, 4, 3, 3, 3, 4, 4, 4, 3, 4, 1, 4, 4, 4, 4, 3, 4, 3, 3, 3, 4, 3,\n",
       "       1, 4, 4, 3, 4, 2, 3, 4, 4, 3, 1, 3, 4, 4, 4, 4, 4, 4, 4, 4, 3, 4,\n",
       "       3, 4, 4, 4, 4, 4, 4, 3, 1, 3, 4, 2, 3, 3, 4, 4, 1, 3, 4, 4, 3, 4,\n",
       "       3, 4, 3, 3, 4, 4, 3, 4, 3, 4, 3, 4, 3, 3, 2, 4, 4, 4, 4, 4, 4, 4,\n",
       "       2, 4, 4, 4, 4, 4, 4, 4, 3, 4, 2, 3, 4, 4, 4, 1, 4, 3, 3, 3, 4, 4,\n",
       "       3, 4, 4, 3, 4, 4, 3, 3, 4, 3, 4, 4, 3, 2, 4, 3, 4, 4, 4, 3, 3, 2,\n",
       "       3, 4, 4, 4, 3, 2, 3, 4, 4, 4, 3, 4, 3, 4, 4, 4, 3, 3, 3, 4, 2, 3,\n",
       "       4, 4, 4, 3, 3, 4, 3, 3, 4, 1, 3, 4, 4, 1, 3, 3, 3, 4, 4, 3, 4, 2,\n",
       "       4, 3, 2, 4, 4, 3, 4, 4, 4, 4, 4, 4])"
      ]
     },
     "execution_count": 67,
     "metadata": {},
     "output_type": "execute_result"
    },
    {
     "data": {
      "text/plain": [
       "44.63087248322148"
      ]
     },
     "execution_count": 67,
     "metadata": {},
     "output_type": "execute_result"
    },
    {
     "data": {
      "image/png": "[encoded data removed]",
      "text/plain": [
       "<IPython.core.display.Image object>"
      ]
     },
     "execution_count": 67,
     "metadata": {},
     "output_type": "execute_result"
    }
   ],
   "source": [
    "X = new_sleep.drop(columns = ['quality'])\n",
    "Y = new_sleep['quality']\n",
    "# Decision Tree\n",
    "sleep_train, sleep_test, Quality_train, Quality_test = train_test_split( X, Y, test_size = 0.3, random_state = 100)\n",
    "# Classsifier with criterion as gini index\n",
    "clf_gini = DecisionTreeClassifier(criterion = \"gini\", random_state =100,\n",
    "                                  max_depth = 3, min_samples_leaf=3)\n",
    "\n",
    "\n",
    "clf_gini.fit(sleep_train, Quality_train)\n",
    "Quality_pred = clf_gini.predict(sleep_test)\n",
    "Quality_pred\n",
    "accuracy_score(Quality_test,Quality_pred)*100\n",
    "# Classifier with criterion information gain\n",
    "\n",
    "clf_entropy = DecisionTreeClassifier(criterion = \"entropy\", random_state = 100,\n",
    " max_depth=3, min_samples_leaf=5)\n",
    "clf_entropy.fit(sleep_train, Quality_train)\n",
    "y_pred_en = clf_entropy.predict(sleep_test)\n",
    "y_pred_en\n",
    "accuracy_score(Quality_test,y_pred_en)*100\n",
    "# Visualize data\n",
    "from sklearn.externals.six import StringIO  \n",
    "from IPython.display import Image  \n",
    "from sklearn.tree import export_graphviz\n",
    "import pydotplus\n",
    "dot_data = tree.export_graphviz(clf_gini,                    \n",
    "                                out_file=None,\n",
    "                                filled=True,\n",
    "                                rounded=True)\n",
    "graph = pydotplus.graph_from_dot_data(dot_data)\n",
    "Image(graph.create_png())"
   ]
  },
  {
   "cell_type": "code",
   "execution_count": null,
   "metadata": {},
   "outputs": [],
   "source": []
  },
  {
   "cell_type": "code",
   "execution_count": null,
   "metadata": {},
   "outputs": [],
   "source": []
  },
  {
   "cell_type": "code",
   "execution_count": null,
   "metadata": {},
   "outputs": [],
   "source": []
  },
  {
   "cell_type": "code",
   "execution_count": 71,
   "metadata": {},
   "outputs": [],
   "source": [
    "from sklearn import datasets \n",
    "from sklearn.metrics import confusion_matrix \n",
    "from sklearn.model_selection import train_test_split \n"
   ]
  },
  {
   "cell_type": "code",
   "execution_count": 79,
   "metadata": {},
   "outputs": [],
   "source": [
    "\n",
    "# X -> features, y -> label \n",
    "X = df.drop(['quality'],axis=1)\n",
    "y = df[['quality']]\n",
    "  \n",
    "# dividing X, y into train and test data \n",
    "X_train, X_test, y_train, y_test = train_test_split(X, y, random_state = 0) \n",
    "  \n",
    "# training a DescisionTreeClassifier \n",
    "from sklearn.tree import DecisionTreeClassifier \n",
    "dtree_model = DecisionTreeClassifier(max_depth = 2).fit(X_train, y_train) \n",
    "dtree_predictions = dtree_model.predict(X_test) \n",
    "  \n",
    "# creating a confusion matrix \n",
    "cm = confusion_matrix(y_test, dtree_predictions) "
   ]
  },
  {
   "cell_type": "code",
   "execution_count": null,
   "metadata": {},
   "outputs": [],
   "source": []
  },
  {
   "cell_type": "code",
   "execution_count": 104,
   "metadata": {},
   "outputs": [
    {
     "ename": "ValueError",
     "evalue": "Number of features of the model must match the input. Model n_features is 14 and input n_features is 4 ",
     "output_type": "error",
     "traceback": [
      "\u001b[0;31m---------------------------------------------------------------------------\u001b[0m",
      "\u001b[0;31mValueError\u001b[0m                                Traceback (most recent call last)",
      "\u001b[0;32m<ipython-input-104-dc97e588f457>\u001b[0m in \u001b[0;36m<module>\u001b[0;34m\u001b[0m\n\u001b[0;32m----> 1\u001b[0;31m \u001b[0mdtree_model\u001b[0m\u001b[0;34m.\u001b[0m\u001b[0mscore\u001b[0m\u001b[0;34m(\u001b[0m\u001b[0mX_test\u001b[0m\u001b[0;34m,\u001b[0m\u001b[0my_test\u001b[0m\u001b[0;34m)\u001b[0m\u001b[0;34m\u001b[0m\u001b[0;34m\u001b[0m\u001b[0m\n\u001b[0m",
      "\u001b[0;32m~/anaconda3/lib/python3.7/site-packages/sklearn/base.py\u001b[0m in \u001b[0;36mscore\u001b[0;34m(self, X, y, sample_weight)\u001b[0m\n\u001b[1;32m    355\u001b[0m         \"\"\"\n\u001b[1;32m    356\u001b[0m         \u001b[0;32mfrom\u001b[0m \u001b[0;34m.\u001b[0m\u001b[0mmetrics\u001b[0m \u001b[0;32mimport\u001b[0m \u001b[0maccuracy_score\u001b[0m\u001b[0;34m\u001b[0m\u001b[0;34m\u001b[0m\u001b[0m\n\u001b[0;32m--> 357\u001b[0;31m         \u001b[0;32mreturn\u001b[0m \u001b[0maccuracy_score\u001b[0m\u001b[0;34m(\u001b[0m\u001b[0my\u001b[0m\u001b[0;34m,\u001b[0m \u001b[0mself\u001b[0m\u001b[0;34m.\u001b[0m\u001b[0mpredict\u001b[0m\u001b[0;34m(\u001b[0m\u001b[0mX\u001b[0m\u001b[0;34m)\u001b[0m\u001b[0;34m,\u001b[0m \u001b[0msample_weight\u001b[0m\u001b[0;34m=\u001b[0m\u001b[0msample_weight\u001b[0m\u001b[0;34m)\u001b[0m\u001b[0;34m\u001b[0m\u001b[0;34m\u001b[0m\u001b[0m\n\u001b[0m\u001b[1;32m    358\u001b[0m \u001b[0;34m\u001b[0m\u001b[0m\n\u001b[1;32m    359\u001b[0m \u001b[0;34m\u001b[0m\u001b[0m\n",
      "\u001b[0;32m~/anaconda3/lib/python3.7/site-packages/sklearn/tree/tree.py\u001b[0m in \u001b[0;36mpredict\u001b[0;34m(self, X, check_input)\u001b[0m\n\u001b[1;32m    428\u001b[0m         \"\"\"\n\u001b[1;32m    429\u001b[0m         \u001b[0mcheck_is_fitted\u001b[0m\u001b[0;34m(\u001b[0m\u001b[0mself\u001b[0m\u001b[0;34m,\u001b[0m \u001b[0;34m'tree_'\u001b[0m\u001b[0;34m)\u001b[0m\u001b[0;34m\u001b[0m\u001b[0;34m\u001b[0m\u001b[0m\n\u001b[0;32m--> 430\u001b[0;31m         \u001b[0mX\u001b[0m \u001b[0;34m=\u001b[0m \u001b[0mself\u001b[0m\u001b[0;34m.\u001b[0m\u001b[0m_validate_X_predict\u001b[0m\u001b[0;34m(\u001b[0m\u001b[0mX\u001b[0m\u001b[0;34m,\u001b[0m \u001b[0mcheck_input\u001b[0m\u001b[0;34m)\u001b[0m\u001b[0;34m\u001b[0m\u001b[0;34m\u001b[0m\u001b[0m\n\u001b[0m\u001b[1;32m    431\u001b[0m         \u001b[0mproba\u001b[0m \u001b[0;34m=\u001b[0m \u001b[0mself\u001b[0m\u001b[0;34m.\u001b[0m\u001b[0mtree_\u001b[0m\u001b[0;34m.\u001b[0m\u001b[0mpredict\u001b[0m\u001b[0;34m(\u001b[0m\u001b[0mX\u001b[0m\u001b[0;34m)\u001b[0m\u001b[0;34m\u001b[0m\u001b[0;34m\u001b[0m\u001b[0m\n\u001b[1;32m    432\u001b[0m         \u001b[0mn_samples\u001b[0m \u001b[0;34m=\u001b[0m \u001b[0mX\u001b[0m\u001b[0;34m.\u001b[0m\u001b[0mshape\u001b[0m\u001b[0;34m[\u001b[0m\u001b[0;36m0\u001b[0m\u001b[0;34m]\u001b[0m\u001b[0;34m\u001b[0m\u001b[0;34m\u001b[0m\u001b[0m\n",
      "\u001b[0;32m~/anaconda3/lib/python3.7/site-packages/sklearn/tree/tree.py\u001b[0m in \u001b[0;36m_validate_X_predict\u001b[0;34m(self, X, check_input)\u001b[0m\n\u001b[1;32m    400\u001b[0m                              \u001b[0;34m\"match the input. Model n_features is %s and \"\u001b[0m\u001b[0;34m\u001b[0m\u001b[0;34m\u001b[0m\u001b[0m\n\u001b[1;32m    401\u001b[0m                              \u001b[0;34m\"input n_features is %s \"\u001b[0m\u001b[0;34m\u001b[0m\u001b[0;34m\u001b[0m\u001b[0m\n\u001b[0;32m--> 402\u001b[0;31m                              % (self.n_features_, n_features))\n\u001b[0m\u001b[1;32m    403\u001b[0m \u001b[0;34m\u001b[0m\u001b[0m\n\u001b[1;32m    404\u001b[0m         \u001b[0;32mreturn\u001b[0m \u001b[0mX\u001b[0m\u001b[0;34m\u001b[0m\u001b[0;34m\u001b[0m\u001b[0m\n",
      "\u001b[0;31mValueError\u001b[0m: Number of features of the model must match the input. Model n_features is 14 and input n_features is 4 "
     ]
    }
   ],
   "source": []
  },
  {
   "cell_type": "code",
   "execution_count": 89,
   "metadata": {},
   "outputs": [
    {
     "data": {
      "text/plain": [
       "249"
      ]
     },
     "execution_count": 89,
     "metadata": {},
     "output_type": "execute_result"
    },
    {
     "data": {
      "text/plain": [
       "(249, 1)"
      ]
     },
     "execution_count": 89,
     "metadata": {},
     "output_type": "execute_result"
    }
   ],
   "source": [
    "len(dtree_predictions)\n",
    "y_test.shape\n"
   ]
  },
  {
   "cell_type": "code",
   "execution_count": 96,
   "metadata": {},
   "outputs": [
    {
     "data": {
      "text/plain": [
       "0.4578313253012048"
      ]
     },
     "execution_count": 96,
     "metadata": {},
     "output_type": "execute_result"
    }
   ],
   "source": [
    "np.mean(dtree_predictions==y_test.quality)"
   ]
  },
  {
   "cell_type": "code",
   "execution_count": 193,
   "metadata": {},
   "outputs": [
    {
     "data": {
      "text/plain": [
       "0.5341365461847389"
      ]
     },
     "execution_count": 193,
     "metadata": {},
     "output_type": "execute_result"
    }
   ],
   "source": [
    "from sklearn import datasets \n",
    "from sklearn.metrics import confusion_matrix \n",
    "from sklearn.model_selection import train_test_split \n",
    "  \n",
    "\n",
    "# X -> features, y -> label \n",
    "\n",
    "  \n",
    "# dividing X, y into train and test data \n",
    "X_train, X_test, y_train, y_test = train_test_split(X, y, random_state = 0) \n",
    "  \n",
    "# training a linear SVM classifier \n",
    "from sklearn.svm import SVC \n",
    "svm_model_linear = SVC(kernel = 'linear', C = 1).fit(X_train, y_train) \n",
    "svm_predictions = svm_model_linear.predict(X_test) \n",
    "  \n",
    "# model accuracy for X_test   \n",
    "accuracy = svm_model_linear.score(X_test, y_test) \n",
    "  \n",
    "# creating a confusion matrix \n",
    "cm = confusion_matrix(y_test, svm_predictions) \n",
    "accuracy"
   ]
  },
  {
   "cell_type": "code",
   "execution_count": 112,
   "metadata": {},
   "outputs": [
    {
     "data": {
      "text/plain": [
       "0.5261044176706827"
      ]
     },
     "execution_count": 112,
     "metadata": {},
     "output_type": "execute_result"
    }
   ],
   "source": [
    "\n",
    "np.mean(svm_predictions==y_test.quality)\n"
   ]
  },
  {
   "cell_type": "code",
   "execution_count": 106,
   "metadata": {},
   "outputs": [
    {
     "data": {
      "text/plain": [
       "0.5341365461847389"
      ]
     },
     "execution_count": 106,
     "metadata": {},
     "output_type": "execute_result"
    }
   ],
   "source": [
    "accuracy"
   ]
  },
  {
   "cell_type": "code",
   "execution_count": 194,
   "metadata": {},
   "outputs": [
    {
     "name": "stdout",
     "output_type": "stream",
     "text": [
      "0.5060240963855421\n"
     ]
    }
   ],
   "source": [
    "from sklearn import datasets \n",
    "from sklearn.metrics import confusion_matrix \n",
    "from sklearn.model_selection import train_test_split \n",
    "  \n",
    "\n",
    "\n",
    "\n",
    "  \n",
    "# dividing X, y into train and test data \n",
    "X_train, X_test, y_train, y_test = train_test_split(X, y, random_state = 0) \n",
    "  \n",
    "# training a KNN classifier \n",
    "from sklearn.neighbors import KNeighborsClassifier \n",
    "knn = KNeighborsClassifier(n_neighbors = 7).fit(X_train, y_train) \n",
    "  \n",
    "# accuracy on X_test \n",
    "accuracy = knn.score(X_test, y_test) \n",
    "print (accuracy) \n",
    "  \n",
    "# creating a confusion matrix \n",
    "knn_predictions = knn.predict(X_test)  \n",
    "cm = confusion_matrix(y_test, knn_predictions)"
   ]
  },
  {
   "cell_type": "code",
   "execution_count": 195,
   "metadata": {},
   "outputs": [
    {
     "name": "stdout",
     "output_type": "stream",
     "text": [
      "0.46184738955823296\n"
     ]
    }
   ],
   "source": [
    "from sklearn import datasets \n",
    "from sklearn.metrics import confusion_matrix \n",
    "from sklearn.model_selection import train_test_split \n",
    "  \n",
    "#X=df.drop(['quality','avg_actual_sleeptime', 'ontime_bed','light','outside_noise','weekday_midnight','weekend_midnight'],axis=1)\n",
    "  \n",
    "# dividing X, y into train and test data \n",
    "X_train, X_test, y_train, y_test = train_test_split(X, y, random_state = 0) \n",
    "  \n",
    "# training a Naive Bayes classifier \n",
    "from sklearn.naive_bayes import GaussianNB \n",
    "gnb = GaussianNB().fit(X_train, y_train) \n",
    "gnb_predictions = gnb.predict(X_test) \n",
    "  \n",
    "# accuracy on X_test \n",
    "accuracy = gnb.score(X_test, y_test) \n",
    "print(accuracy) \n",
    "  \n",
    "# creating a confusion matrix \n",
    "cm = confusion_matrix(y_test, gnb_predictions) "
   ]
  },
  {
   "cell_type": "code",
   "execution_count": null,
   "metadata": {},
   "outputs": [],
   "source": []
  }
 ],
 "metadata": {
  "kernelspec": {
   "display_name": "Python 3",
   "language": "python",
   "name": "python3"
  },
  "language_info": {
   "codemirror_mode": {
    "name": "ipython",
    "version": 3
   },
   "file_extension": ".py",
   "mimetype": "text/x-python",
   "name": "python",
   "nbconvert_exporter": "python",
   "pygments_lexer": "ipython3",
   "version": "3.7.3"
  }
 },
 "nbformat": 4,
 "nbformat_minor": 4
}
